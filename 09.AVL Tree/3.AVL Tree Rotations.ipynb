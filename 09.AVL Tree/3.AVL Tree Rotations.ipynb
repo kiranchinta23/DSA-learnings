{
 "cells": [
  {
   "attachments": {},
   "cell_type": "markdown",
   "id": "0abdfe3f-d21c-46ac-9008-a5c9712e94cb",
   "metadata": {},
   "source": [
    "# AVL Tree Rotations\n",
    "<img src=\"../images/Screenshot 2025-02-28 at 2.20.31 PM.png\"/>"
   ]
  },
  {
   "cell_type": "markdown",
   "id": "1a1d5f6b-cd19-4584-a642-0a1f6930097b",
   "metadata": {},
   "source": [
    "### 1. LL Imbalance - rotate right"
   ]
  },
  {
   "attachments": {},
   "cell_type": "markdown",
   "id": "ae420688-12d4-49dd-b58b-bc65385f05fe",
   "metadata": {},
   "source": [
    "<img src=\"../images/Screenshot 2025-02-28 at 2.28.06 PM.png\"/>"
   ]
  },
  {
   "cell_type": "code",
   "execution_count": 6,
   "id": "cd22c9a3-3a7e-415d-902a-6171d8998c6a",
   "metadata": {},
   "outputs": [],
   "source": [
    "\n",
    "\n",
    "def rotate_right(troot):\n",
    "    ## ll - imbalance -> rotate right\n",
    "    b = troot.left\n",
    "    b_r = b.right\n",
    "\n",
    "    b.right = troot\n",
    "    troot.left = b_r\n",
    "\n",
    "    # update heights\n",
    "    b.height = max(b.left.height,b.right.height)+1\n",
    "    troot.height = max(troot.left.height,troot.right.height)+1\n",
    "\n",
    "    return b # return new troot"
   ]
  },
  {
   "cell_type": "markdown",
   "id": "6b3dc527-f3ec-41e6-9e71-dae43151f433",
   "metadata": {},
   "source": [
    "### 2. RR Imbalance - rotate left"
   ]
  },
  {
   "attachments": {},
   "cell_type": "markdown",
   "id": "9cb62c7d-16d0-4adb-a450-bde557e62a74",
   "metadata": {},
   "source": [
    "<img src=\"../images/Screenshot 2025-02-28 at 2.34.28 PM.png\"/>"
   ]
  },
  {
   "cell_type": "code",
   "execution_count": 7,
   "id": "5672697d-64ef-4e20-9761-f0688c881821",
   "metadata": {},
   "outputs": [],
   "source": [
    "def rotate_left(troot):\n",
    "    ## rr imbalance - rotate left\n",
    "    b = troot.right\n",
    "    b_l = b.left\n",
    "\n",
    "    b.left = troot\n",
    "    troot.right = b_l\n",
    "\n",
    "    # update heights\n",
    "    b.height = max(b.left.height,b.right.height)+1\n",
    "    troot.height = max(troot.left.height,troot.right.height)+1\n",
    "\n",
    "    return b # return new troot"
   ]
  },
  {
   "cell_type": "markdown",
   "id": "cecdbacb-578f-4f7c-a2ec-18988dfdddc7",
   "metadata": {},
   "source": [
    "### 3. LR Imbalance (rotate right and left)"
   ]
  },
  {
   "attachments": {},
   "cell_type": "markdown",
   "id": "9e64e5e7-85c4-4214-b944-edf949f8fb29",
   "metadata": {},
   "source": [
    "<img src=\"../images/Screenshot 2025-02-28 at 2.40.25 PM.png\"/>"
   ]
  },
  {
   "cell_type": "code",
   "execution_count": 9,
   "id": "183dbc29-a8df-4ee2-b128-5cd5a00dc47a",
   "metadata": {},
   "outputs": [
    {
     "ename": "NameError",
     "evalue": "name 'troot' is not defined",
     "output_type": "error",
     "traceback": [
      "\u001b[0;31m---------------------------------------------------------------------------\u001b[0m",
      "\u001b[0;31mNameError\u001b[0m                                 Traceback (most recent call last)",
      "Cell \u001b[0;32mIn[9], line 2\u001b[0m\n\u001b[1;32m      1\u001b[0m \u001b[38;5;66;03m#Lr imbalance\u001b[39;00m\n\u001b[0;32m----> 2\u001b[0m troot\u001b[38;5;241m.\u001b[39mleft \u001b[38;5;241m=\u001b[39m rr_rotation(\u001b[43mtroot\u001b[49m\u001b[38;5;241m.\u001b[39mleft)\n\u001b[1;32m      3\u001b[0m \u001b[38;5;28;01mreturn\u001b[39;00m ll_rotation(troot)\n",
      "\u001b[0;31mNameError\u001b[0m: name 'troot' is not defined"
     ]
    }
   ],
   "source": [
    "#Lr imbalance\n",
    "troot.left = rr_rotation(troot.left)\n",
    "return ll_rotation(troot)"
   ]
  },
  {
   "cell_type": "markdown",
   "id": "acdbefa1-fd7c-4df5-84fd-af4925202239",
   "metadata": {},
   "source": [
    "### 4. RL-Imbalance (rotate left & right)"
   ]
  },
  {
   "attachments": {},
   "cell_type": "markdown",
   "id": "58fb329e-d358-470c-a34f-f32927edb0bc",
   "metadata": {},
   "source": [
    "<img src=\"../images/Screenshot 2025-02-28 at 2.45.07 PM.png\"/>"
   ]
  },
  {
   "cell_type": "code",
   "execution_count": 5,
   "id": "2e21c2c4-e833-44a8-827d-fb1a85a8328b",
   "metadata": {},
   "outputs": [],
   "source": [
    "# RL imbalance\n",
    "troot.right = ll_rotation(troot.right)\n",
    "return rr_rotation(troot)"
   ]
  },
  {
   "cell_type": "markdown",
   "id": "ea266970-5bb1-44b9-bbec-c95d443503ea",
   "metadata": {},
   "source": [
    "# when to apply when?"
   ]
  },
  {
   "cell_type": "code",
   "execution_count": null,
   "id": "c7978a6e-7506-4629-8675-323257fbf5fd",
   "metadata": {},
   "outputs": [],
   "source": [
    "def balance_tree(self, troot):\n",
    "        \"\"\"\n",
    "        Checks balance factor and applies rotations if necessary.\n",
    "        \"\"\"\n",
    "        balance = self.balance_factor(troot)\n",
    "\n",
    "        # Left Heavy (LL or LR case)\n",
    "        if balance > 1:\n",
    "            if self.balance_factor(troot.left) > 0:\n",
    "                return self.rotate_right(troot)  # LL Case\n",
    "            else:\n",
    "                troot.left = self.rotate_left(troot.left)  # LR Case\n",
    "                return self.rotate_right(troot)\n",
    "\n",
    "        # Right Heavy (RR or RL case)\n",
    "        if balance < -1:\n",
    "            if self.balance_factor(troot.right) < 0:\n",
    "                return self.rotate_left(troot)  # RR Case\n",
    "            else:\n",
    "                troot.right = self.rotate_right(troot.right)  # RL Case\n",
    "                return self.rotate_left(troot)\n",
    "\n",
    "        return troot  # Return unchanged if balanced"
   ]
  }
 ],
 "metadata": {
  "kernelspec": {
   "display_name": "Python 3 (ipykernel)",
   "language": "python",
   "name": "python3"
  },
  "language_info": {
   "codemirror_mode": {
    "name": "ipython",
    "version": 3
   },
   "file_extension": ".py",
   "mimetype": "text/x-python",
   "name": "python",
   "nbconvert_exporter": "python",
   "pygments_lexer": "ipython3",
   "version": "3.13.1"
  }
 },
 "nbformat": 4,
 "nbformat_minor": 5
}
