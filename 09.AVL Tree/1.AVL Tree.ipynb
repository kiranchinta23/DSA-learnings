{
 "cells": [
  {
   "attachments": {},
   "cell_type": "markdown",
   "id": "8167beaf-55f2-47c5-8b43-4110fea84f5a",
   "metadata": {},
   "source": [
    "# AVL Tree\n",
    "<img src=\"../images/Screenshot 2025-02-28 at 2.19.12 PM.png\"/>"
   ]
  },
  {
   "cell_type": "code",
   "execution_count": null,
   "id": "140b9dbe-b547-4642-8fbd-b83439325f9d",
   "metadata": {},
   "outputs": [],
   "source": []
  }
 ],
 "metadata": {
  "kernelspec": {
   "display_name": "Python 3 (ipykernel)",
   "language": "python",
   "name": "python3"
  },
  "language_info": {
   "codemirror_mode": {
    "name": "ipython",
    "version": 3
   },
   "file_extension": ".py",
   "mimetype": "text/x-python",
   "name": "python",
   "nbconvert_exporter": "python",
   "pygments_lexer": "ipython3",
   "version": "3.13.1"
  }
 },
 "nbformat": 4,
 "nbformat_minor": 5
}
