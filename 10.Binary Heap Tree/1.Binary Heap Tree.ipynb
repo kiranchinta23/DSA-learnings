{
 "cells": [
  {
   "cell_type": "markdown",
   "id": "33149ec4-fb1e-4e55-8010-4b8de31fe1e7",
   "metadata": {},
   "source": [
    "# Binary Heap Tree"
   ]
  },
  {
   "cell_type": "markdown",
   "id": "75ac8b31-2983-4066-bc90-740d5fbee587",
   "metadata": {},
   "source": [
    "- Binary Heap Tree must be a complete Binary Tree\n",
    "- it should be max heap or min heap\n",
    "    - max heap : all parent nodes should be greater than their respective child nodes\n",
    "    - min Heap : all parent Nodes should be smaller than their respective child nodes\n",
    "- Duplicates can be present"
   ]
  },
  {
   "attachments": {},
   "cell_type": "markdown",
   "id": "7b251fce-bf75-4ae7-8319-c98ef828a520",
   "metadata": {},
   "source": [
    "<img src=\"../images/Screenshot 2025-03-10 at 8.31.05 PM.png\"/>"
   ]
  },
  {
   "cell_type": "code",
   "execution_count": null,
   "id": "21eef3fe-facb-4cc2-9686-1e768f497b8a",
   "metadata": {},
   "outputs": [],
   "source": []
  }
 ],
 "metadata": {
  "kernelspec": {
   "display_name": "Python 3 (ipykernel)",
   "language": "python",
   "name": "python3"
  },
  "language_info": {
   "codemirror_mode": {
    "name": "ipython",
    "version": 3
   },
   "file_extension": ".py",
   "mimetype": "text/x-python",
   "name": "python",
   "nbconvert_exporter": "python",
   "pygments_lexer": "ipython3",
   "version": "3.13.1"
  }
 },
 "nbformat": 4,
 "nbformat_minor": 5
}
