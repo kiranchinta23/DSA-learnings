{
 "cells": [
  {
   "cell_type": "code",
   "execution_count": 86,
   "id": "19d1d17b-ac10-4d09-a919-f54ff43df0b0",
   "metadata": {},
   "outputs": [],
   "source": [
    "class Node:\n",
    "    def __init__(self,element):\n",
    "        self.element = element\n",
    "        self.left = None\n",
    "        self.right = None\n",
    "        self.height = 0\n",
    "\n",
    "class AVLTree:\n",
    "    def __init__(self):\n",
    "        self.root = None\n",
    "\n",
    "    def height(self,troot):\n",
    "        if troot is None:\n",
    "            return -1\n",
    "        else:\n",
    "            return troot.height\n",
    "\n",
    "    def balance_factor(self,troot):\n",
    "        if troot is None:\n",
    "            return 0\n",
    "        else:\n",
    "            return self.height(troot.left) - self.height(troot.right)\n",
    "\n",
    "    def update_height(self,troot):\n",
    "        if troot:\n",
    "            troot.height = max(self.height(troot.left),self.height(troot.right))+1\n",
    "\n",
    "    def rotate_right(self,troot):\n",
    "        ## ll - imbalance -> rotate right\n",
    "        b = troot.left\n",
    "        b_r = b.right\n",
    "    \n",
    "        b.right = troot\n",
    "        troot.left = b_r\n",
    "    \n",
    "        # update heights\n",
    "        self.update_height(b)\n",
    "        self.update_height(troot)\n",
    "    \n",
    "        return b # return new troot\n",
    "\n",
    "    def rotate_left(self,troot):\n",
    "        ## rr imbalance - rotate left\n",
    "        b = troot.right\n",
    "        b_l = b.left\n",
    "    \n",
    "        b.left = troot\n",
    "        troot.right = b_l\n",
    "    \n",
    "        # update heights\n",
    "        self.update_height(b)\n",
    "        self.update_height(troot)\n",
    "    \n",
    "        return b # return new troot\n",
    "\n",
    "    # def r_insert(self, troot, e):\n",
    "    #     if troot is None:\n",
    "    #         return Node(e)\n",
    "\n",
    "    #     if e < troot.element:\n",
    "    #         troot.left = self.r_insert(troot.left, e)\n",
    "    #     elif e > troot.element:\n",
    "    #         troot.right = self.r_insert(troot.right, e)\n",
    "    #     else:\n",
    "    #         return troot  # No duplicates allowed\n",
    "\n",
    "    #     # Update height of the current node\n",
    "    #     self.update_height(troot)\n",
    "\n",
    "    #     # Balance Factor Check\n",
    "    #     balance = self.balance_factor(troot)\n",
    "\n",
    "    #     # LL imbalance\n",
    "    #     if balance > 1 and e < troot.left.element:\n",
    "    #         return self.rotate_right(troot)\n",
    "\n",
    "    #     # RR imbalance\n",
    "    #     if balance < -1 and e > troot.right.element:\n",
    "    #         return self.rotate_left(troot)\n",
    "\n",
    "    #     # LR imbalance\n",
    "    #     if balance > 1 and e > troot.left.element:\n",
    "    #         troot.left = self.rotate_left(troot.left)\n",
    "    #         return self.rotate_right(troot)\n",
    "\n",
    "    #     # RL imbalance\n",
    "    #     if balance < -1 and e < troot.right.element:\n",
    "    #         troot.right = self.rotate_right(troot.right)\n",
    "    #         return self.rotate_left(troot)\n",
    "\n",
    "    #     return troot  # Return the unchanged node if no rotation happened\n",
    "\n",
    "    # def insert(self, e):\n",
    "    #     self.root = self.r_insert(self.root, e)  # Update root internally\n",
    "\n",
    "    def insert(self,troot,e):\n",
    "        newest = Node(e)\n",
    "        if self.root is None:\n",
    "            self.root = newest\n",
    "        else:\n",
    "            genx = None\n",
    "            geny= None\n",
    "            genz = None\n",
    "            while troot:\n",
    "                genz = geny\n",
    "                geny = genx\n",
    "                genx = troot                \n",
    "                if troot.element == e :\n",
    "                    return\n",
    "                elif e<troot.element:\n",
    "                    troot = troot.left\n",
    "                elif e > troot.element:\n",
    "                    troot = troot.right\n",
    "            if e > genx.element:\n",
    "                genx.right = newest\n",
    "            else:\n",
    "                genx.left = newest\n",
    "            if genx is not  None and geny is not None :\n",
    "                #print(genz.element)\n",
    "                print(geny.element)\n",
    "                print(genx.element)\n",
    "        \n",
    "        # Update height of the current node\n",
    "        self.update_height(troot)\n",
    "\n",
    "        # Balance Factor Check\n",
    "        balance = self.balance_factor(troot)\n",
    "\n",
    "        if balance > 1 or balance < -1:\n",
    "            if genz is None:\n",
    "                self.root =  balance_tree(geny)\n",
    "\n",
    "    def balance_tree(self, troot):\n",
    "        \"\"\"Balancing the tree based on balance factor\"\"\"\n",
    "        balance = self.balance_factor(troot)\n",
    "\n",
    "        # LL Rotation\n",
    "        if balance > 1 and self.balance_factor(troot.left) >= 0:\n",
    "            return self.rotate_right(troot)\n",
    "\n",
    "        # LR Rotation\n",
    "        if balance > 1 and self.balance_factor(troot.left) < 0:\n",
    "            troot.left = self.rotate_left(troot.left)\n",
    "            return self.rotate_right(troot)\n",
    "\n",
    "        # RR Rotation\n",
    "        if balance < -1 and self.balance_factor(troot.right) <= 0:\n",
    "            return self.rotate_left(troot)\n",
    "\n",
    "        # RL Rotation\n",
    "        if balance < -1 and self.balance_factor(troot.right) > 0:\n",
    "            troot.right = self.rotate_right(troot.right)\n",
    "            return self.rotate_left(troot)\n",
    "\n",
    "        # L0 Rotation (special case)\n",
    "        if balance > 1 and self.balance_factor(troot.left) == 0:\n",
    "            return self.rotate_right(troot)\n",
    "\n",
    "        # R0 Rotation (special case)\n",
    "        if balance < -1 and self.balance_factor(troot.right) == 0:\n",
    "            return self.rotate_left(troot)\n",
    "\n",
    "        return troot\n",
    "\n",
    "    def inorder(self, troot):\n",
    "        if troot:\n",
    "            self.inorder(troot.left)\n",
    "            print(troot.element, end=\" \")\n",
    "            self.inorder(troot.right)"
   ]
  },
  {
   "cell_type": "code",
   "execution_count": 87,
   "id": "b5adf4a7-c9f6-48bc-a439-5f2ec1ae0e55",
   "metadata": {},
   "outputs": [
    {
     "name": "stdout",
     "output_type": "stream",
     "text": [
      "30\n",
      "20\n"
     ]
    }
   ],
   "source": [
    "# Example Usage\n",
    "avl = AVLTree()\n",
    "avl.insert(avl.root,30)\n",
    "avl.insert(avl.root,20)\n",
    "avl.insert(avl.root,10)  "
   ]
  },
  {
   "cell_type": "code",
   "execution_count": 88,
   "id": "e1696fed-49eb-436a-977d-8600c6785b80",
   "metadata": {},
   "outputs": [
    {
     "name": "stdout",
     "output_type": "stream",
     "text": [
      "10 20 30 "
     ]
    }
   ],
   "source": [
    "avl.inorder(avl.root)"
   ]
  },
  {
   "cell_type": "code",
   "execution_count": 89,
   "id": "bf935844-b662-4313-92c9-de78fc9349b9",
   "metadata": {},
   "outputs": [
    {
     "name": "stdout",
     "output_type": "stream",
     "text": [
      "30\n"
     ]
    }
   ],
   "source": [
    "print(avl.root.element)"
   ]
  },
  {
   "cell_type": "code",
   "execution_count": 118,
   "id": "32b46149-eb2d-4629-9449-1219c715141d",
   "metadata": {},
   "outputs": [
    {
     "name": "stdout",
     "output_type": "stream",
     "text": [
      "PREORDER\n",
      "50  40  60  70  "
     ]
    }
   ],
   "source": []
  },
  {
   "cell_type": "code",
   "execution_count": 120,
   "id": "64193698-7ccc-4d4d-a7c2-669c3fce3e69",
   "metadata": {},
   "outputs": [
    {
     "name": "stdout",
     "output_type": "stream",
     "text": [
      "PREORDER\n",
      "50  30  40  75  70  80  "
     ]
    }
   ],
   "source": [
    "         \n",
    "Tree = AVLTree()       \n",
    "root= None\n",
    "root = Tree.insert_node(root,50)\n",
    "root = Tree.insert_node(root,30)\n",
    "root = Tree.insert_node(root,70)\n",
    "root = Tree.insert_node(root,40)\n",
    "root = Tree.insert_node(root,80)\n",
    "root = Tree.insert_node(root,75)\n",
    "\n",
    "print(\"PREORDER\")\n",
    "Tree.preOrder(root)"
   ]
  },
  {
   "cell_type": "code",
   "execution_count": 123,
   "id": "06a945a1-b90b-4efe-9be5-ccf4dac9d2bf",
   "metadata": {},
   "outputs": [
    {
     "data": {
      "text/plain": [
       "50"
      ]
     },
     "execution_count": 123,
     "metadata": {},
     "output_type": "execute_result"
    }
   ],
   "source": [
    "root.value"
   ]
  },
  {
   "cell_type": "code",
   "execution_count": 111,
   "id": "b9c8e031-aa02-46b0-a854-bcac042b84b9",
   "metadata": {},
   "outputs": [
    {
     "name": "stdout",
     "output_type": "stream",
     "text": [
      "10 20 30 "
     ]
    }
   ],
   "source": [
    "avl = AVLTree()\n",
    "avl.root = avl.rinsert(avl.root, 10)  # Insert 30\n",
    "avl.root = avl.rinsert(avl.root, 20)  # Insert 20\n",
    "avl.root = avl.rinsert(avl.root, 30)  # Insert 10\n",
    "avl.in_order(avl.root)"
   ]
  },
  {
   "cell_type": "code",
   "execution_count": 114,
   "id": "945e3bf5-e40f-4755-b2bb-a4dc4034594e",
   "metadata": {},
   "outputs": [
    {
     "name": "stdout",
     "output_type": "stream",
     "text": [
      "30 40 50 70 75 80 "
     ]
    }
   ],
   "source": [
    "avl = AVLTree()\n",
    "avl.root = avl.rinsert(avl.root, 50)  # Insert 30\n",
    "avl.root = avl.rinsert(avl.root, 30)  # Insert 20\n",
    "avl.root = avl.rinsert(avl.root, 70)  # Insert 10\n",
    "avl.root = avl.rinsert(avl.root, 40)  # Insert 30\n",
    "avl.root = avl.rinsert(avl.root, 80)  # Insert 20\n",
    "avl.root = avl.rinsert(avl.root, 75)  # Insert 10\n",
    "avl.in_order(avl.root)"
   ]
  },
  {
   "cell_type": "code",
   "execution_count": 115,
   "id": "d22a8ab5-396c-4362-b462-e9a3eb0db48d",
   "metadata": {},
   "outputs": [
    {
     "data": {
      "text/plain": [
       "70"
      ]
     },
     "execution_count": 115,
     "metadata": {},
     "output_type": "execute_result"
    }
   ],
   "source": [
    "avl.root.element"
   ]
  },
  {
   "cell_type": "code",
   "execution_count": 143,
   "id": "5717e5bc-fa82-4e2e-80c2-b664b57710ae",
   "metadata": {},
   "outputs": [
    {
     "name": "stdout",
     "output_type": "stream",
     "text": [
      "PREORDER:\n",
      "50 30 40 75 70 80 \n",
      "Root Element is: 50\n"
     ]
    }
   ],
   "source": [
    "class Node(object):\n",
    "    def __init__(self, element):\n",
    "        self.element = element\n",
    "        self.left = None\n",
    "        self.right = None\n",
    "        self.height = 0  # Initial height for a new node is 0\n",
    "\n",
    "class AVLTree(object):\n",
    "    def __init__(self):\n",
    "        self.root = None\n",
    "\n",
    "    def height(self, troot):\n",
    "        return troot.height if troot else -1  # Return -1 for None nodes\n",
    "\n",
    "    def update_height(self, troot):\n",
    "        if troot:\n",
    "            troot.height = 1 + max(self.height(troot.left), self.height(troot.right))\n",
    "\n",
    "    def balance_factor(self, troot):\n",
    "        return self.height(troot.left) - self.height(troot.right) if troot else 0\n",
    "\n",
    "    def rotate_right(self, troot):\n",
    "        \"\"\"LL imbalance - Right Rotation\"\"\"\n",
    "        b = troot.left\n",
    "        b_r = b.right\n",
    "\n",
    "        # Perform rotation\n",
    "        b.right = troot\n",
    "        troot.left = b_r\n",
    "\n",
    "        # Update heights\n",
    "        self.update_height(troot)\n",
    "        self.update_height(b)\n",
    "\n",
    "        return b  # Return new root after rotation\n",
    "\n",
    "    def rotate_left(self, troot):\n",
    "        \"\"\"RR imbalance - Left Rotation\"\"\"\n",
    "        b = troot.right\n",
    "        b_l = b.left\n",
    "\n",
    "        # Perform rotation\n",
    "        b.left = troot\n",
    "        troot.right = b_l\n",
    "\n",
    "        # Update heights\n",
    "        self.update_height(troot)\n",
    "        self.update_height(b)\n",
    "\n",
    "        return b  # Return new root after rotation\n",
    "\n",
    "    def balance_tree(self, troot):\n",
    "        \"\"\"\n",
    "        Checks balance factor and applies rotations if necessary.\n",
    "        \"\"\"\n",
    "        balance = self.balance_factor(troot)\n",
    "\n",
    "        # Left Heavy (LL or LR case)\n",
    "        if balance > 1:\n",
    "            if self.balance_factor(troot.left) >= 0:\n",
    "                return self.rotate_right(troot)  # LL Case\n",
    "            else:\n",
    "                troot.left = self.rotate_left(troot.left)  # LR Case\n",
    "                return self.rotate_right(troot)\n",
    "\n",
    "        # Right Heavy (RR or RL case)\n",
    "        if balance < -1:\n",
    "            if self.balance_factor(troot.right) <= 0:\n",
    "                return self.rotate_left(troot)  # RR Case\n",
    "            else:\n",
    "                troot.right = self.rotate_right(troot.right)  # RL Case\n",
    "                return self.rotate_left(troot)\n",
    "\n",
    "        return troot  # Return unchanged if balanced\n",
    "\n",
    "    def insert_node(self, troot, element):\n",
    "        \"\"\"Recursive function to insert a new node in AVL Tree\"\"\"\n",
    "        if troot is None:\n",
    "            return Node(element)\n",
    "\n",
    "        if element < troot.element:\n",
    "            troot.left = self.insert_node(troot.left, element)\n",
    "        else:\n",
    "            troot.right = self.insert_node(troot.right, element)\n",
    "\n",
    "        # Update height of current node\n",
    "        self.update_height(troot)\n",
    "\n",
    "        # Balance the tree\n",
    "        return self.balance_tree(troot)\n",
    "\n",
    "    def delete_node(self, troot, element):\n",
    "        \"\"\"Recursive function to delete a node and balance the tree\"\"\"\n",
    "        if troot is None:\n",
    "            return troot\n",
    "\n",
    "        if element < troot.element:\n",
    "            troot.left = self.delete_node(troot.left, element)\n",
    "        elif element > troot.element:\n",
    "            troot.right = self.delete_node(troot.right, element)\n",
    "        else:\n",
    "            # Node with only one child or no child\n",
    "            if troot.left is None:\n",
    "                return troot.right\n",
    "            elif troot.right is None:\n",
    "                return troot.left\n",
    "\n",
    "            # Node with two children: get inorder successor\n",
    "            smallest = self.avl_Minelement(troot.right)\n",
    "            troot.element = smallest.element\n",
    "            troot.right = self.delete_node(troot.right, smallest.element)\n",
    "\n",
    "        # Update height\n",
    "        self.update_height(troot)\n",
    "\n",
    "        # Balance the tree\n",
    "        return self.balance_tree(troot)\n",
    "\n",
    "    def avl_Minelement(self, root):\n",
    "        \"\"\"Finds the minimum value node in the tree\"\"\"\n",
    "        if root is None or root.left is None:\n",
    "            return root\n",
    "        return self.avl_Minelement(root.left)\n",
    "\n",
    "    def preOrder(self, root):\n",
    "        \"\"\"Preorder traversal of the tree\"\"\"\n",
    "        if root:\n",
    "            print(root.element, end=\" \")\n",
    "            self.preOrder(root.left)\n",
    "            self.preOrder(root.right)\n",
    "\n",
    "    def inOrder(self, root):\n",
    "        \"\"\"Inorder traversal of the tree\"\"\"\n",
    "        if root:\n",
    "            self.inOrder(root.left)\n",
    "            print(root.element, end=\" \")\n",
    "            self.inOrder(root.right)\n",
    "\n",
    "# Example Usage:\n",
    "Tree = AVLTree()\n",
    "Tree.root = Tree.insert_node(Tree.root, 50)\n",
    "Tree.root = Tree.insert_node(Tree.root, 30)\n",
    "Tree.root = Tree.insert_node(Tree.root, 70)\n",
    "Tree.root = Tree.insert_node(Tree.root, 40)\n",
    "Tree.root = Tree.insert_node(Tree.root, 80)\n",
    "Tree.root = Tree.insert_node(Tree.root, 75)\n",
    "\n",
    "print(\"PREORDER:\")\n",
    "Tree.preOrder(Tree.root)\n",
    "print()\n",
    "print(\"Root Element is:\", Tree.root.element)"
   ]
  },
  {
   "cell_type": "code",
   "execution_count": 144,
   "id": "d0d81dac-980f-4de1-8e68-7057f9873be8",
   "metadata": {},
   "outputs": [
    {
     "name": "stdout",
     "output_type": "stream",
     "text": [
      "PREORDER:\n",
      "30 20 10 5 25 27 40 35 50 60 \n",
      "Root Element is: 30\n"
     ]
    }
   ],
   "source": [
    "# Example Usage:\n",
    "Tree = AVLTree()\n",
    "Tree.root = Tree.insert_node(Tree.root, 40)\n",
    "Tree.root = Tree.insert_node(Tree.root, 20)\n",
    "Tree.root = Tree.insert_node(Tree.root, 50)\n",
    "Tree.root = Tree.insert_node(Tree.root, 10)\n",
    "Tree.root = Tree.insert_node(Tree.root, 30)\n",
    "Tree.root = Tree.insert_node(Tree.root, 60)\n",
    "Tree.root = Tree.insert_node(Tree.root, 5)\n",
    "Tree.root = Tree.insert_node(Tree.root, 25)\n",
    "Tree.root = Tree.insert_node(Tree.root, 35)\n",
    "Tree.root = Tree.insert_node(Tree.root, 27)\n",
    "\n",
    "print(\"PREORDER:\")\n",
    "Tree.preOrder(Tree.root)\n",
    "print()\n",
    "print(\"Root Element is:\", Tree.root.element)"
   ]
  },
  {
   "cell_type": "code",
   "execution_count": 145,
   "id": "23eb7d1c-759d-4b77-a543-62f29cd16cb5",
   "metadata": {},
   "outputs": [
    {
     "name": "stdout",
     "output_type": "stream",
     "text": [
      "PREORDER:\n",
      "30 10 5 20 40 \n",
      "Root Element is: 30\n",
      "PREORDER:\n",
      "10 5 30 20 \n",
      "Root Element is: 10\n"
     ]
    }
   ],
   "source": [
    "# Example Usage:\n",
    "Tree = AVLTree()\n",
    "Tree.root = Tree.insert_node(Tree.root, 30)\n",
    "Tree.root = Tree.insert_node(Tree.root, 10)\n",
    "Tree.root = Tree.insert_node(Tree.root, 40)\n",
    "Tree.root = Tree.insert_node(Tree.root, 5)\n",
    "Tree.root = Tree.insert_node(Tree.root, 20)\n",
    "\n",
    "\n",
    "print(\"PREORDER:\")\n",
    "Tree.preOrder(Tree.root)\n",
    "print()\n",
    "print(\"Root Element is:\", Tree.root.element)\n",
    "\n",
    "Tree.root = Tree.delete_node(Tree.root, 40)\n",
    "print(\"PREORDER:\")\n",
    "Tree.preOrder(Tree.root)\n",
    "print()\n",
    "print(\"Root Element is:\", Tree.root.element)"
   ]
  },
  {
   "cell_type": "code",
   "execution_count": 147,
   "id": "0ce4fe01-1147-4c05-90ed-79a59f180aed",
   "metadata": {},
   "outputs": [
    {
     "name": "stdout",
     "output_type": "stream",
     "text": [
      "PREORDER:\n",
      "45 30 10 35 50 45 80 55 \n",
      "Root Element is: 45\n",
      "PREORDER:\n",
      "45 30 10 35 50 45 80 55 \n",
      "Root Element is: 45\n"
     ]
    }
   ],
   "source": [
    "# Example Usage:\n",
    "Tree = AVLTree()\n",
    "Tree.root = Tree.insert_node(Tree.root, 30)\n",
    "Tree.root = Tree.insert_node(Tree.root, 10)\n",
    "Tree.root = Tree.insert_node(Tree.root, 80)\n",
    "Tree.root = Tree.insert_node(Tree.root, 45)\n",
    "Tree.root = Tree.insert_node(Tree.root, 35)\n",
    "Tree.root = Tree.insert_node(Tree.root, 50)\n",
    "Tree.root = Tree.insert_node(Tree.root, 45)\n",
    "Tree.root = Tree.insert_node(Tree.root, 55)\n",
    "\n",
    "\n",
    "print(\"PREORDER:\")\n",
    "Tree.preOrder(Tree.root)\n",
    "print()\n",
    "print(\"Root Element is:\", Tree.root.element)\n",
    "\n",
    "Tree.root = Tree.delete_node(Tree.root, 40)\n",
    "print(\"PREORDER:\")\n",
    "Tree.preOrder(Tree.root)\n",
    "print()\n",
    "print(\"Root Element is:\", Tree.root.element)"
   ]
  },
  {
   "cell_type": "code",
   "execution_count": null,
   "id": "004396ac-6667-40ff-8494-402d2466b90e",
   "metadata": {},
   "outputs": [],
   "source": []
  }
 ],
 "metadata": {
  "kernelspec": {
   "display_name": "Python 3 (ipykernel)",
   "language": "python",
   "name": "python3"
  },
  "language_info": {
   "codemirror_mode": {
    "name": "ipython",
    "version": 3
   },
   "file_extension": ".py",
   "mimetype": "text/x-python",
   "name": "python",
   "nbconvert_exporter": "python",
   "pygments_lexer": "ipython3",
   "version": "3.13.1"
  }
 },
 "nbformat": 4,
 "nbformat_minor": 5
}
