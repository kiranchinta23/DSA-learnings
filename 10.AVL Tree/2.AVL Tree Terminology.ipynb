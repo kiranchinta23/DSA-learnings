{
 "cells": [
  {
   "cell_type": "markdown",
   "id": "3d061cb3-a9f5-4c41-bbad-c3964dbf9a79",
   "metadata": {},
   "source": [
    "# Node height: \n",
    " - number of edges form that node to leaf node\n",
    " - if null node then height is -1\n",
    "\n",
    "\n",
    "# Node balance factor: \n",
    "- The balance factor of a node is defined as the height of the node's left subtree minus the height of its right subtree,\n",
    "- the balance factor of a null node defined as 0"
   ]
  },
  {
   "cell_type": "code",
   "execution_count": null,
   "id": "e08b01f9-2197-440a-ba79-141398d83e47",
   "metadata": {},
   "outputs": [],
   "source": [
    "def get_height(self, troot):\n",
    "    return troot.height if troot else -1  # Return -1 for None nodes\n",
    "\n",
    "def update_height(self, troot):\n",
    "    if troot:\n",
    "        troot.height = 1 + max(self.height(troot.left), self.height(troot.right))\n",
    "\n",
    "def balance_factor(self, troot):\n",
    "    return self.height(troot.left) - self.height(troot.right) if troot else 0"
   ]
  },
  {
   "cell_type": "code",
   "execution_count": null,
   "id": "642f4f13-2700-42fb-a48f-2e7e3006e6ca",
   "metadata": {},
   "outputs": [],
   "source": []
  }
 ],
 "metadata": {
  "kernelspec": {
   "display_name": "Python 3 (ipykernel)",
   "language": "python",
   "name": "python3"
  },
  "language_info": {
   "codemirror_mode": {
    "name": "ipython",
    "version": 3
   },
   "file_extension": ".py",
   "mimetype": "text/x-python",
   "name": "python",
   "nbconvert_exporter": "python",
   "pygments_lexer": "ipython3",
   "version": "3.13.1"
  }
 },
 "nbformat": 4,
 "nbformat_minor": 5
}
