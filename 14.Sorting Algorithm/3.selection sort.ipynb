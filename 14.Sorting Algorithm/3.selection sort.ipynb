{
 "cells": [
  {
   "cell_type": "markdown",
   "id": "94b8ac8a-9199-48d0-8c48-5c3149884923",
   "metadata": {},
   "source": [
    "# Selection sort"
   ]
  },
  {
   "attachments": {},
   "cell_type": "markdown",
   "id": "b91abd18-e391-45c3-baae-791196eb6db5",
   "metadata": {},
   "source": [
    "### a. Explanation, num of comparision, num of swaps\n",
    "<img src=\"../images/Screenshot 2025-01-20 at 2.17.12 PM.png\"/>"
   ]
  },
  {
   "cell_type": "markdown",
   "id": "33a06907-a81b-4493-9af8-4a8c1cfc49cf",
   "metadata": {},
   "source": [
    "### b. Adaptive"
   ]
  },
  {
   "cell_type": "markdown",
   "id": "8c9d7fb4-14ee-4c15-8b82-e5a82e04e23a",
   "metadata": {},
   "source": [
    "- selection sort is not adaptive"
   ]
  },
  {
   "cell_type": "markdown",
   "id": "9085a9e3-a151-4a4e-9c96-748caee1db17",
   "metadata": {},
   "source": [
    "### c. Stable\n",
    "- selection sort is not stable"
   ]
  },
  {
   "attachments": {},
   "cell_type": "markdown",
   "id": "cb8ce54a-6391-4827-9275-28a89c86fe3d",
   "metadata": {},
   "source": [
    "<img src=\"../images/Screenshot 2025-01-20 at 2.20.44 PM.png\"/>"
   ]
  },
  {
   "cell_type": "markdown",
   "id": "87d18549-baea-4af2-87c1-80b30f9a4dab",
   "metadata": {},
   "source": [
    "### e. code"
   ]
  },
  {
   "cell_type": "code",
   "execution_count": 20,
   "id": "e7753e45-3ef4-4cd0-9d06-635cd85c9a98",
   "metadata": {},
   "outputs": [],
   "source": [
    "def selectionsort(A):\n",
    "    n = len(A)\n",
    "    for i in range(n-1):\n",
    "        k = i\n",
    "        for j in range(i, n):\n",
    "            if A[j] < A[k]:\n",
    "                k = j\n",
    "        A[i],A[k] = A[k],A[i]\n"
   ]
  },
  {
   "cell_type": "code",
   "execution_count": 21,
   "id": "eccc1adf-ca2e-4cd3-a401-f9937361591e",
   "metadata": {},
   "outputs": [
    {
     "name": "stdout",
     "output_type": "stream",
     "text": [
      "before sorting [3, -1, 2, 5, 7, 0, -12, 3]\n",
      "None\n",
      "after sorting [-12, -1, 0, 2, 3, 3, 5, 7]\n"
     ]
    }
   ],
   "source": [
    "a = [3,-1,2,5,7,-0,-12,3]\n",
    "print('before sorting',a)\n",
    "print(selectionsort(a))\n",
    "print('after sorting',a)"
   ]
  },
  {
   "cell_type": "markdown",
   "id": "8c04c245-882d-4e01-964c-13bf4d9a46ae",
   "metadata": {},
   "source": [
    "### f.Time Complexity Analysis of Selection Sort:\n",
    "- Best-case: O(n2), best case occurs when the array is already sorted. (where n is the number of integers in an array)\n",
    "- Average-case: O(n2), the average case arises when the elements of the array are in a disordered or random order, without a clear ascending or descending pattern.\n",
    "- Worst-case: O(n2), The worst-case scenario arises when we need to sort an array in ascending order, but the array is initially in descending order."
   ]
  },
  {
   "cell_type": "markdown",
   "id": "21774d46-cdfc-404c-8f99-877306506f2e",
   "metadata": {},
   "source": [
    "### g.Space Complexity: \n",
    "- O(1), as no extra space is required for the Selection sort algorithm"
   ]
  },
  {
   "cell_type": "code",
   "execution_count": null,
   "id": "4c1937c9-6425-4e01-9324-36e29edbeb34",
   "metadata": {},
   "outputs": [],
   "source": []
  }
 ],
 "metadata": {
  "kernelspec": {
   "display_name": "Python 3 (ipykernel)",
   "language": "python",
   "name": "python3"
  },
  "language_info": {
   "codemirror_mode": {
    "name": "ipython",
    "version": 3
   },
   "file_extension": ".py",
   "mimetype": "text/x-python",
   "name": "python",
   "nbconvert_exporter": "python",
   "pygments_lexer": "ipython3",
   "version": "3.13.1"
  }
 },
 "nbformat": 4,
 "nbformat_minor": 5
}
