{
 "cells": [
  {
   "cell_type": "markdown",
   "id": "111ec2c3-9ec1-43e5-b1cd-299bd9c6b3d7",
   "metadata": {},
   "source": [
    "# Quick Sort"
   ]
  },
  {
   "cell_type": "markdown",
   "id": "13729a86-583a-404b-9016-56f7bbf96519",
   "metadata": {},
   "source": [
    "## 1. Explanation"
   ]
  },
  {
   "attachments": {},
   "cell_type": "markdown",
   "id": "54630caf-59b6-4fbc-b44f-b237bd73f0aa",
   "metadata": {},
   "source": [
    "<img src=\"../images/Screenshot 2025-01-21 at 8.38.09 PM.png\"/>"
   ]
  },
  {
   "cell_type": "markdown",
   "id": "85f95c8f-f78e-4ece-b92e-c956a599282a",
   "metadata": {},
   "source": [
    "# 2. Quick Sort comparisions (worst case)"
   ]
  },
  {
   "attachments": {},
   "cell_type": "markdown",
   "id": "e5b5ced4-637e-4ba9-b98a-8249d7cebc0c",
   "metadata": {},
   "source": [
    "<img src=\"../images/Screenshot 2025-01-28 at 9.23.37 PM.png\"/>"
   ]
  },
  {
   "cell_type": "markdown",
   "id": "ee92c37d-582f-4fdc-8f2e-12d5b51ec54f",
   "metadata": {},
   "source": [
    "## 3. Quick Sort comparision (best case scenario)"
   ]
  },
  {
   "attachments": {},
   "cell_type": "markdown",
   "id": "7edf68bb-4a9f-4326-87ce-1c66694efb31",
   "metadata": {},
   "source": [
    "<img src=\"../images/Screenshot 2025-01-28 at 9.24.43 PM.png\"/>"
   ]
  },
  {
   "cell_type": "markdown",
   "id": "663b7568-98c7-4a5c-ad8b-10d805e79467",
   "metadata": {},
   "source": [
    "## 4. Adaptive\n",
    "- quick sort doesn't take min if it is already sorted. so it's not adaptive"
   ]
  },
  {
   "cell_type": "markdown",
   "id": "f24db947-069f-4e8b-b230-5c5a3e855eb7",
   "metadata": {},
   "source": [
    "## 5. Stable\n",
    "- quick sort is not stable, order is not preserved"
   ]
  },
  {
   "cell_type": "markdown",
   "id": "0169b425-eec4-473c-9ba3-687fa1e2bf16",
   "metadata": {},
   "source": [
    "## 6. Implementation"
   ]
  },
  {
   "cell_type": "code",
   "execution_count": 6,
   "id": "a2019270-28e0-4084-ba33-27f8c6c1ac30",
   "metadata": {},
   "outputs": [
    {
     "name": "stdout",
     "output_type": "stream",
     "text": [
      "Original Array: [6, 5, 8, 9, 3, 2]\n",
      "Sorted Array: [2, 3, 5, 6, 8, 9]\n"
     ]
    }
   ],
   "source": [
    "def partition(A, low, high):\n",
    "    pivot = A[low]\n",
    "    i = low + 1\n",
    "    j = high\n",
    "    while True:\n",
    "        while i <= j and A[i] <= pivot:\n",
    "            i = i + 1\n",
    "        while i <=j and A[j] > pivot:\n",
    "            j = j - 1\n",
    "        if i <= j:\n",
    "            A[i], A[j] = A[j], A[i]\n",
    "        else:\n",
    "            break\n",
    "    A[low], A[j] = A[j], A[low]\n",
    "    return j\n",
    "\n",
    "\n",
    "def quicksort(A, low, high):\n",
    "    if low < high:\n",
    "        pi = partition(A, low, high)\n",
    "        quicksort(A, low, pi - 1)\n",
    "        quicksort(A, pi + 1, high)\n",
    "\n",
    "\n",
    "\n",
    "A = [6, 5, 8, 9, 3, 2]\n",
    "print('Original Array:',A)\n",
    "quicksort(A, 0, len(A)-1)\n",
    "print('Sorted Array:',A)"
   ]
  },
  {
   "cell_type": "markdown",
   "id": "e4dc13ca-e7bd-432f-be83-deacb0b44c79",
   "metadata": {},
   "source": [
    "### space complexity\n",
    "Although Quick Sort is an in-place sorting algorithm (meaning it sorts the array without using extra storage for data structures like auxiliary arrays), it still requires extra space for recursive function calls. This space is used to maintain the call stack during recursion."
   ]
  },
  {
   "cell_type": "code",
   "execution_count": null,
   "id": "7d99084a-be78-4549-9549-2b80b5607b7d",
   "metadata": {},
   "outputs": [],
   "source": []
  }
 ],
 "metadata": {
  "kernelspec": {
   "display_name": "Python 3 (ipykernel)",
   "language": "python",
   "name": "python3"
  },
  "language_info": {
   "codemirror_mode": {
    "name": "ipython",
    "version": 3
   },
   "file_extension": ".py",
   "mimetype": "text/x-python",
   "name": "python",
   "nbconvert_exporter": "python",
   "pygments_lexer": "ipython3",
   "version": "3.13.1"
  }
 },
 "nbformat": 4,
 "nbformat_minor": 5
}
