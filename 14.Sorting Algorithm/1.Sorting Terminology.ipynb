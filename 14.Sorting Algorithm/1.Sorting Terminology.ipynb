{
 "cells": [
  {
   "cell_type": "markdown",
   "id": "108661f9-49c8-451e-b9ac-17aed0a73525",
   "metadata": {},
   "source": [
    "# 1. Sorting Terminology"
   ]
  },
  {
   "cell_type": "markdown",
   "id": "24d2fbc6-6b0c-44d9-b2b7-3b9c09f8f941",
   "metadata": {},
   "source": [
    "### a. Number of comparisions \n",
    "    - total how many comparisions are performed"
   ]
  },
  {
   "cell_type": "markdown",
   "id": "ae3c246b-d03e-4b86-9a74-2c790ab79e9c",
   "metadata": {},
   "source": [
    "### b. Number of swaps \n",
    "    - total how many swaps are performed"
   ]
  },
  {
   "cell_type": "markdown",
   "id": "8d3ce9d0-be9c-4700-9267-deb512d13b4d",
   "metadata": {},
   "source": [
    "### c. Adaptive \n",
    "    - if the array isalready sorted, if the algorithm is taking min time, then it is adaptive algorithm"
   ]
  },
  {
   "cell_type": "markdown",
   "id": "47eae2cf-8081-463e-982a-bf5c9fd7e918",
   "metadata": {},
   "source": [
    "### d. Extra memory\n",
    "    - some algorithms need extra space"
   ]
  },
  {
   "attachments": {},
   "cell_type": "markdown",
   "id": "a17ab281-1ce3-4df5-adfe-6887b2cc5257",
   "metadata": {},
   "source": [
    "### e. Stable\n",
    "<img src=\"../images/Screenshot 2025-01-20 at 11.51.34 AM.png\"/>"
   ]
  },
  {
   "attachments": {},
   "cell_type": "markdown",
   "id": "73aaab02-522b-483a-8700-f192ccebd0e3",
   "metadata": {},
   "source": [
    "# 2. Types of Sorting algorithm\n",
    "<img src=\"../images/Screenshot 2025-01-22 at 7.29.48 PM.png\"/>"
   ]
  },
  {
   "cell_type": "code",
   "execution_count": null,
   "id": "e0f95a68-8fdf-4dd5-81c9-88b7d06b3429",
   "metadata": {},
   "outputs": [],
   "source": []
  }
 ],
 "metadata": {
  "kernelspec": {
   "display_name": "Python 3 (ipykernel)",
   "language": "python",
   "name": "python3"
  },
  "language_info": {
   "codemirror_mode": {
    "name": "ipython",
    "version": 3
   },
   "file_extension": ".py",
   "mimetype": "text/x-python",
   "name": "python",
   "nbconvert_exporter": "python",
   "pygments_lexer": "ipython3",
   "version": "3.13.1"
  }
 },
 "nbformat": 4,
 "nbformat_minor": 5
}
