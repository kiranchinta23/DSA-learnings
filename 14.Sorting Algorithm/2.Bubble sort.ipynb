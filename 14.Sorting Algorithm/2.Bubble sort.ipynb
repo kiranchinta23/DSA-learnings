{
 "cells": [
  {
   "cell_type": "markdown",
   "id": "82172d41-b7a7-4322-87c9-962766bbee9a",
   "metadata": {},
   "source": [
    "# 1. Bubble Sort"
   ]
  },
  {
   "cell_type": "markdown",
   "id": "ecebc2eb-77e7-4ff3-a908-17e7748afff2",
   "metadata": {},
   "source": [
    "### a. Explanation, num of comparisions, num of swaps"
   ]
  },
  {
   "attachments": {},
   "cell_type": "markdown",
   "id": "286b4437-87cc-4d4a-b150-84c63792d8df",
   "metadata": {},
   "source": [
    "<img src=\"../images/Screenshot 2025-01-20 at 12.28.01 PM.png\"/>"
   ]
  },
  {
   "cell_type": "markdown",
   "id": "15de65fd-5290-4c20-8956-a935473ac6ec",
   "metadata": {},
   "source": [
    "### b. Adaptive\n",
    "- Bubble sort is made adaptive"
   ]
  },
  {
   "attachments": {},
   "cell_type": "markdown",
   "id": "a002c892-4573-46b1-bd42-13e05897afa8",
   "metadata": {},
   "source": [
    "<img src=\"../images/Screenshot 2025-01-20 at 12.29.59 PM.png\"/>"
   ]
  },
  {
   "cell_type": "markdown",
   "id": "9a1ffb45-b161-468a-be39-2eed11722755",
   "metadata": {},
   "source": [
    "### c. Stable\n",
    "- Bubble sort is stable"
   ]
  },
  {
   "attachments": {},
   "cell_type": "markdown",
   "id": "b2a3fb93-c96d-4a5f-b2c7-1a2897c9a2e1",
   "metadata": {},
   "source": [
    "<img src=\"../images/Screenshot 2025-01-20 at 12.31.56 PM.png\"/>"
   ]
  },
  {
   "cell_type": "markdown",
   "id": "eb6d3e6f-0ef7-4901-9e90-9958ae24ce9d",
   "metadata": {},
   "source": [
    "### d. Implementation"
   ]
  },
  {
   "cell_type": "code",
   "execution_count": 55,
   "id": "03c3c5f2-8105-46d2-abff-0b6b769195df",
   "metadata": {},
   "outputs": [],
   "source": [
    "def swap(x, y):\n",
    "    return y, x\n",
    "\n",
    "def bubble_sort(A):\n",
    "    n = len(A)\n",
    "    for i in range(n-1): # number of passes\n",
    "        swapped = False  # Keep track of whether any swapping occurred in this pass\n",
    "        for j in range(n-i-1): # number of comparisions\n",
    "            if A[j]>A[j+1]:\n",
    "                A[j], A[j + 1] = A[j + 1], A[j]  # Swap adjacent elements if they are in the wrong order\n",
    "                swapped = True\n",
    "        if not swapped:  # If no swaps occurred, the array is already sorted\n",
    "            break\n",
    "    #return A"
   ]
  },
  {
   "cell_type": "code",
   "execution_count": 58,
   "id": "23b20c8c-1a77-4169-81cf-661ba2ea22f8",
   "metadata": {},
   "outputs": [
    {
     "name": "stdout",
     "output_type": "stream",
     "text": [
      "before sorting [3, -1, 2, 5, 7, 0, -12, 3]\n",
      "after sorting [-12, -1, 0, 2, 3, 3, 5, 7]\n"
     ]
    }
   ],
   "source": [
    "a = [3,-1,2,5,7,-0,-12,3]\n",
    "print('before sorting',a)\n",
    "(bubble_sort(a))\n",
    "print('after sorting',a)"
   ]
  },
  {
   "cell_type": "markdown",
   "id": "6393d4ac-f2c2-4548-a204-51da29ed58b9",
   "metadata": {},
   "source": [
    "### f. Best Case Time Complexity Analysis of Bubble Sort: O(N)\n",
    "- The best case occurs when the array is already sorted. So the number of comparisons required is N-1 and the number of swaps required = 0. Hence the best case complexity is O(N)."
   ]
  },
  {
   "cell_type": "markdown",
   "id": "a09f14fe-35af-471a-85b8-81a301da815e",
   "metadata": {},
   "source": [
    "### g. Space complexity\n",
    "- The space complexity of Bubble Sort is O(1). This means that the amount of extra space (memory) required by the algorithm remains constant regardless of the size of the input array being sorted. Bubble Sort only needs a constant amount of additional space to store temporary variables or indices during the sorting process. Therefore, the space complexity of Bubble Sort is considered to be very efficient as it does not depend on the input size and does not require additional space proportional to the input size."
   ]
  },
  {
   "attachments": {},
   "cell_type": "markdown",
   "id": "150a48af-479b-4911-bc4a-00b66580bc71",
   "metadata": {},
   "source": [
    "<img src=\"../images/Screenshot 2025-01-24 at 4.51.16 PM.png\"/>"
   ]
  },
  {
   "cell_type": "code",
   "execution_count": null,
   "id": "cd6ab41d-2f95-4425-acfc-e35c956880fc",
   "metadata": {},
   "outputs": [],
   "source": []
  }
 ],
 "metadata": {
  "kernelspec": {
   "display_name": "Python 3 (ipykernel)",
   "language": "python",
   "name": "python3"
  },
  "language_info": {
   "codemirror_mode": {
    "name": "ipython",
    "version": 3
   },
   "file_extension": ".py",
   "mimetype": "text/x-python",
   "name": "python",
   "nbconvert_exporter": "python",
   "pygments_lexer": "ipython3",
   "version": "3.13.1"
  }
 },
 "nbformat": 4,
 "nbformat_minor": 5
}
