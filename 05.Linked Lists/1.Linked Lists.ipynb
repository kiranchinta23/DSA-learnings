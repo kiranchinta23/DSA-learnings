{
 "cells": [
  {
   "attachments": {},
   "cell_type": "markdown",
   "id": "0e1811f8-9627-4d6c-80f0-732c91c9103c",
   "metadata": {},
   "source": [
    "<img src=\"../images/Screenshot 2025-02-03 at 2.05.05 PM.png\"/>\n"
   ]
  },
  {
   "cell_type": "code",
   "execution_count": 168,
   "id": "7c091eee-472c-442e-ae53-3df5ac421c22",
   "metadata": {},
   "outputs": [],
   "source": [
    "class Node:\n",
    "    def __init__(self,element,next):\n",
    "        self.element = element\n",
    "        self.next = next"
   ]
  },
  {
   "cell_type": "code",
   "execution_count": 160,
   "id": "8b5b6e53-f7f7-4305-a105-c94df6177ca3",
   "metadata": {},
   "outputs": [],
   "source": [
    "class LinkedList:\n",
    "    def __init__(self):\n",
    "        self.head = None\n",
    "        self.tail = None\n",
    "        self.size = 0\n",
    "\n",
    "    def __len__(self):\n",
    "        return self.size\n",
    "        \n",
    "    def add_last(self,e):\n",
    "        newest = Node(e,None)\n",
    "        if self.size == 0:\n",
    "            self.head = newest\n",
    "            self.tail = newest\n",
    "        else:\n",
    "            self.tail.next = newest\n",
    "            self.tail = newest\n",
    "        self.size += 1\n",
    "\n",
    "    def display(self):\n",
    "        p = self.head\n",
    "        while p:\n",
    "            print(p.element,end='-->')\n",
    "            p = p.next\n",
    "        print()\n",
    "\n",
    "    def search(self,key):\n",
    "        p = self.head\n",
    "        index = 0\n",
    "        while p:\n",
    "            if p.element == key:\n",
    "                return index\n",
    "            p = p.next\n",
    "            index +=1\n",
    "        return -1\n",
    "\n",
    "    def add_first(self,e):\n",
    "        newest = Node(e,None)\n",
    "        if self.size == 0:\n",
    "            self.head = newest\n",
    "            self.tail = newest\n",
    "        else:\n",
    "            newest.next = self.head\n",
    "            self.head= newest\n",
    "        self.size += 1\n",
    "                \n",
    "\n",
    "    def add_any(self,e,position):\n",
    "        newest = Node(e,None)\n",
    "        p = self.head\n",
    "        i = 1\n",
    "        while i < position-1:\n",
    "            p = p.next\n",
    "            i = i+1\n",
    "        newest.next= p.next\n",
    "        p.next = newest\n",
    "        self.size+=1\n",
    "        \n",
    "    def del_first(self):\n",
    "        if self.size == 0:\n",
    "            print('List is empty')\n",
    "            return\n",
    "        elif self.size ==1:\n",
    "            e = self.head.element\n",
    "            self.head = None\n",
    "            self.tail = None\n",
    "        else:\n",
    "            e = self.head.element\n",
    "            self.head = self.head.next\n",
    "        self.size -= 1\n",
    "        return e\n",
    "\n",
    "    def del_last(self):\n",
    "        if self.size == 0:\n",
    "            print('list is empty')\n",
    "            return\n",
    "        elif self.size ==1:\n",
    "            e =self.tail.element\n",
    "            self.head = None\n",
    "            self.tail = None\n",
    "        else:\n",
    "            e = self.tail.element\n",
    "            i = 1\n",
    "            p = self.head\n",
    "            while i < self.size-1:\n",
    "                p = p.next\n",
    "                i = i+1\n",
    "            self.tail = p\n",
    "            p.next = None\n",
    "        self.size -= 1\n",
    "        return e\n",
    "\n",
    "    def del_any(self,position):\n",
    "        if self.size == 0:\n",
    "            print('list is empty')\n",
    "            return\n",
    "        else:\n",
    "            p = self.head\n",
    "            i = 1\n",
    "            while i < position-1:\n",
    "                p = p.next\n",
    "                i = i+1\n",
    "            e = p.next.element\n",
    "            p.next = p.next.next\n",
    "        self.size -=1\n",
    "        return e"
   ]
  },
  {
   "cell_type": "code",
   "execution_count": 161,
   "id": "49733eda-374d-4922-9e22-9a4b9c7da9b4",
   "metadata": {},
   "outputs": [
    {
     "name": "stdout",
     "output_type": "stream",
     "text": [
      "7-->4-->12-->\n",
      "size: 3\n",
      "7-->4-->12-->3-->5-->10-->\n",
      "size: 6\n"
     ]
    }
   ],
   "source": [
    "ll = LinkedList()\n",
    "ll.add_last(7)\n",
    "ll.add_last(4)\n",
    "ll.add_last(12)\n",
    "ll.display()\n",
    "print('size:',len(ll))\n",
    "ll.add_last(3)\n",
    "ll.add_last(5)\n",
    "ll.add_last(10)\n",
    "ll.display()\n",
    "print('size:',len(ll))"
   ]
  },
  {
   "cell_type": "code",
   "execution_count": 162,
   "id": "c6d719ad-d78b-4521-b19f-bd01b4da9566",
   "metadata": {},
   "outputs": [
    {
     "data": {
      "text/plain": [
       "3"
      ]
     },
     "execution_count": 162,
     "metadata": {},
     "output_type": "execute_result"
    }
   ],
   "source": [
    "ll.search(3)"
   ]
  },
  {
   "cell_type": "code",
   "execution_count": 163,
   "id": "0913c241-602e-48a8-b38b-3762797a5408",
   "metadata": {},
   "outputs": [
    {
     "name": "stdout",
     "output_type": "stream",
     "text": [
      "1-->7-->4-->12-->3-->5-->10-->\n",
      "size: 7\n"
     ]
    }
   ],
   "source": [
    "ll.add_first(1)\n",
    "ll.display()\n",
    "print('size:',len(ll))"
   ]
  },
  {
   "cell_type": "code",
   "execution_count": 164,
   "id": "97a1bfc9-5a85-4994-9515-5003960a6c88",
   "metadata": {},
   "outputs": [
    {
     "name": "stdout",
     "output_type": "stream",
     "text": [
      "1-->7-->4-->12-->34-->3-->5-->10-->\n",
      "size: 8\n"
     ]
    }
   ],
   "source": [
    "ll.add_any(34,5)\n",
    "ll.display()\n",
    "print('size:',len(ll))"
   ]
  },
  {
   "cell_type": "code",
   "execution_count": 165,
   "id": "75ae54f2-5862-417a-81f6-81def39e149a",
   "metadata": {},
   "outputs": [
    {
     "name": "stdout",
     "output_type": "stream",
     "text": [
      "removed element 1\n",
      "7-->4-->12-->34-->3-->5-->10-->\n",
      "size: 7\n"
     ]
    }
   ],
   "source": [
    "removed = ll.del_first()\n",
    "print('removed element',removed)\n",
    "ll.display()\n",
    "print('size:',len(ll))"
   ]
  },
  {
   "cell_type": "code",
   "execution_count": 166,
   "id": "a6de4b60-a13b-4a20-9a2a-9c2ce8d2b2ed",
   "metadata": {},
   "outputs": [
    {
     "name": "stdout",
     "output_type": "stream",
     "text": [
      "removed element 10\n",
      "7-->4-->12-->34-->3-->5-->\n",
      "size: 6\n"
     ]
    }
   ],
   "source": [
    "removed = ll.del_last()\n",
    "print('removed element',removed)\n",
    "ll.display()\n",
    "print('size:',len(ll))"
   ]
  },
  {
   "cell_type": "code",
   "execution_count": 167,
   "id": "39243c8a-fd17-4e62-9371-1a8a50ddb0fc",
   "metadata": {},
   "outputs": [
    {
     "name": "stdout",
     "output_type": "stream",
     "text": [
      "removed element 4\n",
      "7-->12-->34-->3-->5-->\n",
      "size: 5\n"
     ]
    }
   ],
   "source": [
    "removed = ll.del_any(2)\n",
    "print('removed element',removed)\n",
    "ll.display()\n",
    "print('size:',len(ll))"
   ]
  },
  {
   "cell_type": "code",
   "execution_count": null,
   "id": "2fb157ac-c5bb-4871-ba33-17e0e43faf85",
   "metadata": {},
   "outputs": [],
   "source": []
  },
  {
   "cell_type": "code",
   "execution_count": null,
   "id": "0beced90-2e3d-4486-9f24-ba58bcbe626a",
   "metadata": {},
   "outputs": [],
   "source": []
  }
 ],
 "metadata": {
  "kernelspec": {
   "display_name": "Python 3 (ipykernel)",
   "language": "python",
   "name": "python3"
  },
  "language_info": {
   "codemirror_mode": {
    "name": "ipython",
    "version": 3
   },
   "file_extension": ".py",
   "mimetype": "text/x-python",
   "name": "python",
   "nbconvert_exporter": "python",
   "pygments_lexer": "ipython3",
   "version": "3.13.1"
  }
 },
 "nbformat": 4,
 "nbformat_minor": 5
}
