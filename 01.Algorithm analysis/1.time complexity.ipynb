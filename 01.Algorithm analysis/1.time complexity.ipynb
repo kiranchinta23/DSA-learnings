{
 "cells": [
  {
   "cell_type": "markdown",
   "id": "0915959b-493e-4abc-aba8-0f9d4444b84c",
   "metadata": {},
   "source": [
    "# 1. Time complexity"
   ]
  },
  {
   "cell_type": "markdown",
   "id": "a1a46562-c297-4528-9e41-bbc01118fb8c",
   "metadata": {},
   "source": [
    "<img src=\"../images/Screenshot 2025-01-15 at 9.09.33 PM.png\"/>"
   ]
  },
  {
   "attachments": {},
   "cell_type": "markdown",
   "id": "1e5d0ed9-0f5b-47be-94c3-9db02960c0eb",
   "metadata": {},
   "source": [
    "## 1.1 Example 1\n",
    "<img src=\"../images/Screenshot 2025-01-15 at 9.23.09 PM.png\"/>"
   ]
  },
  {
   "attachments": {},
   "cell_type": "markdown",
   "id": "127e5121-7c82-4d41-bc44-8889a1e6b40f",
   "metadata": {},
   "source": [
    "## 1.2 Example 2\n",
    "<img src=\"../images/Screenshot 2025-01-15 at 9.32.06 PM.png\"/>"
   ]
  },
  {
   "attachments": {},
   "cell_type": "markdown",
   "id": "bb2d634a-4a4d-4e9d-944f-e3a9c9c2c861",
   "metadata": {},
   "source": [
    "## 1.3 Example 3\n",
    "<img src=\"../images/Screenshot 2025-01-15 at 9.33.38 PM.png\"/>"
   ]
  },
  {
   "cell_type": "code",
   "execution_count": null,
   "id": "af3ae3c5-fe75-40ed-bea0-a0e75ffd5537",
   "metadata": {},
   "outputs": [],
   "source": []
  },
  {
   "cell_type": "markdown",
   "id": "364cc7e3-9592-40d6-902d-e86d1085f4f8",
   "metadata": {},
   "source": [
    "# 2. Order of Growth"
   ]
  },
  {
   "attachments": {},
   "cell_type": "markdown",
   "id": "c77a33d6-c6b4-4dad-8be6-70d49d12ab2a",
   "metadata": {},
   "source": [
    "<img src=\"../images/Screenshot 2025-01-15 at 10.00.50 PM.png\"/>"
   ]
  },
  {
   "cell_type": "markdown",
   "id": "a3d6f25d-ad11-4104-9127-ae18ae222cd7",
   "metadata": {},
   "source": [
    "# 3.Summary"
   ]
  },
  {
   "attachments": {},
   "cell_type": "markdown",
   "id": "36da6606-fa58-4a10-9c3e-c254b55c74e9",
   "metadata": {},
   "source": [
    "<img src=\"../images/Screenshot 2025-01-15 at 10.15.38 PM.png\"/>\n",
    "<img src=\"../images/Screenshot 2025-01-15 at 10.16.43 PM.png\"/>"
   ]
  },
  {
   "cell_type": "code",
   "execution_count": null,
   "id": "639073b7-5fae-4b4f-8d78-a20b01b61b07",
   "metadata": {},
   "outputs": [],
   "source": []
  }
 ],
 "metadata": {
  "kernelspec": {
   "display_name": "Python 3 (ipykernel)",
   "language": "python",
   "name": "python3"
  },
  "language_info": {
   "codemirror_mode": {
    "name": "ipython",
    "version": 3
   },
   "file_extension": ".py",
   "mimetype": "text/x-python",
   "name": "python",
   "nbconvert_exporter": "python",
   "pygments_lexer": "ipython3",
   "version": "3.13.1"
  }
 },
 "nbformat": 4,
 "nbformat_minor": 5
}
