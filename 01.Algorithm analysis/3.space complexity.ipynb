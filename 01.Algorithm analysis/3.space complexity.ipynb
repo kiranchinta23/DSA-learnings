{
 "cells": [
  {
   "cell_type": "markdown",
   "id": "ee3db429-3c07-42f1-930a-7c8d7a1c311b",
   "metadata": {},
   "source": [
    "# 1. Data type & Bytes  "
   ]
  },
  {
   "attachments": {},
   "cell_type": "markdown",
   "id": "ccf7ba1a-988d-4281-a4d6-11f135109f4c",
   "metadata": {},
   "source": [
    "<img src=\"../images/Screenshot 2025-01-16 at 7.58.52 PM.png\"/>"
   ]
  },
  {
   "cell_type": "markdown",
   "id": "7a370a00-ebf4-48ea-b4d6-cf8009922c6c",
   "metadata": {},
   "source": [
    "### Note : when ever a new variable is created , that block of memory is utilized"
   ]
  },
  {
   "cell_type": "markdown",
   "id": "6e4a5b3c-1c7f-4a6c-b7e5-17b8a45361b7",
   "metadata": {},
   "source": [
    "### 1.1 Example"
   ]
  },
  {
   "attachments": {},
   "cell_type": "markdown",
   "id": "6d732aa3-d4d4-408e-a320-cddb27397449",
   "metadata": {},
   "source": [
    "<img src=\"../images/Screenshot 2025-01-16 at 8.05.45 PM.png\"/>"
   ]
  },
  {
   "attachments": {},
   "cell_type": "markdown",
   "id": "90d5f490-e9b7-4126-a152-754ae28a7971",
   "metadata": {},
   "source": [
    "### 1.2 Example"
   ]
  },
  {
   "cell_type": "markdown",
   "id": "56a00e17-2195-4ddd-ab01-629fd6347b11",
   "metadata": {},
   "source": [
    "<img src=\"../images/Screenshot 2025-01-16 at 8.06.46 PM.png\"/>"
   ]
  },
  {
   "cell_type": "code",
   "execution_count": null,
   "id": "17a89ec7-55a0-4ac6-ad3c-30344d1a15fe",
   "metadata": {},
   "outputs": [],
   "source": []
  }
 ],
 "metadata": {
  "kernelspec": {
   "display_name": "Python 3 (ipykernel)",
   "language": "python",
   "name": "python3"
  },
  "language_info": {
   "codemirror_mode": {
    "name": "ipython",
    "version": 3
   },
   "file_extension": ".py",
   "mimetype": "text/x-python",
   "name": "python",
   "nbconvert_exporter": "python",
   "pygments_lexer": "ipython3",
   "version": "3.13.1"
  }
 },
 "nbformat": 4,
 "nbformat_minor": 5
}
