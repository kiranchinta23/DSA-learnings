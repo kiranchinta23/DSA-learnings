{
 "cells": [
  {
   "attachments": {},
   "cell_type": "markdown",
   "id": "b867f65a-2d80-451d-b13a-5c9e503bf393",
   "metadata": {},
   "source": [
    "# Stack Linked List\n",
    "<img src=\"../images/Screenshot 2025-02-05 at 6.45.50 PM.png\"/>"
   ]
  },
  {
   "cell_type": "code",
   "execution_count": 31,
   "id": "b1c51fab-26e7-4983-a279-913287ba093f",
   "metadata": {},
   "outputs": [],
   "source": [
    "class Node:\n",
    "    def __init__(self,element,next):\n",
    "        self.element = element\n",
    "        self.next = next"
   ]
  },
  {
   "cell_type": "code",
   "execution_count": 29,
   "id": "5f2e3227-2bf6-4b70-8dd2-9eb4f75667b4",
   "metadata": {},
   "outputs": [],
   "source": [
    "class StackLinkedList:\n",
    "    def __init__(self):\n",
    "        self.head = None\n",
    "        self.tail = None\n",
    "        self.size = 0\n",
    "\n",
    "    def __len__(self):\n",
    "        return self.size\n",
    "\n",
    "    def push(self,element):\n",
    "        newest = Node(element,None)\n",
    "        if self.size ==0:\n",
    "            self.head = newest\n",
    "            self.tail = newest\n",
    "        else:\n",
    "            newest.next = self.head\n",
    "            self.head = newest\n",
    "        self.size+=1\n",
    "\n",
    "    def pop(self):\n",
    "        if self.size == 0:\n",
    "            print('empty stack')\n",
    "            return\n",
    "        elif self.size ==1:\n",
    "            e = self.head.element\n",
    "            self.head = None\n",
    "            self.tail = None\n",
    "        else:\n",
    "            e = self.head.element\n",
    "            self.head = self.head.next\n",
    "        self.size -=1\n",
    "        return e\n",
    "\n",
    "    def top(self):\n",
    "        if self.size == 0:\n",
    "            print('empty list')\n",
    "            return\n",
    "        return self.head.element\n",
    "\n",
    "    def display(self):\n",
    "        p = self.head\n",
    "        while p:\n",
    "            print(p.element,end='->')\n",
    "            p = p.next\n",
    "        print()"
   ]
  },
  {
   "cell_type": "code",
   "execution_count": null,
   "id": "18425598-e153-46df-8975-22b42e9664c8",
   "metadata": {},
   "outputs": [],
   "source": []
  },
  {
   "cell_type": "code",
   "execution_count": 30,
   "id": "94c4db8f-8d44-4a68-9a08-cd4ea6e77853",
   "metadata": {},
   "outputs": [
    {
     "name": "stdout",
     "output_type": "stream",
     "text": [
      "3->5->\n",
      "2\n"
     ]
    }
   ],
   "source": [
    "s =StackLinkedList()\n",
    "s.push(5)\n",
    "s.push(3)\n",
    "s.display()\n",
    "print(len(s))"
   ]
  },
  {
   "cell_type": "code",
   "execution_count": 26,
   "id": "806b708b-4b9e-472e-85be-0715ae9335ae",
   "metadata": {},
   "outputs": [
    {
     "name": "stdout",
     "output_type": "stream",
     "text": [
      "3\n"
     ]
    }
   ],
   "source": [
    "print(s.pop())"
   ]
  },
  {
   "cell_type": "code",
   "execution_count": 27,
   "id": "fa1f2317-b2d5-4cd6-a468-0e9e7d6fb8ae",
   "metadata": {},
   "outputs": [
    {
     "name": "stdout",
     "output_type": "stream",
     "text": [
      "5\n",
      "9\n",
      "3\n",
      "4\n",
      "8\n"
     ]
    }
   ],
   "source": [
    "print(s.pop())\n",
    "s.push(7)\n",
    "s.push(9)\n",
    "print(s.top())\n",
    "s.push(4)\n",
    "print(len(s))\n",
    "print(s.pop())\n",
    "s.push(6)\n",
    "s.push(8)\n",
    "print(s.pop())"
   ]
  },
  {
   "cell_type": "code",
   "execution_count": null,
   "id": "debd61f8-d1e5-40be-885c-1aeebdde77cc",
   "metadata": {},
   "outputs": [],
   "source": []
  }
 ],
 "metadata": {
  "kernelspec": {
   "display_name": "Python 3 (ipykernel)",
   "language": "python",
   "name": "python3"
  },
  "language_info": {
   "codemirror_mode": {
    "name": "ipython",
    "version": 3
   },
   "file_extension": ".py",
   "mimetype": "text/x-python",
   "name": "python",
   "nbconvert_exporter": "python",
   "pygments_lexer": "ipython3",
   "version": "3.13.1"
  }
 },
 "nbformat": 4,
 "nbformat_minor": 5
}
