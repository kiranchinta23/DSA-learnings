{
 "cells": [
  {
   "cell_type": "markdown",
   "id": "ec636584-6dc2-4b44-9eb5-6018a8d47bbb",
   "metadata": {},
   "source": [
    "# Stack Array"
   ]
  },
  {
   "attachments": {},
   "cell_type": "markdown",
   "id": "3fd020d9-6b3c-4219-965e-552815234b7c",
   "metadata": {},
   "source": [
    "<img src=\"../images/Screenshot 2025-02-05 at 8.57.44 PM.png\"/>"
   ]
  },
  {
   "cell_type": "code",
   "execution_count": 21,
   "id": "aeaec79c-a927-44d6-bbc8-5a3b3cc59fca",
   "metadata": {},
   "outputs": [],
   "source": [
    "class StackArray:\n",
    "    def __init__(self):\n",
    "        self.data = []\n",
    "\n",
    "    def __len__(self):\n",
    "        return len(self.data)\n",
    "\n",
    "    def push(self,element):\n",
    "        self.data.append(element)\n",
    "\n",
    "    def pop(self):\n",
    "        if len(self.data) == 0:\n",
    "            print('empty stack')\n",
    "            return None\n",
    "        else:\n",
    "            return self.data.pop()\n",
    "\n",
    "    def top(self):\n",
    "        if len(self.data) == 0:\n",
    "            print('empty stack')\n",
    "            return None\n",
    "        else:\n",
    "            return self.data[-1]\n",
    "\n",
    "    def display(self):\n",
    "        # for x in self.data:\n",
    "        #     print(x,end='<-')\n",
    "        # print()\n",
    "        print(self.data)"
   ]
  },
  {
   "cell_type": "code",
   "execution_count": 31,
   "id": "26b3251f-0c01-4027-9d12-b796002e0a89",
   "metadata": {},
   "outputs": [
    {
     "name": "stdout",
     "output_type": "stream",
     "text": [
      "[5, 3]\n",
      "2\n"
     ]
    }
   ],
   "source": [
    "s =StackArray()\n",
    "s.push(5)\n",
    "s.push(3)\n",
    "s.display()\n",
    "print(len(s))"
   ]
  },
  {
   "cell_type": "code",
   "execution_count": 32,
   "id": "99360509-1f2b-46c9-9d35-5245baa662dd",
   "metadata": {},
   "outputs": [
    {
     "name": "stdout",
     "output_type": "stream",
     "text": [
      "3\n"
     ]
    }
   ],
   "source": [
    "print(s.pop())"
   ]
  },
  {
   "cell_type": "code",
   "execution_count": 33,
   "id": "4bdeee83-78b1-4d53-9e1e-58a1ec6e8d1d",
   "metadata": {},
   "outputs": [
    {
     "name": "stdout",
     "output_type": "stream",
     "text": [
      "5\n"
     ]
    }
   ],
   "source": [
    "print(s.pop())"
   ]
  },
  {
   "cell_type": "code",
   "execution_count": 34,
   "id": "82f78c8a-ab13-45a5-9c1d-ebfcd04cd5a0",
   "metadata": {},
   "outputs": [
    {
     "name": "stdout",
     "output_type": "stream",
     "text": [
      "4\n",
      "[7, 9, 4]\n"
     ]
    }
   ],
   "source": [
    "s.push(7)\n",
    "s.push(9)\n",
    "s.push(4)\n",
    "print(s.top())\n",
    "s.display()"
   ]
  }
 ],
 "metadata": {
  "kernelspec": {
   "display_name": "Python 3 (ipykernel)",
   "language": "python",
   "name": "python3"
  },
  "language_info": {
   "codemirror_mode": {
    "name": "ipython",
    "version": 3
   },
   "file_extension": ".py",
   "mimetype": "text/x-python",
   "name": "python",
   "nbconvert_exporter": "python",
   "pygments_lexer": "ipython3",
   "version": "3.13.1"
  }
 },
 "nbformat": 4,
 "nbformat_minor": 5
}
