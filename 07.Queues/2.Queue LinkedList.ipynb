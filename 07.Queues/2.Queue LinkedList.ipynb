{
 "cells": [
  {
   "attachments": {},
   "cell_type": "markdown",
   "id": "7fd0c01e-ebc8-4b66-990e-2b03b64cd681",
   "metadata": {},
   "source": [
    "# Queue Linked List\n",
    "<img src=\"../images/Screenshot 2025-02-05 at 8.50.04 PM.png\"/>\n"
   ]
  },
  {
   "cell_type": "code",
   "execution_count": 26,
   "id": "d1479cc6-b1b1-409d-a343-7ac463b5d8e0",
   "metadata": {},
   "outputs": [],
   "source": [
    "class Node:\n",
    "    def __init__(self,element,next):\n",
    "        self.element = element\n",
    "        self.next = None"
   ]
  },
  {
   "cell_type": "code",
   "execution_count": 21,
   "id": "63711203-75a4-4f95-b55b-d38709813002",
   "metadata": {},
   "outputs": [],
   "source": [
    "class QueueLinkedList:\n",
    "    def __init__(self):\n",
    "        self.head = None\n",
    "        self.tail = None\n",
    "        self.size = 0\n",
    "\n",
    "    def __len__(self):\n",
    "        return self.size\n",
    "\n",
    "    def enqueue(self,element):\n",
    "        newest = Node(element,next)\n",
    "        if self.size == 0:\n",
    "            self.head = newest\n",
    "            self.tail = newest\n",
    "        else:\n",
    "            self.tail.next= newest\n",
    "            self.tail = newest\n",
    "        self.size +=1\n",
    "\n",
    "    def dequeue(self):\n",
    "        if self.size == 0:\n",
    "            return\n",
    "        elif self.size ==1:\n",
    "            e = self.head.element\n",
    "            self.head = None\n",
    "            self.tail = None\n",
    "        else:\n",
    "            e = self.head.element\n",
    "            self.head= self.head.next\n",
    "        self.size -=1\n",
    "        return e\n",
    "\n",
    "    def display(self):\n",
    "        p =  self.head\n",
    "        while p:\n",
    "            print(p.element,end='<-')\n",
    "            p = p.next\n",
    "        print()"
   ]
  },
  {
   "cell_type": "code",
   "execution_count": 22,
   "id": "448d2082-a9f8-4fcb-a57c-1fd46b0ff996",
   "metadata": {},
   "outputs": [
    {
     "name": "stdout",
     "output_type": "stream",
     "text": [
      "3<-5<-7<-\n",
      "3\n"
     ]
    }
   ],
   "source": [
    "q =QueueLinkedList()\n",
    "q.enqueue(3)\n",
    "q.enqueue(5)\n",
    "q.enqueue(7)\n",
    "q.display()\n",
    "print(len(q))"
   ]
  },
  {
   "cell_type": "code",
   "execution_count": 23,
   "id": "0f0db4cc-824d-4040-a057-7e4eb207423b",
   "metadata": {},
   "outputs": [
    {
     "name": "stdout",
     "output_type": "stream",
     "text": [
      "3\n"
     ]
    }
   ],
   "source": [
    "print(q.dequeue())"
   ]
  },
  {
   "cell_type": "code",
   "execution_count": 24,
   "id": "08a659d7-81ff-4453-85a8-51d9bc6bacab",
   "metadata": {},
   "outputs": [
    {
     "name": "stdout",
     "output_type": "stream",
     "text": [
      "5\n"
     ]
    }
   ],
   "source": [
    "print(q.dequeue())"
   ]
  },
  {
   "cell_type": "code",
   "execution_count": 25,
   "id": "dfff0f0f-66d1-4659-98b7-eed98709e897",
   "metadata": {},
   "outputs": [
    {
     "name": "stdout",
     "output_type": "stream",
     "text": [
      "7\n"
     ]
    }
   ],
   "source": [
    "print(q.dequeue())"
   ]
  },
  {
   "cell_type": "code",
   "execution_count": 18,
   "id": "984afa6e-e40d-46d6-aab1-f584358bb02c",
   "metadata": {},
   "outputs": [
    {
     "name": "stdout",
     "output_type": "stream",
     "text": [
      "\n"
     ]
    }
   ],
   "source": [
    "(q.display())"
   ]
  },
  {
   "cell_type": "code",
   "execution_count": 19,
   "id": "aba8583b-60fb-4712-ae4c-486de73d0bb7",
   "metadata": {},
   "outputs": [
    {
     "name": "stdout",
     "output_type": "stream",
     "text": [
      "2<-4<-6<-\n",
      "3\n"
     ]
    }
   ],
   "source": [
    "q.enqueue(2)\n",
    "q.enqueue(4)\n",
    "q.enqueue(6)\n",
    "q.display()\n",
    "print(len(q))"
   ]
  },
  {
   "cell_type": "code",
   "execution_count": null,
   "id": "c5943d90-a78e-4460-94cb-2a653c8de4cc",
   "metadata": {},
   "outputs": [],
   "source": []
  }
 ],
 "metadata": {
  "kernelspec": {
   "display_name": "Python 3 (ipykernel)",
   "language": "python",
   "name": "python3"
  },
  "language_info": {
   "codemirror_mode": {
    "name": "ipython",
    "version": 3
   },
   "file_extension": ".py",
   "mimetype": "text/x-python",
   "name": "python",
   "nbconvert_exporter": "python",
   "pygments_lexer": "ipython3",
   "version": "3.13.1"
  }
 },
 "nbformat": 4,
 "nbformat_minor": 5
}
