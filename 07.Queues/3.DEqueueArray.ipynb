{
 "cells": [
  {
   "cell_type": "markdown",
   "id": "6bee6c01-3d75-4a23-9ef2-7e9d68566df1",
   "metadata": {},
   "source": [
    "# Double Ended Queue"
   ]
  },
  {
   "cell_type": "code",
   "execution_count": 10,
   "id": "1901a59b-1cbb-43ac-8598-57adef491b88",
   "metadata": {},
   "outputs": [],
   "source": [
    "class DEQueueArray:\n",
    "    def __init__(self):\n",
    "        self.data = []\n",
    "\n",
    "    def __len__(self):\n",
    "        return len(self.data)\n",
    "\n",
    "    def enqueue_first(self,element):\n",
    "        self.data.insert(0,element)\n",
    "\n",
    "    def enqueue_last(self,element):\n",
    "        self.data.append(element)\n",
    "\n",
    "    def dequeue_first(self):\n",
    "        if len(self.data) == 0:\n",
    "            return\n",
    "        else:\n",
    "            return self.data.pop(0)\n",
    "\n",
    "    def dequeue_last(self):\n",
    "        if len(self.data) == 0:\n",
    "            return\n",
    "        else:\n",
    "            return self.data.pop()"
   ]
  },
  {
   "cell_type": "code",
   "execution_count": 11,
   "id": "e5886708-c142-4c60-897f-57e3a53c19e6",
   "metadata": {},
   "outputs": [
    {
     "name": "stdout",
     "output_type": "stream",
     "text": [
      "[12, 7, 3, 5]\n"
     ]
    }
   ],
   "source": [
    "D = DEQueueArray()\n",
    "D.enqueue_first(5)\n",
    "D.enqueue_first(3)\n",
    "D.enqueue_first(7)\n",
    "D.enqueue_first(12)\n",
    "print(D.data)"
   ]
  },
  {
   "cell_type": "code",
   "execution_count": 12,
   "id": "32426b0f-5c03-49ed-9d67-53f49c42142f",
   "metadata": {},
   "outputs": [
    {
     "name": "stdout",
     "output_type": "stream",
     "text": [
      "Length: 4\n"
     ]
    }
   ],
   "source": [
    "print('Length:',len(D))"
   ]
  },
  {
   "cell_type": "code",
   "execution_count": 13,
   "id": "270b65a8-e2c1-4715-813e-ecbcc8fe5b21",
   "metadata": {},
   "outputs": [
    {
     "name": "stdout",
     "output_type": "stream",
     "text": [
      "12\n",
      "5\n",
      "[7, 3]\n"
     ]
    }
   ],
   "source": [
    "print(D.dequeue_first())\n",
    "print(D.dequeue_last())\n",
    "print(D.data)"
   ]
  },
  {
   "cell_type": "code",
   "execution_count": null,
   "id": "3c547b6d-d023-47e7-86e5-e3e57f6564ec",
   "metadata": {},
   "outputs": [],
   "source": []
  }
 ],
 "metadata": {
  "kernelspec": {
   "display_name": "Python 3 (ipykernel)",
   "language": "python",
   "name": "python3"
  },
  "language_info": {
   "codemirror_mode": {
    "name": "ipython",
    "version": 3
   },
   "file_extension": ".py",
   "mimetype": "text/x-python",
   "name": "python",
   "nbconvert_exporter": "python",
   "pygments_lexer": "ipython3",
   "version": "3.13.1"
  }
 },
 "nbformat": 4,
 "nbformat_minor": 5
}
