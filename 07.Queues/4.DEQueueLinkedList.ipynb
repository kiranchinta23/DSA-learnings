{
 "cells": [
  {
   "attachments": {},
   "cell_type": "markdown",
   "id": "da42938c-98c0-4a32-a4b8-6c2d8be37fea",
   "metadata": {},
   "source": [
    "# Double Ended Queue LinkedList\n",
    "<img src=\"../images/Screenshot 2025-02-06 at 5.39.49 PM.png\"/>"
   ]
  },
  {
   "cell_type": "code",
   "execution_count": 25,
   "id": "3ee46c30-dbc4-4ff3-a499-74b58bbe3a79",
   "metadata": {},
   "outputs": [],
   "source": [
    "class Node:\n",
    "    def __init__(self,element,next,prev=None):\n",
    "        self.element = element\n",
    "        self.next = next\n",
    "        self.prev = prev"
   ]
  },
  {
   "cell_type": "code",
   "execution_count": 26,
   "id": "3f7b4efa-a4d0-4853-8e65-319e54d7d0f0",
   "metadata": {},
   "outputs": [],
   "source": [
    "class DEQueueLL:\n",
    "    def __init__(self):\n",
    "        self.head = None\n",
    "        self.tail = None\n",
    "        self.size = 0\n",
    "\n",
    "    def __len__(self):\n",
    "        return self.size\n",
    "\n",
    "    def enqueue_first(self,element):\n",
    "        newest = Node(element,None)\n",
    "        if self.size ==0:\n",
    "            self.head = newest\n",
    "            self.tail = newest\n",
    "        else:\n",
    "            newest.next = self.head\n",
    "            self.head = newest\n",
    "        self.size += 1\n",
    "\n",
    "    def enqueue_last(self,element):\n",
    "        newest = Node(element,None)\n",
    "        if self.size ==0:\n",
    "            self.head = newest\n",
    "            self.tail = newest\n",
    "        else:\n",
    "            self.tail.next= newest\n",
    "            self.tail = newest\n",
    "        self.size += 1\n",
    "\n",
    "    def dequeue_first(self):\n",
    "        if self.size == 0:\n",
    "            return\n",
    "        elif self.size == 1:\n",
    "            e = self.head.element\n",
    "            self.head = None\n",
    "            self.tail = None\n",
    "        else:\n",
    "            e = self.head.element\n",
    "            self.head = self.head.next\n",
    "        self.size -= 1\n",
    "        return e\n",
    "\n",
    "    def dequeue_last(self):\n",
    "        if self.size == 0:\n",
    "            return\n",
    "        elif self.size == 1:\n",
    "            e = self.tail.element\n",
    "            self.head = None\n",
    "            self.tail = None\n",
    "        else:\n",
    "            e = self.tail.element\n",
    "            p = self.head\n",
    "            i = 1\n",
    "            while i< self.size -1:\n",
    "                p = p.next\n",
    "                i += 1\n",
    "            self.tail = p\n",
    "            self.tail.next = None\n",
    "        self.size -= 1\n",
    "        return e\n",
    "\n",
    "    def display(self):\n",
    "        p = self.head\n",
    "        while p:\n",
    "            print(p.element,end='-->')\n",
    "            p = p.next\n",
    "        print()\n"
   ]
  },
  {
   "cell_type": "code",
   "execution_count": 27,
   "id": "5b8f86ac-a382-4dde-9f6f-7b6f9be52280",
   "metadata": {},
   "outputs": [
    {
     "name": "stdout",
     "output_type": "stream",
     "text": [
      "7-->3-->5-->12-->\n"
     ]
    }
   ],
   "source": [
    "D = DEQueueLL()\n",
    "D.enqueue_first(5)\n",
    "D.enqueue_first(3)\n",
    "D.enqueue_first(7)\n",
    "D.enqueue_last(12)\n",
    "D.display()"
   ]
  },
  {
   "cell_type": "code",
   "execution_count": 15,
   "id": "68141324-b52f-4a64-a998-a75a2ba2aed4",
   "metadata": {},
   "outputs": [
    {
     "name": "stdout",
     "output_type": "stream",
     "text": [
      "Length: 4\n"
     ]
    }
   ],
   "source": [
    "print('Length:',len(D))"
   ]
  },
  {
   "cell_type": "code",
   "execution_count": 16,
   "id": "18beecb4-adef-4baf-be01-8bf2c8075173",
   "metadata": {},
   "outputs": [
    {
     "name": "stdout",
     "output_type": "stream",
     "text": [
      "7\n",
      "12\n",
      "3 --> 5 --> \n"
     ]
    }
   ],
   "source": [
    "print(D.dequeue_first())\n",
    "print(D.dequeue_last())\n",
    "D.display()"
   ]
  },
  {
   "cell_type": "code",
   "execution_count": 72,
   "id": "36525914-97fc-488d-8223-9e1b2e617197",
   "metadata": {},
   "outputs": [],
   "source": [
    "class DEQueueDll:\n",
    "    def __init__(self):\n",
    "        self.head = None\n",
    "        self.tail = None\n",
    "        self.size = 0 \n",
    "\n",
    "    def __len__(self):\n",
    "        return self.size\n",
    "\n",
    "    def enqueue_first(self,element):\n",
    "        newest = Node(element,None,None)\n",
    "        if self.size == 0:\n",
    "            self.head = newest\n",
    "            self.tail = newest\n",
    "        else:  \n",
    "            newest.next = self.head\n",
    "            self.head.prev = newest\n",
    "            self.head = newest\n",
    "        self.size += 1\n",
    "\n",
    "\n",
    "    def enqueue_last(self,element):\n",
    "        newest = Node(element,None,None)\n",
    "        if self.size == 0:\n",
    "            self.head= newest\n",
    "            self.tail =newest\n",
    "        else:\n",
    "            self.tail.next = newest\n",
    "            newest.prev= self.tail\n",
    "            self.tail = newest\n",
    "        self.size +=1\n",
    "\n",
    "    def dequeue_first(self):\n",
    "        if self.size == 0:\n",
    "            print('queue is emppyt')\n",
    "            return None\n",
    "        elif self.size ==1:\n",
    "            e = self.head.element\n",
    "            self.head = None\n",
    "            self.tail = None\n",
    "        else:\n",
    "            e = self.head.element\n",
    "            self.head = self.head.next\n",
    "            self.head.prev = None\n",
    "        self.size -= 1\n",
    "        return e\n",
    "\n",
    "    def dequeue_last(self):\n",
    "        if self.size == 0:\n",
    "            print('queue is emppyt')\n",
    "            return None\n",
    "        elif self.size ==1:\n",
    "            e = self.tail.element\n",
    "            self.head = None\n",
    "            self.tail = None\n",
    "        else:\n",
    "            e = self.tail.element\n",
    "            self.tail = self.tail.prev\n",
    "            self.tail.next = None\n",
    "        self.size -= 1\n",
    "        return e\n",
    "\n",
    "    def display(self):\n",
    "        p = self.head\n",
    "        while p:\n",
    "            print(p.element,end ='<-')\n",
    "            p = p.next"
   ]
  },
  {
   "cell_type": "code",
   "execution_count": 73,
   "id": "17436092-62ce-492c-b09e-8e150bbb388d",
   "metadata": {},
   "outputs": [
    {
     "name": "stdout",
     "output_type": "stream",
     "text": [
      "5<-3<-1<-"
     ]
    }
   ],
   "source": [
    "d =DEQueueDll()\n",
    "d.enqueue_first(1)\n",
    "d.enqueue_first(3)\n",
    "d.enqueue_first(5)\n",
    "d.display()"
   ]
  },
  {
   "cell_type": "code",
   "execution_count": 74,
   "id": "875d26f4-4767-4e7f-9105-99a102112074",
   "metadata": {},
   "outputs": [
    {
     "name": "stdout",
     "output_type": "stream",
     "text": [
      "5<-3<-1<-0<-"
     ]
    }
   ],
   "source": [
    "d.enqueue_last(0)\n",
    "d.display()"
   ]
  },
  {
   "cell_type": "code",
   "execution_count": 75,
   "id": "00c5d9e2-744d-4bc8-a9fc-594c89e377b6",
   "metadata": {},
   "outputs": [
    {
     "name": "stdout",
     "output_type": "stream",
     "text": [
      "100<-5<-3<-1<-0<-"
     ]
    }
   ],
   "source": [
    "d.enqueue_first(100)\n",
    "d.display()"
   ]
  },
  {
   "cell_type": "code",
   "execution_count": 76,
   "id": "2c95ba4d-7a00-47e6-bda8-6e0a5a24ba9a",
   "metadata": {},
   "outputs": [
    {
     "name": "stdout",
     "output_type": "stream",
     "text": [
      "100\n",
      "5<-3<-1<-0<-"
     ]
    }
   ],
   "source": [
    "print(d.dequeue_first())\n",
    "d.display()"
   ]
  },
  {
   "cell_type": "code",
   "execution_count": 77,
   "id": "5590f425-d8bd-403e-8c38-06acf06c3eaf",
   "metadata": {},
   "outputs": [
    {
     "name": "stdout",
     "output_type": "stream",
     "text": [
      "5\n",
      "3<-1<-0<-"
     ]
    }
   ],
   "source": [
    "print(d.dequeue_first())\n",
    "d.display()"
   ]
  },
  {
   "cell_type": "code",
   "execution_count": 78,
   "id": "54f6eae6-377c-4480-8850-75e2b033c6ad",
   "metadata": {},
   "outputs": [
    {
     "name": "stdout",
     "output_type": "stream",
     "text": [
      "0\n",
      "3<-1<-"
     ]
    }
   ],
   "source": [
    "print(d.dequeue_last())\n",
    "d.display()"
   ]
  },
  {
   "cell_type": "code",
   "execution_count": 79,
   "id": "16bc061b-bac0-4c80-945e-806c3411058e",
   "metadata": {},
   "outputs": [
    {
     "name": "stdout",
     "output_type": "stream",
     "text": [
      "1\n",
      "3<-"
     ]
    }
   ],
   "source": [
    "print(d.dequeue_last())\n",
    "d.display()"
   ]
  },
  {
   "cell_type": "code",
   "execution_count": null,
   "id": "e79e61ce-9dcf-4954-8d27-3bbd515d4ca2",
   "metadata": {},
   "outputs": [],
   "source": []
  }
 ],
 "metadata": {
  "kernelspec": {
   "display_name": "Python 3 (ipykernel)",
   "language": "python",
   "name": "python3"
  },
  "language_info": {
   "codemirror_mode": {
    "name": "ipython",
    "version": 3
   },
   "file_extension": ".py",
   "mimetype": "text/x-python",
   "name": "python",
   "nbconvert_exporter": "python",
   "pygments_lexer": "ipython3",
   "version": "3.13.1"
  }
 },
 "nbformat": 4,
 "nbformat_minor": 5
}
