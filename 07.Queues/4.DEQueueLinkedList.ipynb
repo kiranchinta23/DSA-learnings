{
 "cells": [
  {
   "cell_type": "code",
   "execution_count": 1,
   "id": "3ee46c30-dbc4-4ff3-a499-74b58bbe3a79",
   "metadata": {},
   "outputs": [],
   "source": [
    "class Node:\n",
    "    def __init__(self,element,next):\n",
    "        self.element = element\n",
    "        self.next = next"
   ]
  },
  {
   "cell_type": "code",
   "execution_count": 17,
   "id": "3f7b4efa-a4d0-4853-8e65-319e54d7d0f0",
   "metadata": {},
   "outputs": [],
   "source": [
    "class DEQueueLL:\n",
    "    def __init__(self):\n",
    "        self.head = None\n",
    "        self.tail = None\n",
    "        self.size = 0\n",
    "\n",
    "    def __len__(self):\n",
    "        return self.size\n",
    "\n",
    "    def enqueue_first(self,element):\n",
    "        newest = Node(element,None)\n",
    "        if self.size ==0:\n",
    "            self.head = newest\n",
    "            self.tail = newest\n",
    "        else:\n",
    "            newest.next = self.head\n",
    "            self.head = newest\n",
    "        self.size += 1\n",
    "\n",
    "    def enqueue_last(self,element):\n",
    "        newest = Node(element,None)\n",
    "        if self.size ==0:\n",
    "            self.head = newest\n",
    "            self.tail = newest\n",
    "        else:\n",
    "            self.tail.next= newest\n",
    "            self.tail = newest\n",
    "        self.size += 1\n",
    "\n",
    "    def dequeue_first(self):\n",
    "        if self.size == 0:\n",
    "            return\n",
    "        elif self.size == 1:\n",
    "            e = self.head.element\n",
    "            self.head = None\n",
    "            self.tail = None\n",
    "        else:\n",
    "            e = self.head.element\n",
    "            self.head = self.head.next\n",
    "        self.size -= 1\n",
    "        return e\n",
    "\n",
    "    def dequeue_last(self):\n",
    "        if self.size == 0:\n",
    "            return\n",
    "        elif self.size == 1:\n",
    "            e = self.tail.element\n",
    "            self.head = None\n",
    "            self.tail = None\n",
    "        else:\n",
    "            e = self.tail.element\n",
    "            p = self.head\n",
    "            i = 1\n",
    "            while i< self.size -1:\n",
    "                p = p.next\n",
    "                i += 1\n",
    "            self.tail = p\n",
    "            self.tail.next = None\n",
    "        self.size -= 1\n",
    "        return e\n",
    "\n",
    "    def display(self):\n",
    "        p = self.head\n",
    "        while p:\n",
    "            print(p.element,end='<--')\n",
    "            p = p.next\n",
    "        print()\n"
   ]
  },
  {
   "cell_type": "code",
   "execution_count": 18,
   "id": "5b8f86ac-a382-4dde-9f6f-7b6f9be52280",
   "metadata": {},
   "outputs": [
    {
     "name": "stdout",
     "output_type": "stream",
     "text": [
      "7<--3<--5<--12<--\n"
     ]
    }
   ],
   "source": [
    "D = DEQueueLL()\n",
    "D.enqueue_first(5)\n",
    "D.enqueue_first(3)\n",
    "D.enqueue_first(7)\n",
    "D.enqueue_last(12)\n",
    "D.display()"
   ]
  },
  {
   "cell_type": "code",
   "execution_count": 15,
   "id": "68141324-b52f-4a64-a998-a75a2ba2aed4",
   "metadata": {},
   "outputs": [
    {
     "name": "stdout",
     "output_type": "stream",
     "text": [
      "Length: 4\n"
     ]
    }
   ],
   "source": [
    "print('Length:',len(D))"
   ]
  },
  {
   "cell_type": "code",
   "execution_count": 16,
   "id": "18beecb4-adef-4baf-be01-8bf2c8075173",
   "metadata": {},
   "outputs": [
    {
     "name": "stdout",
     "output_type": "stream",
     "text": [
      "7\n",
      "12\n",
      "3 --> 5 --> \n"
     ]
    }
   ],
   "source": [
    "print(D.dequeue_first())\n",
    "print(D.dequeue_last())\n",
    "D.display()"
   ]
  },
  {
   "cell_type": "code",
   "execution_count": null,
   "id": "36525914-97fc-488d-8223-9e1b2e617197",
   "metadata": {},
   "outputs": [],
   "source": []
  }
 ],
 "metadata": {
  "kernelspec": {
   "display_name": "Python 3 (ipykernel)",
   "language": "python",
   "name": "python3"
  },
  "language_info": {
   "codemirror_mode": {
    "name": "ipython",
    "version": 3
   },
   "file_extension": ".py",
   "mimetype": "text/x-python",
   "name": "python",
   "nbconvert_exporter": "python",
   "pygments_lexer": "ipython3",
   "version": "3.13.1"
  }
 },
 "nbformat": 4,
 "nbformat_minor": 5
}
