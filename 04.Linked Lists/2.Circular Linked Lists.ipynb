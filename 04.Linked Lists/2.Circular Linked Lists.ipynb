{
 "cells": [
  {
   "attachments": {},
   "cell_type": "markdown",
   "id": "25ff5d52-02d5-416e-a437-a95593c65d15",
   "metadata": {},
   "source": [
    "<img src=\"../images/Screenshot 2025-02-03 at 1.50.48 PM.png\"/>"
   ]
  },
  {
   "cell_type": "code",
   "execution_count": 1,
   "id": "f6290746-e4b9-4519-8c5b-3256c55a3bf1",
   "metadata": {},
   "outputs": [],
   "source": [
    "class Node:\n",
    "    def __init__(self,element,next):\n",
    "        self.element = element\n",
    "        self.next = next"
   ]
  },
  {
   "cell_type": "code",
   "execution_count": 52,
   "id": "c8af71b3-857e-48a0-9e19-f5bfc4c01f78",
   "metadata": {},
   "outputs": [],
   "source": [
    "class CircularLinkedList:\n",
    "    def __init__(self):\n",
    "        self.head = None\n",
    "        self.tail = None\n",
    "        self.size = 0\n",
    "\n",
    "    def __len__(self):\n",
    "        return self.size\n",
    "\n",
    "    def add_last(self,element):\n",
    "        newest = Node(element,None)\n",
    "        if self.size == 0:\n",
    "            self.head= newest\n",
    "            self.tail = newest\n",
    "            self.tail.next = self.head\n",
    "        else:\n",
    "            self.tail.next = newest\n",
    "            self.tail= newest\n",
    "            self.tail.next = self.head\n",
    "        self.size += 1\n",
    "\n",
    "    def display(self):\n",
    "        p = self.head\n",
    "        i=0\n",
    "        while i<self.size:\n",
    "            print(p.element,end='-->')\n",
    "            p=p.next\n",
    "            i=i+1\n",
    "        print()\n",
    "\n",
    "    def add_first(self,element):\n",
    "        newest = Node(element,None)\n",
    "        if self.size ==0 :\n",
    "            self.head= newest\n",
    "            self.tail = newest\n",
    "            self.tail.next = self.head\n",
    "        else:\n",
    "            newest.next = self.head\n",
    "            self.head = newest\n",
    "            self.tail.next = self.head\n",
    "        self.size += 1\n",
    "\n",
    "    def add_any(self,element,position):\n",
    "        newest= Node(element,Node)\n",
    "        p = self.head\n",
    "        i = 1\n",
    "        while i<position-1:\n",
    "            p = p.next\n",
    "            i = i+1\n",
    "        newest.next = p.next\n",
    "        p.next= newest\n",
    "        self.size +=1 \n",
    "\n",
    "    def del_first(self):\n",
    "        if self.size == 0:\n",
    "            print('empty list')\n",
    "            return\n",
    "        elif self.size == 1:\n",
    "            e = self.head.element\n",
    "            self.head = None\n",
    "            self.tail = None\n",
    "            self.tail.next = None\n",
    "        else:\n",
    "            e = self.head.element\n",
    "            self.tail.next = self.head.next\n",
    "            self.head = self.head.next\n",
    "        self.size -= 1\n",
    "        return e\n",
    "\n",
    "    def del_last(self):\n",
    "        if self.size == 0:\n",
    "            print('empty list')\n",
    "            return\n",
    "        elif self.size ==1:\n",
    "            e = self.tail.element\n",
    "            self.head = None\n",
    "            self.tail = None\n",
    "            self.tail.next = None\n",
    "        else:\n",
    "            e = self.tail.element\n",
    "            i = 1\n",
    "            p = self.head\n",
    "            while i < self.size-1:\n",
    "                p = p.next\n",
    "                i = i+1\n",
    "            p.next = self.head\n",
    "            self.tail = p\n",
    "        self.size -=1\n",
    "        return e\n",
    "\n",
    "\n",
    "    def del_any(self,position):\n",
    "        if self.size == 0:\n",
    "            print('list is empty')\n",
    "            return\n",
    "        else:\n",
    "            p = self.head\n",
    "            i = 1\n",
    "            while i < position-1:\n",
    "                p = p.next\n",
    "                i = i+1\n",
    "            e = p.next.element\n",
    "            p.next = p.next.next\n",
    "        self.size -=1\n",
    "        return e"
   ]
  },
  {
   "cell_type": "code",
   "execution_count": 53,
   "id": "9064707d-b87a-4d58-8fce-b714dc89bd8a",
   "metadata": {},
   "outputs": [
    {
     "name": "stdout",
     "output_type": "stream",
     "text": [
      "7-->4-->12-->\n",
      "size: 3\n",
      "7-->4-->12-->3-->5-->10-->\n",
      "size: 6\n"
     ]
    }
   ],
   "source": [
    "cl = CircularLinkedList()\n",
    "cl.add_last(7)\n",
    "cl.add_last(4)\n",
    "cl.add_last(12)\n",
    "cl.display()\n",
    "print('size:',len(cl))\n",
    "cl.add_last(3)\n",
    "cl.add_last(5)\n",
    "cl.add_last(10)\n",
    "cl.display()\n",
    "print('size:',len(cl))"
   ]
  },
  {
   "cell_type": "code",
   "execution_count": 54,
   "id": "5b65d37f-1c63-45f5-b32f-202d41f1f1b6",
   "metadata": {},
   "outputs": [
    {
     "name": "stdout",
     "output_type": "stream",
     "text": [
      "1-->7-->4-->12-->3-->5-->10-->\n",
      "size: 7\n"
     ]
    }
   ],
   "source": [
    "cl.add_first(1)\n",
    "cl.display()\n",
    "print('size:',len(cl))"
   ]
  },
  {
   "cell_type": "code",
   "execution_count": 55,
   "id": "a8f8d364-a58c-47da-b039-e4bb1849ec6d",
   "metadata": {},
   "outputs": [
    {
     "name": "stdout",
     "output_type": "stream",
     "text": [
      "1-->7-->4-->12-->34-->3-->5-->10-->\n",
      "size: 8\n"
     ]
    }
   ],
   "source": [
    "cl.add_any(34,5)\n",
    "cl.display()\n",
    "print('size:',len(cl))"
   ]
  },
  {
   "cell_type": "code",
   "execution_count": 56,
   "id": "2d2e6054-6e3c-47fa-8bd2-49bcbd3c9957",
   "metadata": {},
   "outputs": [
    {
     "name": "stdout",
     "output_type": "stream",
     "text": [
      "removed element 1\n",
      "7-->4-->12-->34-->3-->5-->10-->\n",
      "size: 7\n"
     ]
    }
   ],
   "source": [
    "removed = cl.del_first()\n",
    "print('removed element',removed)\n",
    "cl.display()\n",
    "print('size:',len(cl))"
   ]
  },
  {
   "cell_type": "code",
   "execution_count": 57,
   "id": "27ef17ef-7d33-42fc-b62e-29155f485504",
   "metadata": {},
   "outputs": [
    {
     "name": "stdout",
     "output_type": "stream",
     "text": [
      "removed element 10\n",
      "7-->4-->12-->34-->3-->5-->\n",
      "size: 6\n"
     ]
    }
   ],
   "source": [
    "removed = cl.del_last()\n",
    "print('removed element',removed)\n",
    "cl.display()\n",
    "print('size:',len(cl))"
   ]
  },
  {
   "cell_type": "code",
   "execution_count": 58,
   "id": "34d47c7e-fff4-4466-a71f-a1f61bad33b9",
   "metadata": {},
   "outputs": [
    {
     "name": "stdout",
     "output_type": "stream",
     "text": [
      "removed element 4\n",
      "7-->12-->34-->3-->5-->\n",
      "size: 5\n"
     ]
    }
   ],
   "source": [
    "removed = cl.del_any(2)\n",
    "print('removed element',removed)\n",
    "cl.display()\n",
    "print('size:',len(cl))"
   ]
  },
  {
   "cell_type": "code",
   "execution_count": null,
   "id": "04fb3242-b6dc-4f59-9258-0e122f52b975",
   "metadata": {},
   "outputs": [],
   "source": []
  }
 ],
 "metadata": {
  "kernelspec": {
   "display_name": "Python 3 (ipykernel)",
   "language": "python",
   "name": "python3"
  },
  "language_info": {
   "codemirror_mode": {
    "name": "ipython",
    "version": 3
   },
   "file_extension": ".py",
   "mimetype": "text/x-python",
   "name": "python",
   "nbconvert_exporter": "python",
   "pygments_lexer": "ipython3",
   "version": "3.13.1"
  }
 },
 "nbformat": 4,
 "nbformat_minor": 5
}
