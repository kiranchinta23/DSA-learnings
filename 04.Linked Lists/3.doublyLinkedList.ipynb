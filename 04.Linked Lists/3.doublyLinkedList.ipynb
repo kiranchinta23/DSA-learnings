{
 "cells": [
  {
   "attachments": {},
   "cell_type": "markdown",
   "id": "97401575-4254-48c0-aada-4e5915b398eb",
   "metadata": {},
   "source": [
    "<img src=\"../images/Screenshot 2025-02-03 at 12.54.48 PM.png\"/>\n"
   ]
  },
  {
   "cell_type": "code",
   "execution_count": 76,
   "id": "2df7bd2f-3137-4ce6-9afc-c26955f925dc",
   "metadata": {},
   "outputs": [],
   "source": [
    "class Node:\n",
    "    def __init__(self,element,next,prev):\n",
    "        self.element = element\n",
    "        self.next = next\n",
    "        self.prev = prev"
   ]
  },
  {
   "cell_type": "code",
   "execution_count": 78,
   "id": "71987d94-0875-422b-b699-08e177ae4ef3",
   "metadata": {},
   "outputs": [],
   "source": [
    "class DoublyLinkedList:\n",
    "    def __init__(self):\n",
    "        self.head = None\n",
    "        self.tail = None\n",
    "        self.size = 0\n",
    "\n",
    "    def __len__(self):\n",
    "        return self.size\n",
    "\n",
    "    def add_last(self,element):\n",
    "        newest = Node(element,None,None)\n",
    "        if self.size == 0 :\n",
    "            self.head = newest\n",
    "            self.tail = newest\n",
    "        else:\n",
    "            self.tail.next = newest\n",
    "            newest.prev = self.tail\n",
    "            self.tail = newest\n",
    "        self.size +=1 \n",
    "            \n",
    "    def display(self):\n",
    "        p = self.head\n",
    "        while p:\n",
    "            print(p.element,end='<=>')\n",
    "            p = p.next\n",
    "        print()    \n",
    "\n",
    "    def add_first(self,element):\n",
    "        newest = Node(element,None,None)\n",
    "        if self.size == 0:\n",
    "            self.head = newest\n",
    "            self.tail = newest\n",
    "        else:\n",
    "            newest.next= self.head\n",
    "            self.head.prev= newest\n",
    "            self.head = newest\n",
    "        self.size+=1\n",
    "\n",
    "    def add_any(self,element,position):\n",
    "        newest = Node(element,None,None)\n",
    "        p= self.head\n",
    "        i =1\n",
    "        while i < position -1:\n",
    "            p = p.next\n",
    "            i = i+1\n",
    "\n",
    "        newest.next = p.next\n",
    "        newest.prev = p\n",
    "        p.next.prev = newest\n",
    "        p.next = newest\n",
    "        self.size +=1\n",
    "\n",
    "    def del_first(self):\n",
    "        if self.size ==0:\n",
    "            print('empty list')\n",
    "            return\n",
    "        elif self.size ==1:\n",
    "            e = self.head.element\n",
    "            self.head = None\n",
    "            self.tail = None\n",
    "        else:\n",
    "            e = self.head.element\n",
    "            self.head = self.head.next\n",
    "            self.head.prev = None\n",
    "        self.size -=1\n",
    "        return e\n",
    "\n",
    "    def del_last(self):\n",
    "        if self.size ==0:\n",
    "            print('empty list')\n",
    "            return\n",
    "        elif self.size ==1:\n",
    "            e = self.tail.element\n",
    "            self.head = None\n",
    "            self.tail = None\n",
    "        else:\n",
    "            e = self.tail.element\n",
    "            self.tail = self.tail.prev\n",
    "            self.tail.next = None\n",
    "        self.size -=1\n",
    "        return e\n",
    "\n",
    "    def del_any(self,position):\n",
    "        p =  self.head\n",
    "        i = 1\n",
    "        while i< position-1:\n",
    "            p = p.next\n",
    "            i +=1\n",
    "        e = p.next.element\n",
    "        p.next = p.next.next\n",
    "        p.next.prev = p\n",
    "        self.size -= 1\n",
    "        return e"
   ]
  },
  {
   "cell_type": "code",
   "execution_count": 79,
   "id": "518b5615-e9d2-4527-82bc-7261b2e9e6d3",
   "metadata": {},
   "outputs": [
    {
     "name": "stdout",
     "output_type": "stream",
     "text": [
      "7<=>4<=>12<=>\n",
      "size: 3\n",
      "7<=>4<=>12<=>3<=>5<=>10<=>\n",
      "size: 6\n"
     ]
    }
   ],
   "source": [
    "dl = DoublyLinkedList()\n",
    "dl.add_last(7)\n",
    "dl.add_last(4)\n",
    "dl.add_last(12)\n",
    "dl.display()\n",
    "print('size:',len(dl))\n",
    "dl.add_last(3)\n",
    "dl.add_last(5)\n",
    "dl.add_last(10)\n",
    "dl.display()\n",
    "print('size:',len(dl))"
   ]
  },
  {
   "cell_type": "code",
   "execution_count": 80,
   "id": "fc6d0da9-d52c-40ae-97c6-4c36455d2421",
   "metadata": {},
   "outputs": [
    {
     "name": "stdout",
     "output_type": "stream",
     "text": [
      "1<=>7<=>4<=>12<=>3<=>5<=>10<=>\n",
      "size: 7\n"
     ]
    }
   ],
   "source": [
    "dl.add_first(1)\n",
    "dl.display()\n",
    "print('size:',len(dl))"
   ]
  },
  {
   "cell_type": "code",
   "execution_count": 81,
   "id": "c03f09bc-6fee-46c1-a84c-b1bf55164bfa",
   "metadata": {},
   "outputs": [
    {
     "name": "stdout",
     "output_type": "stream",
     "text": [
      "1<=>7<=>111<=>4<=>12<=>3<=>5<=>10<=>\n",
      "size: 8\n"
     ]
    }
   ],
   "source": [
    "dl.add_any(111,3)\n",
    "dl.display()\n",
    "print('size:',len(dl))"
   ]
  },
  {
   "cell_type": "code",
   "execution_count": 82,
   "id": "f873ca63-4993-44fd-8201-ab247f7a3300",
   "metadata": {},
   "outputs": [
    {
     "name": "stdout",
     "output_type": "stream",
     "text": [
      "removed element 1\n",
      "7<=>111<=>4<=>12<=>3<=>5<=>10<=>\n",
      "size: 7\n"
     ]
    }
   ],
   "source": [
    "removed = dl.del_first()\n",
    "print('removed element',removed)\n",
    "dl.display()\n",
    "print('size:',len(dl))"
   ]
  },
  {
   "cell_type": "code",
   "execution_count": 83,
   "id": "e998108a-5458-43ca-b0c7-008aaa17aab7",
   "metadata": {},
   "outputs": [
    {
     "name": "stdout",
     "output_type": "stream",
     "text": [
      "removed element 10\n",
      "7<=>111<=>4<=>12<=>3<=>5<=>\n",
      "size: 6\n"
     ]
    }
   ],
   "source": [
    "removed = dl.del_last()\n",
    "print('removed element',removed)\n",
    "dl.display()\n",
    "print('size:',len(dl))"
   ]
  },
  {
   "cell_type": "code",
   "execution_count": 84,
   "id": "4d1e0f2d-f17d-40ce-8732-672f7a4dc67b",
   "metadata": {},
   "outputs": [
    {
     "name": "stdout",
     "output_type": "stream",
     "text": [
      "removed element 4\n",
      "7<=>111<=>12<=>3<=>5<=>\n",
      "size: 5\n"
     ]
    }
   ],
   "source": [
    "removed = dl.del_any(3)\n",
    "print('removed element',removed)\n",
    "dl.display()\n",
    "print('size:',len(dl))"
   ]
  },
  {
   "cell_type": "code",
   "execution_count": null,
   "id": "13eb69e8-6537-40c3-800b-4ce337257bec",
   "metadata": {},
   "outputs": [],
   "source": []
  },
  {
   "cell_type": "code",
   "execution_count": null,
   "id": "7ec25a25-658c-4640-86ff-3c3a9ce7d389",
   "metadata": {},
   "outputs": [],
   "source": [
    "<img src=\"../images/Screenshot 2025-01-23 at 9.16.29 PM.png\"/>"
   ]
  }
 ],
 "metadata": {
  "kernelspec": {
   "display_name": "Python 3 (ipykernel)",
   "language": "python",
   "name": "python3"
  },
  "language_info": {
   "codemirror_mode": {
    "name": "ipython",
    "version": 3
   },
   "file_extension": ".py",
   "mimetype": "text/x-python",
   "name": "python",
   "nbconvert_exporter": "python",
   "pygments_lexer": "ipython3",
   "version": "3.13.1"
  }
 },
 "nbformat": 4,
 "nbformat_minor": 5
}
