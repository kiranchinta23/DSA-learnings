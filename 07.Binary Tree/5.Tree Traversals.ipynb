{
 "cells": [
  {
   "cell_type": "markdown",
   "id": "9137c0c2-b027-4a15-8697-9253799e6f33",
   "metadata": {},
   "source": [
    "# 1. Pre-order traversal\n",
    "- root, left, right"
   ]
  },
  {
   "cell_type": "markdown",
   "id": "7d3ba0d5-99c0-4388-ae52-b5d2e06516be",
   "metadata": {},
   "source": [
    "# 2. In-order traversal\n",
    " - left, root, right"
   ]
  },
  {
   "cell_type": "markdown",
   "id": "eadc535c-0612-4641-b377-843c5f3b5a31",
   "metadata": {},
   "source": [
    "# 3.Post-order traversal\n",
    "- left, right, root"
   ]
  },
  {
   "cell_type": "markdown",
   "id": "e8d01853-326e-45f0-9050-500963cf613a",
   "metadata": {},
   "source": [
    "# 4. Level-order traversal\n",
    "- level by level\n",
    "- left to right"
   ]
  },
  {
   "cell_type": "markdown",
   "id": "e03c2891-fb52-4a4b-934e-16ad6e2461e6",
   "metadata": {},
   "source": [
    "# examples"
   ]
  },
  {
   "attachments": {},
   "cell_type": "markdown",
   "id": "824c9b63-8979-4a27-8191-f7d52a4d9709",
   "metadata": {},
   "source": [
    "<img src=\"../images/Screenshot 2025-02-21 at 4.47.28 PM.png\"/>\n",
    "\n",
    "\n",
    "<img src=\"../images/Screenshot 2025-02-21 at 4.48.04 PM.png\"/>\n"
   ]
  },
  {
   "attachments": {},
   "cell_type": "markdown",
   "id": "b220ab81-41e1-4ada-a06a-faac85a8e88b",
   "metadata": {},
   "source": [
    "## Level order algorithm\n",
    "<img src=\"../images/level-order-traversal.png\"/>"
   ]
  },
  {
   "cell_type": "code",
   "execution_count": null,
   "id": "c06020ed-ca2b-4680-b050-d4f97e07f1ff",
   "metadata": {},
   "outputs": [],
   "source": []
  }
 ],
 "metadata": {
  "kernelspec": {
   "display_name": "Python 3 (ipykernel)",
   "language": "python",
   "name": "python3"
  },
  "language_info": {
   "codemirror_mode": {
    "name": "ipython",
    "version": 3
   },
   "file_extension": ".py",
   "mimetype": "text/x-python",
   "name": "python",
   "nbconvert_exporter": "python",
   "pygments_lexer": "ipython3",
   "version": "3.13.1"
  }
 },
 "nbformat": 4,
 "nbformat_minor": 5
}
