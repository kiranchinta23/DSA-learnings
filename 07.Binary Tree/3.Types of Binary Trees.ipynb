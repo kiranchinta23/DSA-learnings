{
 "cells": [
  {
   "cell_type": "markdown",
   "id": "494cf2d8-c1c2-494f-8d2a-7116df252e90",
   "metadata": {},
   "source": [
    "# 1. Proper Binary Tree\n",
    "- a binary tree with either 0/2 children for every node"
   ]
  },
  {
   "cell_type": "markdown",
   "id": "87200b71-b0c2-43fc-aaf6-40d58e0c805f",
   "metadata": {},
   "source": [
    "# 2. Full Binary Tree\n",
    "- a binary tree with either 0/2 children for every node\n",
    "- number of nodes = 2^(h+1)-1"
   ]
  },
  {
   "cell_type": "markdown",
   "id": "5f41570c-6a27-41f8-97af-2852447e48da",
   "metadata": {},
   "source": [
    "# 3. Complete Binary Tree\n",
    "- until height h-1, it is full binary tree\n",
    "- at h, left to right no missing nodes"
   ]
  },
  {
   "cell_type": "markdown",
   "id": "afc4dc72-c8f5-449a-a1a4-7488b80fda50",
   "metadata": {},
   "source": [
    "# examples"
   ]
  },
  {
   "attachments": {},
   "cell_type": "markdown",
   "id": "3c60e6a3-6b44-4fdc-ae9c-198d5b89fc11",
   "metadata": {},
   "source": [
    "<img src=\"../images/Screenshot 2025-02-21 at 1.33.12 PM.png\"/>\n"
   ]
  },
  {
   "cell_type": "code",
   "execution_count": null,
   "id": "3260694a-6e30-4851-b08b-b8ef004b8a0e",
   "metadata": {},
   "outputs": [],
   "source": []
  },
  {
   "cell_type": "code",
   "execution_count": null,
   "id": "c2988e2e-e6ba-4d16-b112-b7a75a19b0b3",
   "metadata": {},
   "outputs": [],
   "source": []
  }
 ],
 "metadata": {
  "kernelspec": {
   "display_name": "Python 3 (ipykernel)",
   "language": "python",
   "name": "python3"
  },
  "language_info": {
   "codemirror_mode": {
    "name": "ipython",
    "version": 3
   },
   "file_extension": ".py",
   "mimetype": "text/x-python",
   "name": "python",
   "nbconvert_exporter": "python",
   "pygments_lexer": "ipython3",
   "version": "3.13.1"
  }
 },
 "nbformat": 4,
 "nbformat_minor": 5
}
