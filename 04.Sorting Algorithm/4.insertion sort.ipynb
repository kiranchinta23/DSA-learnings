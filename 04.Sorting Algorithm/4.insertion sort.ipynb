{
 "cells": [
  {
   "cell_type": "markdown",
   "id": "53eef02a-4dc3-4b4c-b3ed-246ddb9cb95a",
   "metadata": {},
   "source": [
    "# Bubble sort"
   ]
  },
  {
   "cell_type": "markdown",
   "id": "ee3e4cbd-9f65-429d-9901-2d00f808dc0b",
   "metadata": {},
   "source": [
    "### 1. Explanation, num of comparisions, num of swaps"
   ]
  },
  {
   "attachments": {},
   "cell_type": "markdown",
   "id": "fd162a9b-2785-4eca-8fd5-088d33c2ea9e",
   "metadata": {},
   "source": [
    "<img src=\"../images/Screenshot 2025-01-20 at 1.06.46 PM.png\"/>"
   ]
  },
  {
   "cell_type": "markdown",
   "id": "d7a6e666-da1e-42cf-8668-8a2f297e2a24",
   "metadata": {},
   "source": [
    "### 2. Adaptive\n",
    "- insertion sort is adaptive"
   ]
  },
  {
   "attachments": {},
   "cell_type": "markdown",
   "id": "6ca126b7-8e5d-40b5-a688-ea511c47e272",
   "metadata": {},
   "source": [
    "<img src=\"../images/Screenshot 2025-01-20 at 1.31.49 PM.png\"/>"
   ]
  },
  {
   "cell_type": "markdown",
   "id": "c612828c-044a-4b33-ab4b-4ca049534587",
   "metadata": {},
   "source": [
    "### 3. Stable\n",
    "- insertion sort is stable\n"
   ]
  },
  {
   "attachments": {},
   "cell_type": "markdown",
   "id": "7e0ec2aa-746c-46f8-955e-34acc2fc9b82",
   "metadata": {},
   "source": [
    "<img src=\"../images/Screenshot 2025-01-20 at 1.33.57 PM.png\"/>"
   ]
  },
  {
   "cell_type": "markdown",
   "id": "65a7c65c-57e1-4339-a510-d77d41242173",
   "metadata": {},
   "source": [
    "### 4. Code"
   ]
  },
  {
   "cell_type": "code",
   "execution_count": 21,
   "id": "718aaa30-62dc-4f89-84e6-d065279937d6",
   "metadata": {},
   "outputs": [],
   "source": [
    "def insertion_sort(A):\n",
    "    n = len(A)\n",
    "    for i in range(1,n):  # number of pases\n",
    "        value = A[i]\n",
    "        hole = i\n",
    "        while (hole > 0) and (A[hole-1]>value): # comparision\n",
    "            A[hole] = A[hole-1]\n",
    "            hole = hole-1\n",
    "        A[hole] = value"
   ]
  },
  {
   "cell_type": "code",
   "execution_count": 20,
   "id": "60cc7882-bdfa-478b-b250-5423e9a2f4e8",
   "metadata": {},
   "outputs": [
    {
     "name": "stdout",
     "output_type": "stream",
     "text": [
      "before sorting [3, -1, 2, 5, 7, 0, -12, 3]\n",
      "None\n",
      "after sorting [7, -1, 0, 2, 3, 3, 5, -12]\n"
     ]
    }
   ],
   "source": [
    "a = [3,-1,2,5,7,-0,-12,3]\n",
    "print('before sorting',a)\n",
    "print(insertion_sort(a))\n",
    "print('after sorting',a)"
   ]
  },
  {
   "cell_type": "markdown",
   "id": "1aacda37-87f9-4921-a531-7691fb42034a",
   "metadata": {},
   "source": [
    "# 5. Time complexity\n",
    "\n",
    "### Best Case: O(N)\n",
    "- The best-case time complexity of Insertion Sort occurs when the input array is already sorted.\n",
    "- In this scenario, each element is compared with its preceding elements until no swaps are needed, resulting in a linear time complexity.\n",
    "- Therefore, the best-case time complexity is O(N), where n is the number of elements in the array.\n",
    "\n",
    "### Average Case: O(N2)\n",
    "- The average-case time complexity of Insertion Sort is also O(N2).\n",
    "- This complexity arises from the nature of the algorithm, which involves pairwise comparisons and swaps to sort the elements.\n",
    "- Although the exact number of comparisons and swaps may vary depending on the input, the average-case time complexity remains quadratic.\n",
    "\n",
    "### Worst Case: O(N2)\n",
    "- The worst-case time complexity of Insertion Sort occurs when the input array is in reverse sorted order.\n",
    "- In this scenario, each element needs to be compared and possibly swapped with every preceding element, resulting in a quadratic time complexity.\n",
    "- Therefore, the worst-case time complexity is O(N2), where n is the number of elements in the array."
   ]
  },
  {
   "cell_type": "code",
   "execution_count": null,
   "id": "01f1b570-b5c3-4c60-860c-921567e371e2",
   "metadata": {},
   "outputs": [],
   "source": []
  }
 ],
 "metadata": {
  "kernelspec": {
   "display_name": "Python 3 (ipykernel)",
   "language": "python",
   "name": "python3"
  },
  "language_info": {
   "codemirror_mode": {
    "name": "ipython",
    "version": 3
   },
   "file_extension": ".py",
   "mimetype": "text/x-python",
   "name": "python",
   "nbconvert_exporter": "python",
   "pygments_lexer": "ipython3",
   "version": "3.13.1"
  }
 },
 "nbformat": 4,
 "nbformat_minor": 5
}
