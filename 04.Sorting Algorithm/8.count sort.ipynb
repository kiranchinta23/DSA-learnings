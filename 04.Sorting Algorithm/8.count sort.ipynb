{
 "cells": [
  {
   "cell_type": "markdown",
   "id": "3629ebff-3d7a-4965-a0a1-f858ec5da951",
   "metadata": {},
   "source": [
    "# Count sort"
   ]
  },
  {
   "cell_type": "markdown",
   "id": "210538d5-e439-4bc7-9dd6-42ad2ccc2364",
   "metadata": {},
   "source": [
    "# 1. Explanation"
   ]
  },
  {
   "attachments": {},
   "cell_type": "markdown",
   "id": "bc1d5f4d-1e4c-46a0-a169-de7042771358",
   "metadata": {},
   "source": [
    "<img src=\"../images/Screenshot 2025-01-23 at 9.00.27 PM.png\"/>"
   ]
  },
  {
   "cell_type": "markdown",
   "id": "1ed68c26-cee3-4c5d-9624-01210d9b3fef",
   "metadata": {},
   "source": [
    "# 2. Adaptive\n",
    "- count sort is adaptive"
   ]
  },
  {
   "cell_type": "markdown",
   "id": "6b17598a-8228-42b2-b3e9-8078a4ee4622",
   "metadata": {},
   "source": [
    "# 3. Stable\n",
    "- count sort is stable"
   ]
  },
  {
   "cell_type": "markdown",
   "id": "4f877680-4332-4f0b-ad27-9cd1ec226949",
   "metadata": {},
   "source": [
    "# 4. Implementation"
   ]
  },
  {
   "cell_type": "code",
   "execution_count": 4,
   "id": "8a59ed58-b19f-477c-9287-c3f5f6d62503",
   "metadata": {},
   "outputs": [],
   "source": [
    "def count_sort(A):\n",
    "    n = len(A)\n",
    "    max_ele = max(A)\n",
    "    B = [0] * (max_ele + 1)\n",
    "    for i in range(n):\n",
    "        B[A[i]] = B[A[i]] + 1\n",
    "    i = 0\n",
    "    j = 0\n",
    "    while i < max_ele + 1:\n",
    "        if B[i] > 0:\n",
    "            A[j] = i\n",
    "            j = j + 1\n",
    "            B[i] = B[i] - 1\n",
    "        else:\n",
    "            i = i + 1"
   ]
  },
  {
   "cell_type": "code",
   "execution_count": 5,
   "id": "52008b11-9474-4558-9de6-fea6dd70130b",
   "metadata": {},
   "outputs": [
    {
     "name": "stdout",
     "output_type": "stream",
     "text": [
      "Original Array: [3, 5, 8, 9, 6, 2, 3, 5, 5]\n",
      "Sorted Array: [2, 3, 3, 5, 5, 5, 6, 8, 9]\n"
     ]
    }
   ],
   "source": [
    "A = [3, 5, 8, 9, 6, 2, 3, 5, 5]\n",
    "print('Original Array:',A)\n",
    "count_sort(A)\n",
    "print('Sorted Array:',A)"
   ]
  },
  {
   "cell_type": "code",
   "execution_count": null,
   "id": "f13e988c-fc1e-48aa-a319-0c23356b99e0",
   "metadata": {},
   "outputs": [],
   "source": []
  }
 ],
 "metadata": {
  "kernelspec": {
   "display_name": "Python 3 (ipykernel)",
   "language": "python",
   "name": "python3"
  },
  "language_info": {
   "codemirror_mode": {
    "name": "ipython",
    "version": 3
   },
   "file_extension": ".py",
   "mimetype": "text/x-python",
   "name": "python",
   "nbconvert_exporter": "python",
   "pygments_lexer": "ipython3",
   "version": "3.13.1"
  }
 },
 "nbformat": 4,
 "nbformat_minor": 5
}
