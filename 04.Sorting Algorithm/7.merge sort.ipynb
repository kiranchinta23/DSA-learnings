{
 "cells": [
  {
   "cell_type": "markdown",
   "id": "f036594c-48fc-470d-8f68-9d197a045955",
   "metadata": {},
   "source": [
    "# Merge Sort"
   ]
  },
  {
   "cell_type": "markdown",
   "id": "3aebbba0-665a-4dc5-b368-0b957f84542c",
   "metadata": {},
   "source": [
    "## 1. Explanation"
   ]
  },
  {
   "cell_type": "markdown",
   "id": "02be9f78-ee38-47a0-8281-ff13865e2552",
   "metadata": {},
   "source": [
    "### a. Merging two list into single list"
   ]
  },
  {
   "attachments": {},
   "cell_type": "markdown",
   "id": "34248e2c-29a7-4b38-9226-8e6c30ab27fd",
   "metadata": {},
   "source": [
    "<img src=\"../images/Screenshot 2025-01-21 at 9.33.55 PM.png\"/>"
   ]
  },
  {
   "cell_type": "markdown",
   "id": "78e77301-e1dc-4751-9e3d-f7304801792f",
   "metadata": {},
   "source": [
    "## b. Merging a single list  "
   ]
  },
  {
   "attachments": {},
   "cell_type": "markdown",
   "id": "7d80654a-afcc-4bed-ab61-0a20bf616f5a",
   "metadata": {},
   "source": [
    "<img src=\"../images/Screenshot 2025-01-21 at 9.50.54 PM.png\"/>"
   ]
  },
  {
   "attachments": {},
   "cell_type": "markdown",
   "id": "484b76ce-1786-447d-ae79-c5415fea8cb1",
   "metadata": {},
   "source": [
    "## C. Recursive Merge sort \n",
    "<img src=\"../images/Screenshot 2025-01-21 at 10.01.38 PM.png\"/>"
   ]
  },
  {
   "cell_type": "code",
   "execution_count": 3,
   "id": "b7185de4-bbd8-4bd2-a988-fc9703e5275e",
   "metadata": {},
   "outputs": [
    {
     "name": "stdout",
     "output_type": "stream",
     "text": [
      "Original Array: [3, 5, 8, 9, 6, 2]\n",
      "Sorted Array: [2, 3, 5, 6, 8, 9]\n"
     ]
    }
   ],
   "source": [
    "def mergesort(A, low, high):\n",
    "    if low < high:\n",
    "        mid = (low + high) // 2\n",
    "        mergesort(A, low, mid)\n",
    "        mergesort(A, mid+1, high)\n",
    "        merge(A, low, mid, high)\n",
    "\n",
    "def merge(A, low, mid, high):\n",
    "    i = low\n",
    "    j = mid+1\n",
    "    k = low\n",
    "    B = [0] * (high+1)\n",
    "    while i <= mid and j <= high:\n",
    "        if A[i] < A[j]:\n",
    "            B[k] = A[i]\n",
    "            i = i + 1\n",
    "        else:\n",
    "            B[k] = A[j]\n",
    "            j = j + 1\n",
    "        k = k + 1\n",
    "\n",
    "    while i <= mid:\n",
    "        B[k] = A[i]\n",
    "        i = i + 1\n",
    "        k = k + 1\n",
    "\n",
    "    while j <= high:\n",
    "        B[k] = A[j]\n",
    "        j = j + 1\n",
    "        k = k + 1\n",
    "    for x in range(low,high+1):\n",
    "        A[x] = B[x]\n",
    "\n",
    "\n",
    "A = [3, 5, 8, 9, 6, 2]\n",
    "print('Original Array:',A)\n",
    "mergesort(A,0,len(A)-1)\n",
    "print('Sorted Array:',A)\n"
   ]
  },
  {
   "cell_type": "markdown",
   "id": "ef05efef-6d69-4c0d-9467-32c050400284",
   "metadata": {},
   "source": [
    "### time complexity\n",
    "The Time Complexity of Merge Sort is O(n log n) in both the average and worst cases. \n",
    "\n",
    "### space complexity\n",
    "The space complexity of Merge sort is O(n).\n",
    "This is because it uses an auxiliary array of size n to merge the sorted halves of the input array. "
   ]
  },
  {
   "cell_type": "code",
   "execution_count": null,
   "id": "748165ee-06b3-48f3-ab7c-683ab8f81b9e",
   "metadata": {},
   "outputs": [],
   "source": []
  }
 ],
 "metadata": {
  "kernelspec": {
   "display_name": "Python 3 (ipykernel)",
   "language": "python",
   "name": "python3"
  },
  "language_info": {
   "codemirror_mode": {
    "name": "ipython",
    "version": 3
   },
   "file_extension": ".py",
   "mimetype": "text/x-python",
   "name": "python",
   "nbconvert_exporter": "python",
   "pygments_lexer": "ipython3",
   "version": "3.13.1"
  }
 },
 "nbformat": 4,
 "nbformat_minor": 5
}
