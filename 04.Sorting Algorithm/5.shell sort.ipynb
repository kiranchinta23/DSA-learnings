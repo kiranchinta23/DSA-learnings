{
 "cells": [
  {
   "cell_type": "code",
   "execution_count": null,
   "id": "a8b62548-5d33-4d10-ba1b-0d0b3f17f2f8",
   "metadata": {},
   "outputs": [],
   "source": []
  },
  {
   "cell_type": "code",
   "execution_count": 8,
   "id": "4ca387cb-9d37-4184-9eb2-27538d81ee68",
   "metadata": {},
   "outputs": [],
   "source": [
    "def shell_sort(A):\n",
    "    n = len(A)\n",
    "    gap = n // 2  # Start with a large gap, then reduce it\n",
    "    while gap > 0:\n",
    "        for i in range(gap, n):  # Perform insertion sort for each gap size\n",
    "            value = A[i]\n",
    "            hole = i\n",
    "            while hole >= gap and A[hole - gap] > value:  # Compare elements gap apart\n",
    "                A[hole] = A[hole - gap]\n",
    "                hole -= gap\n",
    "            A[hole] = value\n",
    "        gap //= 2  # Reduce the gap for the next iteration"
   ]
  },
  {
   "cell_type": "code",
   "execution_count": 11,
   "id": "678c31b1-067e-40b2-bb91-949f20490649",
   "metadata": {},
   "outputs": [
    {
     "name": "stdout",
     "output_type": "stream",
     "text": [
      "Original Array: [3, -1, 2, 5, 7, 0, -12, 3]\n",
      "Sorted Array: [-12, -1, 0, 2, 3, 3, 5, 7]\n"
     ]
    }
   ],
   "source": [
    "A = [3,-1,2,5,7,-0,-12,3]\n",
    "print('Original Array:',A)\n",
    "shell_sort(A)\n",
    "print('Sorted Array:',A)"
   ]
  },
  {
   "cell_type": "code",
   "execution_count": null,
   "id": "5d7b25d0-94db-4523-861b-30b7914d875a",
   "metadata": {},
   "outputs": [],
   "source": []
  }
 ],
 "metadata": {
  "kernelspec": {
   "display_name": "Python 3 (ipykernel)",
   "language": "python",
   "name": "python3"
  },
  "language_info": {
   "codemirror_mode": {
    "name": "ipython",
    "version": 3
   },
   "file_extension": ".py",
   "mimetype": "text/x-python",
   "name": "python",
   "nbconvert_exporter": "python",
   "pygments_lexer": "ipython3",
   "version": "3.13.1"
  }
 },
 "nbformat": 4,
 "nbformat_minor": 5
}
