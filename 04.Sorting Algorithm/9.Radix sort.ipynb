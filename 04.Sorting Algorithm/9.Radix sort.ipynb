{
 "cells": [
  {
   "cell_type": "markdown",
   "id": "4327e58b-099a-48f2-9f11-05bbb5786df2",
   "metadata": {},
   "source": [
    "# Radix sort"
   ]
  },
  {
   "cell_type": "markdown",
   "id": "4b1579b7-6bff-4bda-9238-f11f413dc906",
   "metadata": {},
   "source": [
    "# 1. Explanation"
   ]
  },
  {
   "attachments": {},
   "cell_type": "markdown",
   "id": "d4207517-81fa-436b-9517-c819c38e035e",
   "metadata": {},
   "source": [
    "<img src=\"../images/Screenshot 2025-01-23 at 9.16.29 PM.png\"/>"
   ]
  },
  {
   "cell_type": "markdown",
   "id": "ba42a761-cc10-4e69-bc1e-ba2cc78c5a47",
   "metadata": {},
   "source": [
    "# 2. Time complexity\n",
    "- The time complexity of radix sort is typically expressed as O(d * n), where \"n\" is the number of elements in the array and \"d\" is the number of digits (or significant positions) in the largest number"
   ]
  },
  {
   "cell_type": "markdown",
   "id": "9f1b6849-1d57-471c-a942-53714daad5ba",
   "metadata": {},
   "source": [
    "# 3. space complexity\n",
    "- The space complexity of Radix Sort is O(n + k), where \"n\" is the number of elements in the input array and \"k\" represents the maximum possible value of a single digit (or the base of the number system used for sorting), essentially signifying the additional space needed for a temporary \"count\" array used during each digit sorting pass; this means the space complexity is linear with respect to the input size and the maximum digit value. "
   ]
  },
  {
   "cell_type": "markdown",
   "id": "de7c6aa0-e403-428b-8c87-e2a9b3c35a19",
   "metadata": {},
   "source": [
    "# 4. Adaptive\n",
    "- Radix sort is adaptive"
   ]
  },
  {
   "cell_type": "markdown",
   "id": "58711b9a-ffeb-4ff8-a3b6-74161ba19b20",
   "metadata": {},
   "source": [
    "# 5. Stable\n",
    "- Radix sort is stable"
   ]
  },
  {
   "cell_type": "markdown",
   "id": "a44ffe57-a121-496b-93c0-ec584c1bc8a7",
   "metadata": {},
   "source": [
    "# 6. Implementation"
   ]
  },
  {
   "cell_type": "code",
   "execution_count": 2,
   "id": "54fdc392-5905-4141-9fdd-f570ac0f19a4",
   "metadata": {},
   "outputs": [],
   "source": [
    "def radix_sort(A):\n",
    "    n = len(A)\n",
    "    max_ele = max(A)\n",
    "    digits = len(str(max_ele))\n",
    "    l = []\n",
    "    bins = [l] * 10\n",
    "    for i in range(digits):\n",
    "        for j in range(n):\n",
    "            e = int((A[j] / pow(10, i)) % 10)\n",
    "            if len(bins[e]) > 0:\n",
    "                bins[e].append(A[j])\n",
    "            else:\n",
    "                bins[e] = [A[j]]\n",
    "        k = 0\n",
    "        for x in range(10):\n",
    "            if len(bins[x]) > 0:\n",
    "                for y in range(len(bins[x])):\n",
    "                    A[k] = bins[x].pop(0)\n",
    "                    k = k + 1"
   ]
  },
  {
   "cell_type": "code",
   "execution_count": 3,
   "id": "8b49a436-e4f9-4e1c-9c13-623e4e23cc80",
   "metadata": {},
   "outputs": [
    {
     "name": "stdout",
     "output_type": "stream",
     "text": [
      "Original Array: [63, 250, 835, 947, 651, 28]\n",
      "Sorted Array: [28, 63, 250, 651, 835, 947]\n"
     ]
    }
   ],
   "source": [
    "A = [63, 250, 835, 947, 651, 28]\n",
    "print('Original Array:',A)\n",
    "radix_sort(A)\n",
    "print('Sorted Array:',A)"
   ]
  },
  {
   "cell_type": "code",
   "execution_count": null,
   "id": "c3546e07-c21e-4f1c-80a6-46a021adca71",
   "metadata": {},
   "outputs": [],
   "source": []
  }
 ],
 "metadata": {
  "kernelspec": {
   "display_name": "Python 3 (ipykernel)",
   "language": "python",
   "name": "python3"
  },
  "language_info": {
   "codemirror_mode": {
    "name": "ipython",
    "version": 3
   },
   "file_extension": ".py",
   "mimetype": "text/x-python",
   "name": "python",
   "nbconvert_exporter": "python",
   "pygments_lexer": "ipython3",
   "version": "3.13.1"
  }
 },
 "nbformat": 4,
 "nbformat_minor": 5
}
