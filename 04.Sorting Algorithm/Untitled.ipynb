{
 "cells": [
  {
   "cell_type": "code",
   "execution_count": 6,
   "id": "0a3647ef-633c-432e-b290-018150154709",
   "metadata": {},
   "outputs": [],
   "source": [
    "def selection_sort(A):\n",
    "    n = len(A)\n",
    "    for i in range(n-1):\n",
    "        min = i\n",
    "        for j in range(i+1,n):\n",
    "            if A[j]<A[min]:\n",
    "                temp = A[j]\n",
    "                A[j]=A[min]\n",
    "                A[min]=temp\n",
    "    return A"
   ]
  },
  {
   "cell_type": "code",
   "execution_count": 23,
   "id": "3721e055-1cd5-45eb-ab0d-9fbcbdf67566",
   "metadata": {},
   "outputs": [],
   "source": [
    "def swap(x, y):\n",
    "    return y, x\n",
    "\n",
    "def selection_sort_ab(A):\n",
    "    n = len(A)\n",
    "    for i in range(n-1):  # no of passes\n",
    "        k=i\n",
    "        for j in range(i,n): # until last element\n",
    "            if A[j]<A[k]:\n",
    "                k = j\n",
    "        A[i], A[k] = swap(A[i], A[k])\n",
    "    return A"
   ]
  },
  {
   "cell_type": "code",
   "execution_count": 24,
   "id": "99181caa-0974-46ea-92ad-16b6adbf68ca",
   "metadata": {},
   "outputs": [
    {
     "name": "stdout",
     "output_type": "stream",
     "text": [
      "[-12, -1, 0, 2, 3, 3, 5, 7]\n"
     ]
    }
   ],
   "source": [
    "a = [3,-1,2,5,7,-0,-12,3]\n",
    "print(selection_sort_ab(a))"
   ]
  },
  {
   "cell_type": "code",
   "execution_count": 25,
   "id": "9b870934-b99f-44a3-b5a3-aa955971cd01",
   "metadata": {},
   "outputs": [],
   "source": [
    "def insertion_sort(A):\n",
    "    n = len(A)\n",
    "    for i in range(1,n):\n",
    "        value = A[i]\n",
    "        hole = i\n",
    "        while (hole > 0) and (A[hole-1]>value):\n",
    "            A[hole] = A[hole-1]\n",
    "            hole = hole-1\n",
    "        A[hole] = value\n",
    "    return A"
   ]
  },
  {
   "cell_type": "code",
   "execution_count": 26,
   "id": "da948e90-d7cc-4c91-b7cf-726284517d11",
   "metadata": {},
   "outputs": [
    {
     "name": "stdout",
     "output_type": "stream",
     "text": [
      "[-12, -1, 0, 2, 3, 3, 5, 7]\n"
     ]
    }
   ],
   "source": [
    "a = [3,-1,2,5,7,-0,-12,3]\n",
    "print(insertion_sort(a))"
   ]
  },
  {
   "cell_type": "code",
   "execution_count": null,
   "id": "794daeb3-ed36-4123-96ca-84dee502cd04",
   "metadata": {},
   "outputs": [],
   "source": []
  }
 ],
 "metadata": {
  "kernelspec": {
   "display_name": "Python 3 (ipykernel)",
   "language": "python",
   "name": "python3"
  },
  "language_info": {
   "codemirror_mode": {
    "name": "ipython",
    "version": 3
   },
   "file_extension": ".py",
   "mimetype": "text/x-python",
   "name": "python",
   "nbconvert_exporter": "python",
   "pygments_lexer": "ipython3",
   "version": "3.13.1"
  }
 },
 "nbformat": 4,
 "nbformat_minor": 5
}
