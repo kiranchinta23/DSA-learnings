{
 "cells": [
  {
   "cell_type": "markdown",
   "id": "b4f8d31c-4f45-4fec-8abd-af3153460f52",
   "metadata": {},
   "source": [
    "# BST Deleting"
   ]
  },
  {
   "attachments": {},
   "cell_type": "markdown",
   "id": "47021020-9b2d-4bdb-81ef-de4bfeb4e5ea",
   "metadata": {},
   "source": [
    "<img src=\"../images/Screenshot 2025-02-24 at 9.40.05 PM.png\"/>"
   ]
  },
  {
   "cell_type": "markdown",
   "id": "cb54ec5b-c000-456a-b8f7-e55043a8f318",
   "metadata": {},
   "source": [
    "# Iterative"
   ]
  },
  {
   "cell_type": "code",
   "execution_count": 122,
   "id": "5a550ff6-63b8-4b35-86fe-076b3a7a63af",
   "metadata": {},
   "outputs": [],
   "source": [
    "class Node:\n",
    "    def __init__(self,element):\n",
    "        self.element =element\n",
    "        self.left =None\n",
    "        self.right =None\n",
    "\n",
    "class BinarySearchTree:\n",
    "    def __init__(self):\n",
    "        self.root = None\n",
    "\n",
    "    def insert(self,troot,e):\n",
    "        newest = Node(e)\n",
    "        if self.root is None:\n",
    "            self.root = newest\n",
    "        else:\n",
    "            parent = None\n",
    "            while troot:\n",
    "                parent = troot\n",
    "                if troot.element == e :\n",
    "                    return\n",
    "                elif e<troot.element:\n",
    "                    troot = troot.left\n",
    "                elif e > troot.element:\n",
    "                    troot = troot.right\n",
    "            if e > parent.element:\n",
    "                parent.right = newest\n",
    "            else:\n",
    "                parent.left = newest\n",
    "                \n",
    "    def inorder(self,troot):\n",
    "        if troot:\n",
    "            self.inorder(troot.left)\n",
    "            print(troot.element,end=' ')\n",
    "            self.inorder(troot.right)\n",
    "\n",
    "    def delete(self,troot,key):\n",
    "        parent = None \n",
    "\n",
    "        # Search for the node to delete\n",
    "        while troot and troot.element != key:\n",
    "            parent = troot\n",
    "            if key < troot.element:\n",
    "                troot = troot.left\n",
    "            else:\n",
    "                troot = troot.right\n",
    "    \n",
    "        if troot is None:  # Key not found\n",
    "            return False\n",
    "\n",
    "        # # Case 1 - Node has no children (leaf node)\n",
    "        # if troot.left is None and troot.right is None:\n",
    "        #     if troot == self.root:\n",
    "        #         self.root = None\n",
    "        #         return True  # If root is the only node\n",
    "        #     elif troot == parent.left:\n",
    "        #         parent.left = None\n",
    "        #     else:\n",
    "        #         parent.right = None\n",
    "\n",
    "        # Case 1 & Case 2 - Node has no children or one child\n",
    "        if troot.left is None or troot.right is None:\n",
    "            next_node = troot.left if troot.left else troot.right  # Choose the non-null child (or None if leaf)\n",
    "            if troot == self.root:\n",
    "                self.root = next_node  # Handle root replacement\n",
    "            elif troot == parent.left:\n",
    "                parent.left = next_node\n",
    "            else:\n",
    "                parent.right = next_node\n",
    "            return True\n",
    "\n",
    "        # case 3 - node has two child nodes\n",
    "        else:\n",
    "            # Find the in-order next_node (next node to the node you want to delete)\n",
    "            # next_parent = troot\n",
    "            # next_node = troot.right\n",
    "            # while next_node.left:\n",
    "            #     next_parent = next_node\n",
    "            #     next_node = next_node.left\n",
    "            next_node, next_parent = self.find_next_node(troot)\n",
    "\n",
    "               \n",
    "            # Replace the value of troot with the min_node's value\n",
    "            troot.element = next_node.element\n",
    "\n",
    "            # Delete the next_node node (it has at most one child)\n",
    "            if next_parent.left == next_node:\n",
    "                next_parent.left = next_node.right\n",
    "            else:\n",
    "                next_parent.right = next_node.right\n",
    "\n",
    "            return True\n",
    "    \n",
    "    def find_next_node(self, troot):\n",
    "        next_parent = troot\n",
    "        next_node = troot.right\n",
    "        while next_node.left:\n",
    "            next_parent = next_node\n",
    "            next_node = next_node.left\n",
    "\n",
    "        return next_node, next_parent\n",
    "\n"
   ]
  },
  {
   "cell_type": "code",
   "execution_count": 119,
   "id": "4e896b60-e768-4e46-8845-46982a0672cf",
   "metadata": {},
   "outputs": [
    {
     "name": "stdout",
     "output_type": "stream",
     "text": [
      "60 80 85 87 90 \n",
      "after deleting\n",
      "60 85 87 90 "
     ]
    }
   ],
   "source": [
    "B = BinarySearchTree()\n",
    "B.insert(B.root,80)\n",
    "B.insert(B.root,60)\n",
    "B.insert(B.root,90)\n",
    "B.insert(B.root,85)\n",
    "B.insert(B.root,87)\n",
    "B.inorder(B.root)\n",
    "print()\n",
    "print('after deleting')\n",
    "B.r_delete(B.root,80)\n",
    "B.inorder(B.root)"
   ]
  },
  {
   "cell_type": "code",
   "execution_count": 120,
   "id": "239acb44-f983-485b-93fb-eebc3fce1549",
   "metadata": {},
   "outputs": [
    {
     "name": "stdout",
     "output_type": "stream",
     "text": [
      "10 30 40 50 60 80 85 90 100 \n",
      "deleted ?  True\n",
      "after deleting\n",
      "10 30 40 50 60 85 90 100 \n"
     ]
    }
   ],
   "source": [
    "B = BinarySearchTree()\n",
    "B.insert(B.root,50)\n",
    "B.insert(B.root,30)\n",
    "B.insert(B.root,80)\n",
    "B.insert(B.root,10)\n",
    "B.insert(B.root,40)\n",
    "B.insert(B.root,60)\n",
    "B.insert(B.root,90)\n",
    "B.insert(B.root,100)\n",
    "B.insert(B.root,85)\n",
    "B.inorder(B.root)\n",
    "# print()\n",
    "# result = B.delete(B.root,90)\n",
    "# print('deleted ? ',result)\n",
    "# print('after deleting')\n",
    "# B.inorder(B.root)\n",
    "print()\n",
    "result = B.delete(B.root,80)\n",
    "print('deleted ? ',result)\n",
    "print('after deleting')\n",
    "B.inorder(B.root)\n",
    "print()"
   ]
  },
  {
   "cell_type": "code",
   "execution_count": 96,
   "id": "692f2d55-09f2-41c7-a22a-3a653e761b08",
   "metadata": {},
   "outputs": [
    {
     "name": "stdout",
     "output_type": "stream",
     "text": [
      "30 50 \n",
      "deleted ? True\n",
      "after deleting\n",
      "30 "
     ]
    }
   ],
   "source": [
    "B = BinarySearchTree()\n",
    "B.insert(B.root,50)\n",
    "B.insert(B.root,30)\n",
    "B.inorder(B.root)\n",
    "print()\n",
    "result = B.delete(B.root,50)\n",
    "print('deleted ?',result)\n",
    "print('after deleting')\n",
    "B.inorder(B.root)\n"
   ]
  },
  {
   "cell_type": "markdown",
   "id": "25f252c4-cf8b-4161-b66f-8f3ac9003c58",
   "metadata": {},
   "source": [
    "# Recursive delete"
   ]
  },
  {
   "cell_type": "code",
   "execution_count": 121,
   "id": "b3d380be-1a53-44b6-88a9-8bccbe96f0ef",
   "metadata": {},
   "outputs": [],
   "source": [
    "class Node:\n",
    "    def __init__(self,element):\n",
    "        self.element =element\n",
    "        self.left =None\n",
    "        self.right =None\n",
    "\n",
    "class BinarySearchTree:\n",
    "    def __init__(self):\n",
    "        self.root = None\n",
    "\n",
    "    def rinsert(self,troot,e):\n",
    "        if troot is None:\n",
    "            newest = Node(e)\n",
    "            troot = newest\n",
    "        else:\n",
    "            if e < troot.element:\n",
    "                troot.left = self.rinsert(troot.left,e)\n",
    "            elif e > troot.element:\n",
    "                troot.right = self.rinsert(troot.right,e)\n",
    "        return troot\n",
    "                \n",
    "    def inorder(self,troot):\n",
    "        if troot:\n",
    "            self.inorder(troot.left)\n",
    "            print(troot.element,end=' ')\n",
    "            self.inorder(troot.right)\n",
    "        \n",
    "    def rdelete(self, troot, key):\n",
    "        if troot is None:\n",
    "            return troot  # Key not found, return None\n",
    "        \n",
    "        if key < troot.element:\n",
    "            troot.left = self.rdelete(troot.left, key)\n",
    "        elif key > troot.element:\n",
    "            troot.right = self.rdelete(troot.right, key)\n",
    "        else:\n",
    "            # Case 1 & Case 2 - Node has no children or one child\n",
    "            if troot.left is None:\n",
    "                return troot.right\n",
    "            elif troot.right is None:\n",
    "                return troot.left\n",
    "            \n",
    "            # Case 3 - Node has two children\n",
    "            # Find the in-order successor \n",
    "            next_node, next_parent = self.find_next_node(troot)\n",
    "            \n",
    "            # Replace the value of troot with the successor's value\n",
    "            troot.element = next_node.element\n",
    "            \n",
    "            # Delete the in-order successor\n",
    "            troot.right = self.rdelete(troot.right, next_node.element)\n",
    "        \n",
    "        return troot\n",
    "    \n",
    "    def find_next_node(self, troot):\n",
    "        next_parent = troot\n",
    "        next_node = troot.right\n",
    "        while next_node.left:\n",
    "            next_parent = next_node\n",
    "            next_node = next_node.left\n",
    "\n",
    "        return next_node, next_parent"
   ]
  },
  {
   "cell_type": "code",
   "execution_count": 72,
   "id": "c279f3c0-619a-4360-904d-bf404e0c1604",
   "metadata": {},
   "outputs": [
    {
     "name": "stdout",
     "output_type": "stream",
     "text": [
      "10 30 40 50 80 \n",
      "deleted ? True\n",
      "after deleting\n",
      "10 40 50 80 "
     ]
    }
   ],
   "source": [
    "B = BinarySearchTree()\n",
    "B.insert(B.root,30)\n",
    "B.insert(B.root,10)\n",
    "B.insert(B.root,80)\n",
    "B.insert(B.root,40)\n",
    "B.insert(B.root,50)\n",
    "B.inorder(B.root)\n",
    "print()\n",
    "result = B.delete(B.root,30)\n",
    "print('deleted ?',result)\n",
    "print('after deleting')\n",
    "B.inorder(B.root)"
   ]
  },
  {
   "cell_type": "code",
   "execution_count": 75,
   "id": "1d98559f-9513-4946-93aa-a87c5a221b9c",
   "metadata": {},
   "outputs": [
    {
     "name": "stdout",
     "output_type": "stream",
     "text": [
      "20 30 35 37 40 50 60 70 80 \n",
      "deleted ? True\n",
      "after deleting\n",
      "20 35 37 40 50 60 70 80 "
     ]
    }
   ],
   "source": [
    "B = BinarySearchTree()\n",
    "B.insert(B.root,50)\n",
    "B.insert(B.root,30)\n",
    "B.insert(B.root,70)\n",
    "B.insert(B.root,20)\n",
    "B.insert(B.root,40)\n",
    "B.insert(B.root,60)\n",
    "B.insert(B.root,80)\n",
    "B.insert(B.root,35)\n",
    "B.insert(B.root,37)\n",
    "B.inorder(B.root)\n",
    "print()\n",
    "result = B.delete(B.root,30)\n",
    "print('deleted ?',result)\n",
    "print('after deleting')\n",
    "B.inorder(B.root)"
   ]
  },
  {
   "attachments": {},
   "cell_type": "markdown",
   "id": "0a34f5b2-fe7e-4c66-9e89-4903434a58ac",
   "metadata": {},
   "source": [
    "# Deleting\n",
    "<img src=\"../images/Screenshot 2025-02-26 at 6.25.09 PM.png\"/>"
   ]
  },
  {
   "attachments": {},
   "cell_type": "markdown",
   "id": "30e68eac-5730-4e47-859a-97aed568cbcd",
   "metadata": {},
   "source": [
    "# example walk through\n",
    "<img src=\"../images/WhatsApp Image 2025-03-03 at 9.26.26 PM.jpeg\"/>\n",
    "<img src=\"../images/WhatsApp Image 2025-03-03 at 9.26.26 PM (1).jpeg\"/>\n",
    "<img src=\"../images/WhatsApp Image 2025-03-03 at 9.26.26 PM (2).jpeg\"/>\n",
    "<img src=\"../images/WhatsApp Image 2025-03-03 at 9.26.26 PM (3).jpeg\"/>\n",
    "<img src=\"../images/WhatsApp Image 2025-03-03 at 9.26.26 PM (4).jpeg\"/>\n",
    "<img src=\"../images/WhatsApp Image 2025-03-03 at 9.26.26 PM (5).jpeg\"/>\n"
   ]
  },
  {
   "cell_type": "code",
   "execution_count": null,
   "id": "a5d25518-2bd6-43d2-af50-f853111a5711",
   "metadata": {},
   "outputs": [],
   "source": []
  }
 ],
 "metadata": {
  "kernelspec": {
   "display_name": "Python 3 (ipykernel)",
   "language": "python",
   "name": "python3"
  },
  "language_info": {
   "codemirror_mode": {
    "name": "ipython",
    "version": 3
   },
   "file_extension": ".py",
   "mimetype": "text/x-python",
   "name": "python",
   "nbconvert_exporter": "python",
   "pygments_lexer": "ipython3",
   "version": "3.13.1"
  }
 },
 "nbformat": 4,
 "nbformat_minor": 5
}
