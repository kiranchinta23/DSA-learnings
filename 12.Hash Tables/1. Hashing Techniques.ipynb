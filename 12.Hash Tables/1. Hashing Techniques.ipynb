{
 "cells": [
  {
   "cell_type": "markdown",
   "id": "23433128-bc53-404d-9ee5-0ecf1e4a082d",
   "metadata": {},
   "source": [
    "# Intro"
   ]
  },
  {
   "attachments": {},
   "cell_type": "markdown",
   "id": "f927a9eb-8ce6-4167-afd2-c5d1b1ac83ea",
   "metadata": {},
   "source": [
    "<img src=\"../images/Screenshot 2025-03-17 at 1.47.12 PM.png\"/>"
   ]
  },
  {
   "cell_type": "markdown",
   "id": "dcf94a5d-3ac8-4e17-bac6-e46541e10398",
   "metadata": {},
   "source": [
    "# Methods for resolving collision\n",
    "\n",
    "- Open Hasing: consume extra space apart of hash table\n",
    "    - chaning \n",
    "- closed Hasing : no extra space apart from hash table\n",
    "    - Linear probing\n",
    "    - Quadratic Probing\n",
    "    - Double Hashing"
   ]
  },
  {
   "cell_type": "code",
   "execution_count": null,
   "id": "152f6730-4bbd-437f-98ba-90d4d7a19eca",
   "metadata": {},
   "outputs": [],
   "source": []
  }
 ],
 "metadata": {
  "kernelspec": {
   "display_name": "Python 3 (ipykernel)",
   "language": "python",
   "name": "python3"
  },
  "language_info": {
   "codemirror_mode": {
    "name": "ipython",
    "version": 3
   },
   "file_extension": ".py",
   "mimetype": "text/x-python",
   "name": "python",
   "nbconvert_exporter": "python",
   "pygments_lexer": "ipython3",
   "version": "3.13.1"
  }
 },
 "nbformat": 4,
 "nbformat_minor": 5
}
