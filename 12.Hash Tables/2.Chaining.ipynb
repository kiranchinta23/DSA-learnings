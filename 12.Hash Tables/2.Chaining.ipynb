{
 "cells": [
  {
   "cell_type": "markdown",
   "id": "03ae75b7-62ba-446a-9be7-d5e476b3cee8",
   "metadata": {},
   "source": [
    "# Hashing Technique : chaining"
   ]
  },
  {
   "attachments": {},
   "cell_type": "markdown",
   "id": "86deae58-e8b0-490d-8195-b03e3101740e",
   "metadata": {},
   "source": [
    "<img src=\"../images/Screenshot 2025-03-17 at 1.56.15 PM.png\"/>"
   ]
  },
  {
   "cell_type": "code",
   "execution_count": 2,
   "id": "706d8cb7-cb03-4b4b-bf50-e86c9add12cc",
   "metadata": {},
   "outputs": [
    {
     "name": "stdout",
     "output_type": "stream",
     "text": [
      "Successful Search\n",
      "Key: 6, Value: 6\n",
      "Unsuccessful Search\n",
      "Key: 95, Value: -1\n"
     ]
    }
   ],
   "source": [
    "class HashTable:\n",
    "    def __init__(self):\n",
    "        self.HT = [[] for _ in range(10)]\n",
    "\n",
    "    def hash(self, key):\n",
    "        return key % 10\n",
    "\n",
    "    def insert(self, key):\n",
    "        h_id = self.hash(key)\n",
    "        if key not in self.HT[h_id]:\n",
    "            # Insert while maintaining sorted order\n",
    "            i = 0\n",
    "            while i < len(self.HT[h_id]) and self.HT[h_id][i] < key:\n",
    "                i += 1\n",
    "            self.HT[h_id].insert(i, key)\n",
    "\n",
    "    def search(self, key):\n",
    "        h_id = self.hash(key)\n",
    "        if key in self.HT[h_id]:\n",
    "            return key\n",
    "        return -1\n",
    "\n",
    "    def delete(self, key):\n",
    "        h_id = self.hash(key)\n",
    "        if key in self.HT[h_id]:\n",
    "            self.HT[h_id].remove(key)\n",
    "            return True\n",
    "        return False\n",
    "\n",
    "if __name__ == \"__main__\":\n",
    "    A = [16, 12, 25, 39, 6, 122, 5, 68, 75]\n",
    "    H = HashTable()\n",
    "    \n",
    "    for key in A:\n",
    "        H.insert(key)\n",
    "    \n",
    "    print(\"Successful Search\")\n",
    "    key = 6\n",
    "    value = H.search(key)\n",
    "    print(f\"Key: {key}, Value: {value}\")\n",
    "    \n",
    "    print(\"Unsuccessful Search\")\n",
    "    key = 95\n",
    "    value = H.search(key)\n",
    "    print(f\"Key: {key}, Value: {value}\")"
   ]
  },
  {
   "attachments": {},
   "cell_type": "markdown",
   "id": "71ff4538-5e90-4322-9caa-af790004e8b5",
   "metadata": {},
   "source": [
    "# Time Complexity\n",
    "<img src=\"../images/Screenshot 2025-03-17 at 2.44.04 PM.png\"/>"
   ]
  },
  {
   "cell_type": "code",
   "execution_count": null,
   "id": "3c315fbc-e8b6-42c7-af8d-fee0c9af7acd",
   "metadata": {},
   "outputs": [],
   "source": []
  }
 ],
 "metadata": {
  "kernelspec": {
   "display_name": "Python 3 (ipykernel)",
   "language": "python",
   "name": "python3"
  },
  "language_info": {
   "codemirror_mode": {
    "name": "ipython",
    "version": 3
   },
   "file_extension": ".py",
   "mimetype": "text/x-python",
   "name": "python",
   "nbconvert_exporter": "python",
   "pygments_lexer": "ipython3",
   "version": "3.13.1"
  }
 },
 "nbformat": 4,
 "nbformat_minor": 5
}
