{
 "cells": [
  {
   "attachments": {},
   "cell_type": "markdown",
   "id": "fb7c26d3-541b-4665-ab35-df76c9ec3f9b",
   "metadata": {},
   "source": [
    "# Huffman's coding\n",
    "<img src=\"../images/WhatsApp Image 2025-04-13 at 1.00.20 PM.jpeg\"/>\n",
    "<img src=\"../images/WhatsApp Image 2025-04-13 at 1.00.20 PM (1).jpeg\"/>\n",
    "<img src=\"../images/WhatsApp Image 2025-04-13 at 1.00.20 PM (2).jpeg\"/>"
   ]
  },
  {
   "cell_type": "code",
   "execution_count": 53,
   "id": "ee446696-dbb3-460f-84f8-c5adc0ac8030",
   "metadata": {},
   "outputs": [
    {
     "name": "stdout",
     "output_type": "stream",
     "text": [
      "[[20, ['e', '000'], ['a', '001'], ['d', '01'], ['c', '10'], ['b', '11']]]\n",
      "Huffman Codes:\n",
      "a: 001\n",
      "b: 11\n",
      "c: 10\n",
      "d: 01\n",
      "e: 000\n"
     ]
    }
   ],
   "source": [
    "import heapq\n",
    "\n",
    "def huffman(char_freqs):\n",
    "    # Step 1: Create a min-heap of (freq, char/code)\n",
    "    heap = [[freq, [char, \"\"]] for char, freq in char_freqs.items()]\n",
    "    heapq.heapify(heap)\n",
    "\n",
    "    # Step 2: Merge until one node left\n",
    "    while len(heap) > 1:\n",
    "        lo = heapq.heappop(heap)\n",
    "        hi = heapq.heappop(heap)\n",
    "\n",
    "        # Assign 0 to left branch, 1 to right branch\n",
    "        for pair in lo[1:]:\n",
    "            pair[1] = '0' + pair[1]\n",
    "        for pair in hi[1:]:\n",
    "            pair[1] = '1' + pair[1]\n",
    "\n",
    "        # Merge two nodes\n",
    "        heapq.heappush(heap, [lo[0] + hi[0]] + lo[1:] + hi[1:])\n",
    "\n",
    "\n",
    "    # Final heap contains all characters and their codes\n",
    "    return sorted(heap[0][1:])\n",
    "\n",
    "# Example usage\n",
    "char_freqs = {\n",
    "    'a': 2,\n",
    "    'b': 7,\n",
    "    'c': 6,\n",
    "    'd': 4,\n",
    "    'e': 1,\n",
    "}\n",
    "\n",
    "codes = huffman(char_freqs)\n",
    "print(\"Huffman Codes:\")\n",
    "for char, code in codes:\n",
    "    print(f\"{char}: {code}\")"
   ]
  },
  {
   "cell_type": "code",
   "execution_count": null,
   "id": "de1f874c-1304-4543-a4e1-37ae2a0d3ca3",
   "metadata": {},
   "outputs": [],
   "source": []
  }
 ],
 "metadata": {
  "kernelspec": {
   "display_name": "Python 3 (ipykernel)",
   "language": "python",
   "name": "python3"
  },
  "language_info": {
   "codemirror_mode": {
    "name": "ipython",
    "version": 3
   },
   "file_extension": ".py",
   "mimetype": "text/x-python",
   "name": "python",
   "nbconvert_exporter": "python",
   "pygments_lexer": "ipython3",
   "version": "3.13.1"
  }
 },
 "nbformat": 4,
 "nbformat_minor": 5
}
