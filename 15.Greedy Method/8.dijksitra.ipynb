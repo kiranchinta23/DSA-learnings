{
 "cells": [
  {
   "attachments": {},
   "cell_type": "markdown",
   "id": "17059bc4-cd7c-4b70-9b54-f84f3bc91b07",
   "metadata": {},
   "source": [
    "<img src=\"../images/WhatsApp Image 2025-04-14 at 9.46.57 PM (2).jpeg\"/>\n",
    "<img src=\"../images/WhatsApp Image 2025-04-14 at 9.46.57 PM.jpeg\"/>"
   ]
  },
  {
   "cell_type": "code",
   "execution_count": 24,
   "id": "40c4cac8-0a60-44c6-bab5-b640f7b7a9d6",
   "metadata": {},
   "outputs": [],
   "source": [
    "import heapq\n",
    "\n",
    "def dijkstra(graph, start):\n",
    "    # Initialize the distances to all nodes as infinity, except start\n",
    "    distances = {node: float('inf') for node in graph}\n",
    "    distances[start] = 0\n",
    "\n",
    "    # Priority queue: (distance to node, node name)\n",
    "    pq = [(0, start)]\n",
    "\n",
    "    while pq:\n",
    "        current_distance, current_node = heapq.heappop(pq)\n",
    "\n",
    "        # If this path is not better, skip it\n",
    "        if current_distance > distances[current_node]:\n",
    "            continue\n",
    "\n",
    "        for neighbor, weight in graph[current_node].items():\n",
    "            distance = current_distance + weight\n",
    "\n",
    "            # If found a better path to neighbor\n",
    "            if distance < distances[neighbor]:\n",
    "                distances[neighbor] = distance\n",
    "                heapq.heappush(pq, (distance, neighbor))\n",
    "        print(pq)\n",
    "\n",
    "    return distances"
   ]
  },
  {
   "cell_type": "code",
   "execution_count": 33,
   "id": "55f4bda3-8af2-46b3-9dc4-6db8f17b7c06",
   "metadata": {},
   "outputs": [
    {
     "name": "stdout",
     "output_type": "stream",
     "text": [
      "[(2, '2'), (4, '3')]\n",
      "[(3, '3'), (9, '4'), (4, '3')]\n",
      "[(4, '3'), (9, '4'), (6, '5')]\n",
      "[(8, '4'), (9, '4'), (11, '6')]\n",
      "[(9, '4'), (11, '6'), (9, '6')]\n",
      "[(11, '6')]\n",
      "{'1': 0, '2': 2, '3': 3, '4': 8, '5': 6, '6': 9}\n"
     ]
    }
   ],
   "source": [
    "graph = {\n",
    "    '1': {'2': 2, '3': 4},\n",
    "    '2': {'4': 7, '3':1},\n",
    "    '3': {'5': 3},\n",
    "    '4': {'6':1},\n",
    "    '5': {'4':2,'6':5},\n",
    "    '6':{}\n",
    "}\n",
    "\n",
    "print(dijkstra(graph, '1'))"
   ]
  },
  {
   "cell_type": "code",
   "execution_count": 63,
   "id": "2071cbf8-ad6a-485e-9a07-a17b752879e3",
   "metadata": {},
   "outputs": [],
   "source": [
    "import heapq\n",
    "\n",
    "def dijkstra_matrix(matrix, start):\n",
    "    n = len(matrix) - 1  # Because we're skipping row 0\n",
    "    distances = [float('inf')] * (n + 1)\n",
    "    distances[start] = 0\n",
    "\n",
    "    pq = [(0, start)]  # (distance, node)\n",
    "\n",
    "    while pq:\n",
    "        current_distance, u = heapq.heappop(pq)\n",
    "\n",
    "        if current_distance > distances[u]:\n",
    "            continue\n",
    "\n",
    "        for v in range(1, n + 1):\n",
    "            weight = matrix[u][v]\n",
    "            if weight > 0:\n",
    "                new_distance = current_distance + weight\n",
    "                if new_distance < distances[v]:\n",
    "                    distances[v] = new_distance\n",
    "                    heapq.heappush(pq, (new_distance, v))\n",
    "\n",
    "    return distances[0:]  # remove dummy 0th node"
   ]
  },
  {
   "cell_type": "code",
   "execution_count": 64,
   "id": "d7db4c3f-a90a-4cbd-8f68-3b4e6f7769de",
   "metadata": {},
   "outputs": [
    {
     "name": "stdout",
     "output_type": "stream",
     "text": [
      "Shortest distances from node 1:\n",
      "[inf, 0, 2, 3, 9, 6, 10]\n"
     ]
    }
   ],
   "source": [
    "# ✅ Your matrix (1-indexed with dummy 0th row and column)\n",
    "matrix = [\n",
    "    [0, 0, 0, 0, 0, 0, 0],  # dummy row for 0 index\n",
    "    [0, 0, 2, 4, 0, 0, 0],  # node 1\n",
    "    [0, 0, 0, 1, 7, 0, 0],  # node 2\n",
    "    [0, 0, 0, 0, 0, 3, 0],  # node 3\n",
    "    [0, 0, 0, 0, 0, 0, 1],  # node 4\n",
    "    [0, 0, 0, 2, 0, 0, 5],  # node 5\n",
    "    [0, 0, 0, 0, 0, 0, 0]   # node 6\n",
    "]\n",
    "\n",
    "# ✅ Run Dijkstra from node 1\n",
    "result = dijkstra_matrix(matrix, 1)\n",
    "print(\"Shortest distances from node 1:\")\n",
    "print(result)"
   ]
  },
  {
   "cell_type": "code",
   "execution_count": null,
   "id": "18711b04-e79e-4333-9d3f-db08f4648c4c",
   "metadata": {},
   "outputs": [],
   "source": []
  }
 ],
 "metadata": {
  "kernelspec": {
   "display_name": "Python 3 (ipykernel)",
   "language": "python",
   "name": "python3"
  },
  "language_info": {
   "codemirror_mode": {
    "name": "ipython",
    "version": 3
   },
   "file_extension": ".py",
   "mimetype": "text/x-python",
   "name": "python",
   "nbconvert_exporter": "python",
   "pygments_lexer": "ipython3",
   "version": "3.13.1"
  }
 },
 "nbformat": 4,
 "nbformat_minor": 5
}
