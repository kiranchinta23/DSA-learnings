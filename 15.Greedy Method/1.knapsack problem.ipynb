{
 "cells": [
  {
   "cell_type": "markdown",
   "id": "1158e61d-d850-445e-adee-f6c893954980",
   "metadata": {},
   "source": [
    "# Explanation"
   ]
  },
  {
   "attachments": {},
   "cell_type": "markdown",
   "id": "cf642a59-e7fe-443e-a0b0-4c2ffe32a5cf",
   "metadata": {},
   "source": [
    "<img src=\"../images/WhatsApp Image 2025-04-08 at 9.32.17 PM.jpeg\"/>"
   ]
  },
  {
   "cell_type": "markdown",
   "id": "20226f87-3460-4e80-a09c-4f0a2f548c0f",
   "metadata": {},
   "source": [
    "# algorithm"
   ]
  },
  {
   "cell_type": "code",
   "execution_count": 2,
   "id": "3ad2dc98-16f5-4c64-979b-6fbd9a5b49bd",
   "metadata": {},
   "outputs": [
    {
     "name": "stdout",
     "output_type": "stream",
     "text": [
      "Maximum value in knapsack = 55.333333333333336\n"
     ]
    }
   ],
   "source": [
    "class Item:\n",
    "    def __init__(self, value, weight):\n",
    "        self.value = value\n",
    "        self.weight = weight\n",
    "        self.ratio = value / weight\n",
    "\n",
    "def fractional_knapsack(capacity, items):\n",
    "    # Sort items by value-to-weight ratio in descending order\n",
    "    items.sort(key=lambda x: x.ratio, reverse=True)\n",
    "\n",
    "    total_value = 0.0\n",
    "    for item in items:\n",
    "        if capacity >= item.weight:\n",
    "            # Take the whole item\n",
    "            capacity -= item.weight\n",
    "            total_value += item.value\n",
    "        else:\n",
    "            # Take fraction of the remaining capacity\n",
    "            total_value += item.ratio * capacity\n",
    "            break  # Knapsack is full\n",
    "\n",
    "    return total_value\n",
    "\n",
    "# Example usage\n",
    "if __name__ == \"__main__\":\n",
    "    values = [10,5,15,7,6,18,3]\n",
    "    weights = [2,3,5,7,1,4,1]\n",
    "    capacity = 15\n",
    "\n",
    "    items = [Item(v, w) for v, w in zip(values, weights)]\n",
    "    max_value = fractional_knapsack(capacity, items)\n",
    "    print(f\"Maximum value in knapsack = {max_value}\")"
   ]
  },
  {
   "cell_type": "markdown",
   "id": "6a029ec1-c503-4881-98b1-45aa3975b943",
   "metadata": {},
   "source": [
    "# time complexity"
   ]
  },
  {
   "attachments": {},
   "cell_type": "markdown",
   "id": "37242c88-5c69-49be-b1fb-564427eca1fb",
   "metadata": {},
   "source": [
    "<img src=\"../images/Screenshot 2025-04-08 at 9.36.30 PM.png\"/>"
   ]
  },
  {
   "cell_type": "code",
   "execution_count": null,
   "id": "da64cbb8-3533-4b9c-b0f6-d93797482352",
   "metadata": {},
   "outputs": [],
   "source": []
  }
 ],
 "metadata": {
  "kernelspec": {
   "display_name": "Python 3 (ipykernel)",
   "language": "python",
   "name": "python3"
  },
  "language_info": {
   "codemirror_mode": {
    "name": "ipython",
    "version": 3
   },
   "file_extension": ".py",
   "mimetype": "text/x-python",
   "name": "python",
   "nbconvert_exporter": "python",
   "pygments_lexer": "ipython3",
   "version": "3.13.1"
  }
 },
 "nbformat": 4,
 "nbformat_minor": 5
}
