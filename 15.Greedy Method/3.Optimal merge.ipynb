{
 "cells": [
  {
   "cell_type": "markdown",
   "id": "d4d56e4f-94f0-4e34-9f7e-ecc5fd18d650",
   "metadata": {},
   "source": [
    "# Explanation"
   ]
  },
  {
   "attachments": {},
   "cell_type": "markdown",
   "id": "f4db421e-a22d-481d-824a-67efd54f4462",
   "metadata": {},
   "source": [
    "<img src=\"../images/WhatsApp Image 2025-04-09 at 8.26.22 PM.jpeg\"/>\n",
    "<img src=\"../images/WhatsApp Image 2025-04-09 at 8.25.07 PM.jpeg\"/>"
   ]
  },
  {
   "cell_type": "code",
   "execution_count": 11,
   "id": "1dc4acc6-34ae-42a0-8a5d-c6e6f75dc51a",
   "metadata": {},
   "outputs": [
    {
     "name": "stdout",
     "output_type": "stream",
     "text": [
      "[5, 20, 10, 30, 30]\n",
      "Minimum total merge cost: 205\n"
     ]
    }
   ],
   "source": [
    "import heapq\n",
    "\n",
    "def optimal_merge_cost(file_sizes):\n",
    "    # Create a min-heap from the list of file sizes\n",
    "    heapq.heapify(file_sizes)\n",
    "    total_cost = 0\n",
    "\n",
    "    # Continue until we have just one merged file\n",
    "    while len(file_sizes) > 1:\n",
    "        # Pop two smallest files\n",
    "        first = heapq.heappop(file_sizes)\n",
    "        second = heapq.heappop(file_sizes)\n",
    "\n",
    "        # Merge them and calculate the cost\n",
    "        merge_cost = first + second\n",
    "        total_cost += merge_cost\n",
    "\n",
    "        # Push the merged file size back into the heap\n",
    "        heapq.heappush(file_sizes, merge_cost)\n",
    "\n",
    "    return total_cost\n",
    "\n",
    "# Example usage:\n",
    "files = [20,30,10,5,30]\n",
    "print(\"Minimum total merge cost:\", optimal_merge_cost(files))"
   ]
  },
  {
   "cell_type": "markdown",
   "id": "873dc88d-bf0c-4483-aa65-b07f74413818",
   "metadata": {},
   "source": [
    "# Time and Space complexity"
   ]
  },
  {
   "attachments": {},
   "cell_type": "markdown",
   "id": "13a9a3b8-0cf8-4f3f-922f-28aef4ef5695",
   "metadata": {},
   "source": [
    "<img src=\"../images/Screenshot 2025-04-09 at 8.44.56 PM.png\"/>"
   ]
  },
  {
   "cell_type": "code",
   "execution_count": null,
   "id": "3d8901b5-fae3-43b0-ae25-8a477a916b3f",
   "metadata": {},
   "outputs": [],
   "source": []
  }
 ],
 "metadata": {
  "kernelspec": {
   "display_name": "Python 3 (ipykernel)",
   "language": "python",
   "name": "python3"
  },
  "language_info": {
   "codemirror_mode": {
    "name": "ipython",
    "version": 3
   },
   "file_extension": ".py",
   "mimetype": "text/x-python",
   "name": "python",
   "nbconvert_exporter": "python",
   "pygments_lexer": "ipython3",
   "version": "3.13.1"
  }
 },
 "nbformat": 4,
 "nbformat_minor": 5
}
