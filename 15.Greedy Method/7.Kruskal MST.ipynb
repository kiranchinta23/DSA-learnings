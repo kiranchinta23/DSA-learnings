{
 "cells": [
  {
   "attachments": {},
   "cell_type": "markdown",
   "id": "864f9053-cc7e-454f-ae9f-f815df4b373d",
   "metadata": {},
   "source": [
    "<img src=\"../images/WhatsApp Image 2025-04-14 at 9.46.57 PM (2).jpeg\"/>"
   ]
  },
  {
   "cell_type": "code",
   "execution_count": 1,
   "id": "efc5ef93-0a43-4fce-9613-94615a20ebd7",
   "metadata": {},
   "outputs": [],
   "source": [
    "class DisjointSet:\n",
    "    def __init__(self, n):\n",
    "        self.parent = [-1] * n  # Negative value means it's a root & holds tree size\n",
    "\n",
    "    def find(self, u):\n",
    "        \"\"\"Finds the root of the set with path compression.\"\"\"\n",
    "        if self.parent[u] < 0:\n",
    "            return u\n",
    "        self.parent[u] = self.find(self.parent[u])  # Path compression\n",
    "        return self.parent[u]\n",
    "\n",
    "    def union(self, u, v):\n",
    "        \"\"\"Union by size: Attach smaller tree under larger tree.\"\"\"\n",
    "        root_u = self.find(u)\n",
    "        root_v = self.find(v)\n",
    "\n",
    "        if root_u != root_v:# Only add edge if it doesn't create a cycle\n",
    "            if self.parent[root_u] < self.parent[root_v]:  # root_u tree is larger\n",
    "                self.parent[root_u] += self.parent[root_v]\n",
    "                self.parent[root_v] = root_u\n",
    "            else:\n",
    "                self.parent[root_v] += self.parent[root_u]\n",
    "                self.parent[root_u] = root_v\n",
    "            return True  # Successful merge\n",
    "        return False  # Already in the same set"
   ]
  },
  {
   "cell_type": "code",
   "execution_count": 2,
   "id": "fb90ab72-c39b-4cd2-94cc-5aad2ce64172",
   "metadata": {},
   "outputs": [
    {
     "name": "stdout",
     "output_type": "stream",
     "text": [
      "Total Weight of MST: (16, [(0, 1, 2), (1, 2, 3), (1, 4, 5), (0, 3, 6)])\n"
     ]
    }
   ],
   "source": [
    "def kruskal_mst(adj_list):\n",
    "    \"\"\"Kruskal's algorithm to find MST from an adjacency list.\"\"\"\n",
    "    V = len(adj_list)\n",
    "    ds = DisjointSet(V)\n",
    "    mst = []\n",
    "    total_weight = 0\n",
    "    edges = []\n",
    "\n",
    "    # Step 1: Convert adjacency list to edge list\n",
    "    for u in adj_list:\n",
    "        for v, w in adj_list[u]:\n",
    "            if u < v:  # Avoid duplicate edges in an undirected graph\n",
    "                edges.append((u, v, w))\n",
    "                \n",
    "    # Step 2: Sort edges by weight\n",
    "    edges.sort(key=lambda x: x[2])  # Sort by weight\n",
    "\n",
    "    # Step 3: Process edges in increasing order\n",
    "    for u, v, w in edges:\n",
    "        if ds.union(u, v):  # Only add edge if it doesn't create a cycle\n",
    "            mst.append((u, v, w))\n",
    "            total_weight += w\n",
    "            if len(mst) == V - 1:  # Stop early if we have (V-1) edges\n",
    "                break\n",
    "\n",
    "    return total_weight, mst\n",
    "\n",
    "# Example usage:\n",
    "adj_list = {\n",
    "    0: [(1, 2), (3, 6)],\n",
    "    1: [(0, 2), (2, 3), (3, 8), (4, 5)],\n",
    "    2: [(1, 3), (4, 7)],\n",
    "    3: [(0, 6), (1, 8), (4, 9)],\n",
    "    4: [(1, 5), (2, 7), (3, 9)]\n",
    "}\n",
    "\n",
    "print(\"Total Weight of MST:\", kruskal_mst(adj_list))"
   ]
  },
  {
   "cell_type": "code",
   "execution_count": 3,
   "id": "001565c6-1ca2-4b8e-8cd5-34ec4ace021e",
   "metadata": {},
   "outputs": [
    {
     "name": "stdout",
     "output_type": "stream",
     "text": [
      "Total Weight of MST: (16, [(0, 1, 2), (1, 2, 3), (1, 4, 5), (0, 3, 6)])\n"
     ]
    }
   ],
   "source": [
    "def kruskal_mst(adj_matrix):\n",
    "    \"\"\"Kruskal's algorithm to find MST from an adjacency matrix.\"\"\"\n",
    "    V = len(adj_matrix)\n",
    "    ds = DisjointSet(V)\n",
    "    mst = []\n",
    "    total_weight = 0\n",
    "    edges = []\n",
    "\n",
    "    # Step 1: Convert adjacency matrix to edge list\n",
    "    for i in range(V):\n",
    "        for j in range(i + 1, V):  # Avoid duplicate edges (undirected graph)\n",
    "            if adj_matrix[i][j] != 0 and adj_matrix[i][j] != float('inf'):\n",
    "                edges.append((i, j, adj_matrix[i][j]))\n",
    "\n",
    "    # Step 2: Sort edges by weight\n",
    "    edges.sort(key=lambda x: x[2])  # Sort by weight\n",
    "\n",
    "    # Step 3: Process edges in increasing order\n",
    "    for u, v, w in edges:\n",
    "        if ds.union(u, v):  # Only add edge if it doesn't create a cycle\n",
    "            mst.append((u, v, w))\n",
    "            total_weight += w\n",
    "            if len(mst) == V - 1:  # Stop early if we have (V-1) edges\n",
    "                break\n",
    "\n",
    "    return total_weight, mst\n",
    "\n",
    "adj_matrix = [\n",
    "    [0, 2, 0, 6, 0],\n",
    "    [2, 0, 3, 8, 5],\n",
    "    [0, 3, 0, 0, 7],\n",
    "    [6, 8, 0, 0, 9],\n",
    "    [0, 5, 7, 9, 0]\n",
    "]\n",
    "print(\"Total Weight of MST:\", kruskal_mst(adj_matrix))"
   ]
  },
  {
   "cell_type": "code",
   "execution_count": null,
   "id": "cb735ebe-40c2-4ec3-b963-2270b12dc5be",
   "metadata": {},
   "outputs": [],
   "source": []
  }
 ],
 "metadata": {
  "kernelspec": {
   "display_name": "Python 3 (ipykernel)",
   "language": "python",
   "name": "python3"
  },
  "language_info": {
   "codemirror_mode": {
    "name": "ipython",
    "version": 3
   },
   "file_extension": ".py",
   "mimetype": "text/x-python",
   "name": "python",
   "nbconvert_exporter": "python",
   "pygments_lexer": "ipython3",
   "version": "3.13.1"
  }
 },
 "nbformat": 4,
 "nbformat_minor": 5
}
