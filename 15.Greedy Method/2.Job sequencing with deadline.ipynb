{
 "cells": [
  {
   "cell_type": "markdown",
   "id": "60b48812-f0f2-41fe-aa76-ac4dcdfc0316",
   "metadata": {},
   "source": [
    "# 1. Explanation"
   ]
  },
  {
   "attachments": {},
   "cell_type": "markdown",
   "id": "af400357-d280-4640-9675-2b458a14752d",
   "metadata": {},
   "source": [
    "<img src=\"../images/WhatsApp Image 2025-04-08 at 10.24.30 PM.jpeg\"/>\n",
    "<img src=\"../images/WhatsApp Image 2025-04-08 at 10.24.29 PM.jpeg\"/>\n"
   ]
  },
  {
   "cell_type": "markdown",
   "id": "f38736ef-6c67-4776-9c7f-9f01d6b1fc5d",
   "metadata": {},
   "source": [
    "# 2. code"
   ]
  },
  {
   "cell_type": "code",
   "execution_count": 12,
   "id": "416d3ff2-ace2-4938-a395-0a41f5bac8cb",
   "metadata": {},
   "outputs": [
    {
     "name": "stdout",
     "output_type": "stream",
     "text": [
      "Number of jobs scheduled: 4\n",
      "Total profit: 110\n",
      "Job sequence: [3, 5, 2, 1, None, None, None]\n"
     ]
    }
   ],
   "source": [
    "# Job class\n",
    "class Job:\n",
    "    def __init__(self, id, deadline, profit):\n",
    "        self.id = id\n",
    "        self.deadline = deadline\n",
    "        self.profit = profit\n",
    "\n",
    "def job_sequencing(ids, deadlines, profits, n):\n",
    "    # Create Job objects for each job\n",
    "    jobs = [Job(ids[i], deadlines[i], profits[i]) for i in range(n)]\n",
    "    \n",
    "    # Sort jobs by descending order of profit\n",
    "    jobs.sort(key=lambda x: x.profit, reverse=True)\n",
    "    \n",
    "    # Initialize result variables\n",
    "    result = [None] * n  # to store the job sequence\n",
    "    slots = [False] * n   # to track which slots are occupied\n",
    "    \n",
    "    total_profit = 0\n",
    "    job_count = 0\n",
    "    \n",
    "    # Process each job\n",
    "    for job in jobs:\n",
    "        # Find the latest available slot before job's deadline\n",
    "        for i in range(min(n, job.deadline) - 1, -1, -1):\n",
    "            if not slots[i]:  # Slot is empty\n",
    "                slots[i] = True\n",
    "                result[i] = job.id\n",
    "                total_profit += job.profit\n",
    "                job_count += 1\n",
    "                break\n",
    "    \n",
    "    # Return the job sequence and total profit\n",
    "    return job_count, total_profit, result\n",
    "\n",
    "# Example usage\n",
    "if __name__ == \"__main__\":\n",
    "    ids = [1, 2, 3, 4,5,6,7]\n",
    "    deadlines = [4,3,2,3,4,2,1]\n",
    "    profits = [30,35,20,15,25,5,12]\n",
    "    \n",
    "    n = len(ids)  # Number of jobs\n",
    "    job_count, total_profit, result = job_sequencing(ids, deadlines, profits, n)\n",
    "    \n",
    "    print(f\"Number of jobs scheduled: {job_count}\")\n",
    "    print(f\"Total profit: {total_profit}\")\n",
    "    print(f\"Job sequence: {result}\")"
   ]
  },
  {
   "cell_type": "code",
   "execution_count": 13,
   "id": "d2e997b2-ef3e-4936-8b16-9959c95ccb09",
   "metadata": {},
   "outputs": [
    {
     "name": "stdout",
     "output_type": "stream",
     "text": [
      "Number of jobs scheduled: 5\n",
      "Total profit: 111\n",
      "Job sequence: [3, 5, 2, 1, None, None, None, 8]\n"
     ]
    }
   ],
   "source": [
    "# Example usage\n",
    "if __name__ == \"__main__\":\n",
    "    ids = [1, 2, 3, 4,5,6,7,8]\n",
    "    deadlines = [4,3,2,3,4,2,1,9]\n",
    "    profits = [30,35,20,15,25,5,12,1]\n",
    "    \n",
    "    n = len(ids)  # Number of jobs\n",
    "    job_count, total_profit, result = job_sequencing(ids, deadlines, profits, n)\n",
    "    \n",
    "    print(f\"Number of jobs scheduled: {job_count}\")\n",
    "    print(f\"Total profit: {total_profit}\")\n",
    "    print(f\"Job sequence: {result}\")"
   ]
  },
  {
   "cell_type": "code",
   "execution_count": null,
   "id": "e6996b41-b6d8-49a6-9bb5-ef18e92af453",
   "metadata": {},
   "outputs": [],
   "source": []
  }
 ],
 "metadata": {
  "kernelspec": {
   "display_name": "Python 3 (ipykernel)",
   "language": "python",
   "name": "python3"
  },
  "language_info": {
   "codemirror_mode": {
    "name": "ipython",
    "version": 3
   },
   "file_extension": ".py",
   "mimetype": "text/x-python",
   "name": "python",
   "nbconvert_exporter": "python",
   "pygments_lexer": "ipython3",
   "version": "3.13.1"
  }
 },
 "nbformat": 4,
 "nbformat_minor": 5
}
