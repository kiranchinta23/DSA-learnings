{
 "cells": [
  {
   "cell_type": "markdown",
   "id": "e77577e9-97ce-4d2e-a263-a932f038dd27",
   "metadata": {},
   "source": [
    "# binary search tree"
   ]
  },
  {
   "attachments": {},
   "cell_type": "markdown",
   "id": "2a6596d1-b63b-436c-8213-b72a57817fbb",
   "metadata": {},
   "source": [
    "- node keys in left sub tree are smaller than the key in node\n",
    "- node keys in right sub tree are larger than the key in node\n",
    "- left and right sub trees are also binary search tree\n",
    "\n",
    "<img src=\"../images/Screenshot 2025-02-24 at 8.37.38 PM.png\"/>\n"
   ]
  },
  {
   "cell_type": "code",
   "execution_count": null,
   "id": "f277f7fc-9dbc-4869-8778-5e4c164cc0c3",
   "metadata": {},
   "outputs": [],
   "source": []
  }
 ],
 "metadata": {
  "kernelspec": {
   "display_name": "Python 3 (ipykernel)",
   "language": "python",
   "name": "python3"
  },
  "language_info": {
   "codemirror_mode": {
    "name": "ipython",
    "version": 3
   },
   "file_extension": ".py",
   "mimetype": "text/x-python",
   "name": "python",
   "nbconvert_exporter": "python",
   "pygments_lexer": "ipython3",
   "version": "3.13.1"
  }
 },
 "nbformat": 4,
 "nbformat_minor": 5
}
