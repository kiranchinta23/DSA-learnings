{
 "cells": [
  {
   "cell_type": "markdown",
   "id": "dcdd07c8-b0d3-4af5-acf0-d758c9e7eee0",
   "metadata": {},
   "source": [
    "# BST Searching"
   ]
  },
  {
   "cell_type": "code",
   "execution_count": 16,
   "id": "c548f1d5-03fc-41a8-95b5-24a569704b9a",
   "metadata": {},
   "outputs": [],
   "source": [
    "class Node:\n",
    "    def __init__(self,element):\n",
    "        self.element =element\n",
    "        self.left =None\n",
    "        self.right =None\n",
    "\n",
    "class BinarySearchTree:\n",
    "    def __init__(self):\n",
    "        self.root = None\n",
    "\n",
    "    def insert(self,troot,e):\n",
    "        newest = Node(e)\n",
    "        if self.root is None:\n",
    "            self.root = newest\n",
    "        else:\n",
    "            parent = None\n",
    "            while troot:\n",
    "                parent = troot\n",
    "                if troot.element == e :\n",
    "                    return\n",
    "                elif e<troot.element:\n",
    "                    troot = troot.left\n",
    "                elif e > troot.element:\n",
    "                    troot = troot.right\n",
    "            if e > parent.element:\n",
    "                parent.right = newest\n",
    "            else:\n",
    "                parent.left = newest\n",
    "\n",
    "    def search(self,troot,key):\n",
    "        while troot:\n",
    "            if key == troot.element:\n",
    "                return True\n",
    "            elif key < troot.element:\n",
    "                troot = troot.left\n",
    "            elif key > troot.element:\n",
    "                troot = troot.right\n",
    "        return False\n",
    "\n",
    "    def inorder(self,troot):\n",
    "        if troot:\n",
    "            self.inorder(troot.left)\n",
    "            print(troot.element,end=' ')\n",
    "            self.inorder(troot.right)"
   ]
  },
  {
   "cell_type": "code",
   "execution_count": 17,
   "id": "a6522644-2b2f-4b90-b14f-40f39e76c088",
   "metadata": {},
   "outputs": [
    {
     "name": "stdout",
     "output_type": "stream",
     "text": [
      "None\n",
      "False\n",
      "True\n"
     ]
    }
   ],
   "source": [
    "B = BinarySearchTree()\n",
    "B.inorder(B.root)\n",
    "print(B.root)\n",
    "B.insert(B.root,50)\n",
    "B.insert(B.root,30)\n",
    "B.insert(B.root,80)\n",
    "B.insert(B.root,10)\n",
    "B.insert(B.root,40)\n",
    "B.insert(B.root,60)\n",
    "B.insert(B.root,90)\n",
    "print(B.search(B.root,100))\n",
    "print(B.search(B.root,10))"
   ]
  },
  {
   "cell_type": "markdown",
   "id": "c5c6774d-d051-47f4-bfee-bb02ed1b69e5",
   "metadata": {},
   "source": [
    "# Recursive Search"
   ]
  },
  {
   "cell_type": "code",
   "execution_count": 13,
   "id": "ec8cedcf-cc1b-4ad2-b168-7a1b8614a42d",
   "metadata": {},
   "outputs": [],
   "source": [
    "class Node:\n",
    "    def __init__(self,element):\n",
    "        self.element =element\n",
    "        self.left =None\n",
    "        self.right =None\n",
    "\n",
    "class BinarySearchTree:\n",
    "    def __init__(self):\n",
    "        self.root = None\n",
    "\n",
    "    def rinsert(self,troot,e):\n",
    "        if self.root is None:\n",
    "            self.root = Node(e)\n",
    "            return \n",
    "        else:\n",
    "            if troot:\n",
    "                if e < troot.element:\n",
    "                    troot.left = self.rinsert(troot.left,e)\n",
    "                elif e > troot.element:\n",
    "                    troot.right = self.rinsert(troot.right,e)\n",
    "            else:\n",
    "                troot = Node(e) \n",
    "            return troot\n",
    "\n",
    "    def rsearch(self,troot,key):\n",
    "        if troot:\n",
    "            if key == troot.element:\n",
    "                return True\n",
    "            elif key < troot.element:\n",
    "                return self.rsearch(troot.left,key)\n",
    "            elif key > troot.element:\n",
    "                return self.rsearch(troot.right,key)\n",
    "        else:\n",
    "            return False\n",
    "\n",
    "    def inorder(self,troot):\n",
    "        if troot:\n",
    "            self.inorder(troot.left)\n",
    "            print(troot.element,end=' ')\n",
    "            self.inorder(troot.right)"
   ]
  },
  {
   "cell_type": "code",
   "execution_count": 15,
   "id": "9c977c7d-5dcc-4cc1-b1f1-8bed9db1402b",
   "metadata": {},
   "outputs": [
    {
     "name": "stdout",
     "output_type": "stream",
     "text": [
      "10 30 40 50 60 80 90 \n",
      "False\n",
      "True\n"
     ]
    }
   ],
   "source": [
    "b = BinarySearchTree()\n",
    "b.rinsert(b.root,50)\n",
    "b.rinsert(b.root,30)\n",
    "b.rinsert(b.root,80)\n",
    "b.rinsert(b.root,10)\n",
    "b.rinsert(b.root,40)\n",
    "b.rinsert(b.root,60)\n",
    "b.rinsert(b.root,90)\n",
    "b.inorder(b.root)\n",
    "print()\n",
    "print(b.rsearch(b.root,100))\n",
    "print(b.rsearch(b.root,10))"
   ]
  },
  {
   "cell_type": "markdown",
   "id": "0c7f49c8-6e41-41ce-a8a3-d8f17ca74853",
   "metadata": {},
   "source": [
    "# searching\n",
    "<img src=\"../images/Screenshot 2025-02-23 at 8.41.20 PM.png\"/>"
   ]
  },
  {
   "cell_type": "code",
   "execution_count": null,
   "id": "d6c337b5-84a3-4725-ab3b-5cf1bc53e045",
   "metadata": {},
   "outputs": [],
   "source": []
  }
 ],
 "metadata": {
  "kernelspec": {
   "display_name": "Python 3 (ipykernel)",
   "language": "python",
   "name": "python3"
  },
  "language_info": {
   "codemirror_mode": {
    "name": "ipython",
    "version": 3
   },
   "file_extension": ".py",
   "mimetype": "text/x-python",
   "name": "python",
   "nbconvert_exporter": "python",
   "pygments_lexer": "ipython3",
   "version": "3.13.1"
  }
 },
 "nbformat": 4,
 "nbformat_minor": 5
}
