{
 "cells": [
  {
   "cell_type": "markdown",
   "id": "b4f8d31c-4f45-4fec-8abd-af3153460f52",
   "metadata": {},
   "source": [
    "# BST Deleting"
   ]
  },
  {
   "attachments": {},
   "cell_type": "markdown",
   "id": "47021020-9b2d-4bdb-81ef-de4bfeb4e5ea",
   "metadata": {},
   "source": [
    "<img src=\"../images/Screenshot 2025-02-24 at 9.40.05 PM.png\"/>"
   ]
  },
  {
   "cell_type": "markdown",
   "id": "cb54ec5b-c000-456a-b8f7-e55043a8f318",
   "metadata": {},
   "source": [
    "# Iterative"
   ]
  },
  {
   "cell_type": "code",
   "execution_count": 69,
   "id": "5a550ff6-63b8-4b35-86fe-076b3a7a63af",
   "metadata": {},
   "outputs": [],
   "source": [
    "class Node:\n",
    "    def __init__(self,element):\n",
    "        self.element =element\n",
    "        self.left =None\n",
    "        self.right =None\n",
    "\n",
    "class BinarySearchTree:\n",
    "    def __init__(self):\n",
    "        self.root = None\n",
    "\n",
    "    def insert(self,troot,e):\n",
    "        newest = Node(e)\n",
    "        if self.root is None:\n",
    "            self.root = newest\n",
    "        else:\n",
    "            parent = None\n",
    "            while troot:\n",
    "                parent = troot\n",
    "                if troot.element == e :\n",
    "                    return\n",
    "                elif e<troot.element:\n",
    "                    troot = troot.left\n",
    "                elif e > troot.element:\n",
    "                    troot = troot.right\n",
    "            if e > parent.element:\n",
    "                parent.right = newest\n",
    "            else:\n",
    "                parent.left = newest\n",
    "                \n",
    "    def inorder(self,troot):\n",
    "        if troot:\n",
    "            self.inorder(troot.left)\n",
    "            print(troot.element,end=' ')\n",
    "            self.inorder(troot.right)\n",
    "\n",
    "    def delete(self,troot,key):\n",
    "        parent = None \n",
    "\n",
    "        # Search for the node to delete\n",
    "        while troot and troot.element != key:\n",
    "            parent = troot\n",
    "            if key < troot.element:\n",
    "                troot = troot.left\n",
    "            else:\n",
    "                troot = troot.right\n",
    "    \n",
    "        if troot is None:  # Key not found\n",
    "            return False\n",
    "\n",
    "        # Case 1 - Node has no children (leaf node)\n",
    "        if troot.left is None and troot.right is None:\n",
    "            if troot == self.root:\n",
    "                self.root = None\n",
    "                return True  # If root is the only node\n",
    "            elif troot == parent.left:\n",
    "                parent.left = None\n",
    "            else:\n",
    "                parent.right = None\n",
    "\n",
    "        # Case 2 - Node has one child\n",
    "        elif troot.left is None or troot.right is None:\n",
    "            child = troot.left if troot.left else troot.right  # Choose the non-null child\n",
    "            if troot == self.root:\n",
    "                self.root = child\n",
    "                return True\n",
    "            elif troot == parent.left:\n",
    "                parent.left = child\n",
    "            else:\n",
    "                parent.right = child\n",
    "\n",
    "        # case 3 - node has two nodes\n",
    "        else:\n",
    "            child = troot.right\n",
    "            minimum = child.left\n",
    "            while minimum.left:\n",
    "                child = minimum\n",
    "                minimum = minimum.left\n",
    "\n",
    "            troot.element = minimum.element\n",
    "\n",
    "            child.left = minimum.right\n",
    "        \n",
    "\n",
    "        return True"
   ]
  },
  {
   "cell_type": "code",
   "execution_count": 70,
   "id": "239acb44-f983-485b-93fb-eebc3fce1549",
   "metadata": {},
   "outputs": [
    {
     "name": "stdout",
     "output_type": "stream",
     "text": [
      "10 30 40 50 60 80 90 \n",
      "deleted ?  True\n",
      "after deleting\n",
      "10 30 40 50 60 80 \n",
      "deleted?  True\n",
      "after deleting\n",
      "10 30 40 50 60 "
     ]
    }
   ],
   "source": [
    "B = BinarySearchTree()\n",
    "B.insert(B.root,50)\n",
    "B.insert(B.root,30)\n",
    "B.insert(B.root,80)\n",
    "B.insert(B.root,10)\n",
    "B.insert(B.root,40)\n",
    "B.insert(B.root,60)\n",
    "B.insert(B.root,90)\n",
    "B.inorder(B.root)\n",
    "print()\n",
    "result = B.delete(B.root,90)\n",
    "print('deleted ? ',result)\n",
    "print('after deleting')\n",
    "B.inorder(B.root)\n",
    "print()\n",
    "result = B.delete(B.root,80)\n",
    "print('deleted? ',result)\n",
    "print('after deleting')\n",
    "B.inorder(B.root)"
   ]
  },
  {
   "cell_type": "code",
   "execution_count": 71,
   "id": "692f2d55-09f2-41c7-a22a-3a653e761b08",
   "metadata": {},
   "outputs": [
    {
     "name": "stdout",
     "output_type": "stream",
     "text": [
      "30 50 \n",
      "deleted ? True\n",
      "after deleting\n",
      "30 "
     ]
    }
   ],
   "source": [
    "B = BinarySearchTree()\n",
    "B.insert(B.root,50)\n",
    "B.insert(B.root,30)\n",
    "B.inorder(B.root)\n",
    "print()\n",
    "result = B.delete(B.root,50)\n",
    "print('deleted ?',result)\n",
    "print('after deleting')\n",
    "B.inorder(B.root)\n"
   ]
  },
  {
   "cell_type": "code",
   "execution_count": 72,
   "id": "c279f3c0-619a-4360-904d-bf404e0c1604",
   "metadata": {},
   "outputs": [
    {
     "name": "stdout",
     "output_type": "stream",
     "text": [
      "10 30 40 50 80 \n",
      "deleted ? True\n",
      "after deleting\n",
      "10 40 50 80 "
     ]
    }
   ],
   "source": [
    "B = BinarySearchTree()\n",
    "B.insert(B.root,30)\n",
    "B.insert(B.root,10)\n",
    "B.insert(B.root,80)\n",
    "B.insert(B.root,40)\n",
    "B.insert(B.root,50)\n",
    "B.inorder(B.root)\n",
    "print()\n",
    "result = B.delete(B.root,30)\n",
    "print('deleted ?',result)\n",
    "print('after deleting')\n",
    "B.inorder(B.root)"
   ]
  },
  {
   "cell_type": "code",
   "execution_count": 75,
   "id": "1d98559f-9513-4946-93aa-a87c5a221b9c",
   "metadata": {},
   "outputs": [
    {
     "name": "stdout",
     "output_type": "stream",
     "text": [
      "20 30 35 37 40 50 60 70 80 \n",
      "deleted ? True\n",
      "after deleting\n",
      "20 35 37 40 50 60 70 80 "
     ]
    }
   ],
   "source": [
    "B = BinarySearchTree()\n",
    "B.insert(B.root,50)\n",
    "B.insert(B.root,30)\n",
    "B.insert(B.root,70)\n",
    "B.insert(B.root,20)\n",
    "B.insert(B.root,40)\n",
    "B.insert(B.root,60)\n",
    "B.insert(B.root,80)\n",
    "B.insert(B.root,35)\n",
    "B.insert(B.root,37)\n",
    "B.inorder(B.root)\n",
    "print()\n",
    "result = B.delete(B.root,30)\n",
    "print('deleted ?',result)\n",
    "print('after deleting')\n",
    "B.inorder(B.root)"
   ]
  },
  {
   "cell_type": "code",
   "execution_count": null,
   "id": "16409408-93c8-4511-afee-df963fed0583",
   "metadata": {},
   "outputs": [],
   "source": []
  }
 ],
 "metadata": {
  "kernelspec": {
   "display_name": "Python 3 (ipykernel)",
   "language": "python",
   "name": "python3"
  },
  "language_info": {
   "codemirror_mode": {
    "name": "ipython",
    "version": 3
   },
   "file_extension": ".py",
   "mimetype": "text/x-python",
   "name": "python",
   "nbconvert_exporter": "python",
   "pygments_lexer": "ipython3",
   "version": "3.13.1"
  }
 },
 "nbformat": 4,
 "nbformat_minor": 5
}
