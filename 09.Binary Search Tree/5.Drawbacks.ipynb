{
 "cells": [
  {
   "cell_type": "code",
   "execution_count": 65,
   "id": "5ea158c5-9dcd-4ed1-9dcc-854beebd5a9e",
   "metadata": {},
   "outputs": [],
   "source": [
    "class Node:\n",
    "    def __init__(self,element):\n",
    "        self.element =element\n",
    "        self.left =None\n",
    "        self.right =None\n",
    "\n",
    "class BinarySearchTree:\n",
    "    def __init__(self):\n",
    "        self.root = None\n",
    "\n",
    "    def insert(self,troot,e):\n",
    "        newest = Node(e)\n",
    "        if self.root is None:\n",
    "            self.root = newest\n",
    "        else:\n",
    "            temp = None\n",
    "            while troot:\n",
    "                temp = troot\n",
    "                if troot.element == e :\n",
    "                    return\n",
    "                elif e<troot.element:\n",
    "                    troot = troot.left\n",
    "                elif e > troot.element:\n",
    "                    troot = troot.right\n",
    "            if e > temp.element:\n",
    "                temp.right = newest\n",
    "            else:\n",
    "                temp.left = newest\n",
    "\n",
    "    def rinsert(self,troot,e):\n",
    "        if self.root is None:\n",
    "            self.root = Node(e)\n",
    "            return \n",
    "        else:\n",
    "            if troot:\n",
    "                if e < troot.element:\n",
    "                    troot.left = self.rinsert(troot.left,e)\n",
    "                elif e > troot.element:\n",
    "                    troot.right = self.rinsert(troot.right,e)\n",
    "            else:\n",
    "                troot = Node(e) \n",
    "            return troot\n",
    "\n",
    "    def search(self,troot,key):\n",
    "        while troot:\n",
    "            if key == troot.element:\n",
    "                return True\n",
    "            elif key < troot.element:\n",
    "                troot = troot.left\n",
    "            elif key > troot.element:\n",
    "                troot = troot.right\n",
    "        return False\n",
    "\n",
    "    def rsearch(self,troot,key):\n",
    "        if troot:\n",
    "            if key == troot.element:\n",
    "                return True\n",
    "            elif key < troot.element:\n",
    "                return self.rsearch(troot.left,element)\n",
    "            elif key > troot.element:\n",
    "                return self.search(troot.right,element)\n",
    "        else:\n",
    "            return False\n",
    "            \n",
    "                \n",
    "    def inorder(self,troot):\n",
    "        if troot:\n",
    "            self.inorder(troot.left)\n",
    "            print(troot.element,end=' ')\n",
    "            self.inorder(troot.right)\n",
    "\n",
    "    def iterative_delete(self, key):\n",
    "        parent, node = None, self.root\n",
    "\n",
    "        # Step 1: Search for the node to delete\n",
    "        while node and node.element != key:\n",
    "            parent = node\n",
    "            if key < node.element:\n",
    "                node = node.left\n",
    "            else:\n",
    "                node = node.right\n",
    "\n",
    "        if node is None:  # Key not found\n",
    "            return False\n",
    "\n",
    "        # Step 2: Case 1 - Node has no children (leaf node)\n",
    "        if node.left is None and node.right is None:\n",
    "            if node == self.root:\n",
    "                self.root = None  # If root is the only node\n",
    "            elif node == parent.left:\n",
    "                parent.left = None\n",
    "            else:\n",
    "                parent.right = None\n",
    "\n",
    "        # Step 3: Case 2 - Node has one child\n",
    "        elif node.left is None or node.right is None:\n",
    "            child = node.left if node.left else node.right  # Choose the non-null child\n",
    "            if node == self.root:\n",
    "                self.root = child\n",
    "            elif node == parent.left:\n",
    "                parent.left = child\n",
    "            else:\n",
    "                parent.right = child\n",
    "\n",
    "        # Step 4: Case 3 - Node has two children\n",
    "        else:\n",
    "            # Find inorder successor (smallest in right subtree)\n",
    "            successor_parent = node\n",
    "            successor = node.right\n",
    "            while successor.left:\n",
    "                successor_parent = successor\n",
    "                successor = successor.left\n",
    "\n",
    "            # Replace node's element with successor's element\n",
    "            node.element = successor.element\n",
    "\n",
    "            # Delete the inorder successor\n",
    "            if successor_parent.left == successor:\n",
    "                successor_parent.left = successor.right\n",
    "            else:\n",
    "                successor_parent.right = successor.right\n",
    "\n",
    "        return True"
   ]
  },
  {
   "cell_type": "code",
   "execution_count": 66,
   "id": "e975d720-7c07-4990-b09e-9abcabffc6b7",
   "metadata": {},
   "outputs": [
    {
     "name": "stdout",
     "output_type": "stream",
     "text": [
      "None\n"
     ]
    },
    {
     "data": {
      "text/plain": [
       "False"
      ]
     },
     "execution_count": 66,
     "metadata": {},
     "output_type": "execute_result"
    }
   ],
   "source": [
    "B = BinarySearchTree()\n",
    "B.inorder(B.root)\n",
    "print(B.root)\n",
    "B.insert(B.root,50)\n",
    "B.insert(B.root,30)\n",
    "B.insert(B.root,80)\n",
    "B.insert(B.root,10)\n",
    "B.insert(B.root,40)\n",
    "B.insert(B.root,60)\n",
    "B.insert(B.root,90)\n",
    "B.search(B.root,100)"
   ]
  },
  {
   "cell_type": "code",
   "execution_count": null,
   "id": "5bc2c996-c275-4c0b-a0a0-a63881be4bce",
   "metadata": {},
   "outputs": [],
   "source": []
  },
  {
   "cell_type": "code",
   "execution_count": 67,
   "id": "71162818-fa20-401d-955b-d6ab460afdb2",
   "metadata": {},
   "outputs": [
    {
     "name": "stdout",
     "output_type": "stream",
     "text": [
      "10 30 40 50 60 80 90 "
     ]
    }
   ],
   "source": [
    "B = BinarySearchTree()\n",
    "B.insert(B.root,50)\n",
    "B.insert(B.root,30)\n",
    "B.insert(B.root,80)\n",
    "B.insert(B.root,10)\n",
    "B.insert(B.root,40)\n",
    "B.insert(B.root,60)\n",
    "B.insert(B.root,90)\n",
    "B.inorder(B.root)"
   ]
  },
  {
   "cell_type": "code",
   "execution_count": 68,
   "id": "4b7e287e-b6a7-4f8a-aaa5-d080c9ea5421",
   "metadata": {},
   "outputs": [
    {
     "data": {
      "text/plain": [
       "True"
      ]
     },
     "execution_count": 68,
     "metadata": {},
     "output_type": "execute_result"
    }
   ],
   "source": [
    "B.iterative_delete(60)"
   ]
  },
  {
   "cell_type": "code",
   "execution_count": 74,
   "id": "f1dceff9-39a0-4fdc-8464-2992ad454be1",
   "metadata": {},
   "outputs": [
    {
     "name": "stdout",
     "output_type": "stream",
     "text": [
      "10 30 40 50 80 \n",
      "10 40 50 80 "
     ]
    }
   ],
   "source": [
    "k = BinarySearchTree()\n",
    "k.insert(k.root,30)\n",
    "k.insert(k.root,10)\n",
    "k.insert(k.root,80)\n",
    "k.insert(k.root,40)\n",
    "k.insert(k.root,50)\n",
    "k.inorder(k.root)\n",
    "k.iterative_delete(30)\n",
    "print()\n",
    "k.inorder(k.root)"
   ]
  },
  {
   "cell_type": "code",
   "execution_count": 72,
   "id": "53e6b657-aaa3-4263-a437-f0b45f30eb05",
   "metadata": {},
   "outputs": [
    {
     "name": "stdout",
     "output_type": "stream",
     "text": [
      "10 40 50 80 "
     ]
    }
   ],
   "source": [
    "B.inorder(B.root)"
   ]
  },
  {
   "cell_type": "code",
   "execution_count": 48,
   "id": "e882b5e8-bea6-45f4-b049-1ac6469f7c88",
   "metadata": {},
   "outputs": [
    {
     "name": "stdout",
     "output_type": "stream",
     "text": [
      "10 30 40 50 60 80 90 "
     ]
    }
   ],
   "source": [
    "b = BinarySearchTree()\n",
    "b.rinsert(b.root,50)\n",
    "b.rinsert(b.root,30)\n",
    "b.rinsert(b.root,80)\n",
    "b.rinsert(b.root,10)\n",
    "b.rinsert(b.root,40)\n",
    "b.rinsert(b.root,60)\n",
    "b.rinsert(b.root,90)\n",
    "b.inorder(b.root)"
   ]
  },
  {
   "attachments": {},
   "cell_type": "markdown",
   "id": "847de933-635a-4348-80f8-ea1d9f075042",
   "metadata": {},
   "source": [
    "# searching\n",
    "<img src=\"../images/Screenshot 2025-02-23 at 8.41.20 PM.png\"/>"
   ]
  },
  {
   "attachments": {},
   "cell_type": "markdown",
   "id": "044726d5-cb8b-4c09-b5ea-429df73f6864",
   "metadata": {},
   "source": [
    "# inserting\n",
    "<img src=\"../images/Screenshot 2025-02-23 at 8.42.47 PM.png\"/>"
   ]
  },
  {
   "cell_type": "code",
   "execution_count": null,
   "id": "e3e51cb9-a247-4f83-84f6-8916fad03527",
   "metadata": {},
   "outputs": [],
   "source": []
  }
 ],
 "metadata": {
  "kernelspec": {
   "display_name": "Python 3 (ipykernel)",
   "language": "python",
   "name": "python3"
  },
  "language_info": {
   "codemirror_mode": {
    "name": "ipython",
    "version": 3
   },
   "file_extension": ".py",
   "mimetype": "text/x-python",
   "name": "python",
   "nbconvert_exporter": "python",
   "pygments_lexer": "ipython3",
   "version": "3.13.1"
  }
 },
 "nbformat": 4,
 "nbformat_minor": 5
}
