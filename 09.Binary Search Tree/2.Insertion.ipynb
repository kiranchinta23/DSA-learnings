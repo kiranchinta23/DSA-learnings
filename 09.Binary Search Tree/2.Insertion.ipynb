{
 "cells": [
  {
   "cell_type": "markdown",
   "id": "15feb92b-2191-4d40-ad74-9310f23907cf",
   "metadata": {},
   "source": [
    "# BST Insertion"
   ]
  },
  {
   "attachments": {},
   "cell_type": "markdown",
   "id": "dfafd9f1-1e6d-42f5-a813-d380815a0d5f",
   "metadata": {},
   "source": [
    "<img src=\"../images/Screenshot 2025-02-24 at 8.39.38 PM.png\"/>"
   ]
  },
  {
   "cell_type": "markdown",
   "id": "5635e6a0-5db4-4c4c-b397-064613340113",
   "metadata": {},
   "source": [
    "# Iterative Insert"
   ]
  },
  {
   "cell_type": "code",
   "execution_count": 1,
   "id": "81f25c81-1559-4bbe-a153-ff85478e318f",
   "metadata": {},
   "outputs": [],
   "source": [
    "class Node:\n",
    "    def __init__(self,element):\n",
    "        self.element =element\n",
    "        self.left =None\n",
    "        self.right =None\n",
    "\n",
    "class BinarySearchTree:\n",
    "    def __init__(self):\n",
    "        self.root = None\n",
    "\n",
    "    def insert(self,troot,e):\n",
    "        newest = Node(e)\n",
    "        if self.root is None:\n",
    "            self.root = newest\n",
    "        else:\n",
    "            temp = None\n",
    "            while troot:\n",
    "                temp = troot\n",
    "                if troot.element == e :\n",
    "                    return\n",
    "                elif e<troot.element:\n",
    "                    troot = troot.left\n",
    "                elif e > troot.element:\n",
    "                    troot = troot.right\n",
    "            if e > temp.element:\n",
    "                temp.right = newest\n",
    "            else:\n",
    "                temp.left = newest\n",
    "                \n",
    "    def inorder(self,troot):\n",
    "        if troot:\n",
    "            self.inorder(troot.left)\n",
    "            print(troot.element,end=' ')\n",
    "            self.inorder(troot.right)"
   ]
  },
  {
   "cell_type": "code",
   "execution_count": 2,
   "id": "567de453-9c1a-4ce0-b1f4-47077ba4535e",
   "metadata": {},
   "outputs": [
    {
     "name": "stdout",
     "output_type": "stream",
     "text": [
      "10 30 40 50 60 80 90 "
     ]
    }
   ],
   "source": [
    "B = BinarySearchTree()\n",
    "B.insert(B.root,50)\n",
    "B.insert(B.root,30)\n",
    "B.insert(B.root,80)\n",
    "B.insert(B.root,10)\n",
    "B.insert(B.root,40)\n",
    "B.insert(B.root,60)\n",
    "B.insert(B.root,90)\n",
    "B.inorder(B.root)"
   ]
  },
  {
   "cell_type": "markdown",
   "id": "d7a0fba0-d4c9-42e7-afe8-898617111b44",
   "metadata": {},
   "source": [
    "# Recursive Insert"
   ]
  },
  {
   "cell_type": "code",
   "execution_count": 3,
   "id": "0844ebef-060f-4181-8689-59b552d0c530",
   "metadata": {},
   "outputs": [],
   "source": [
    "class Node:\n",
    "    def __init__(self,element):\n",
    "        self.element =element\n",
    "        self.left =None\n",
    "        self.right =None\n",
    "\n",
    "class BinarySearchTree:\n",
    "    def __init__(self):\n",
    "        self.root = None\n",
    "\n",
    "    def rinsert(self,troot,e):\n",
    "        if self.root is None:\n",
    "            self.root = Node(e)\n",
    "            return \n",
    "        else:\n",
    "            if troot:\n",
    "                if e < troot.element:\n",
    "                    troot.left = self.rinsert(troot.left,e)\n",
    "                elif e > troot.element:\n",
    "                    troot.right = self.rinsert(troot.right,e)\n",
    "            else:\n",
    "                troot = Node(e) \n",
    "            return troot\n",
    "\n",
    "    def inorder(self,troot):\n",
    "        if troot:\n",
    "            self.inorder(troot.left)\n",
    "            print(troot.element,end=' ')\n",
    "            self.inorder(troot.right)"
   ]
  },
  {
   "cell_type": "code",
   "execution_count": 5,
   "id": "e2185e3e-deed-4acf-8427-b2d1d2802b8f",
   "metadata": {},
   "outputs": [
    {
     "name": "stdout",
     "output_type": "stream",
     "text": [
      "10 30 40 50 60 80 90 "
     ]
    }
   ],
   "source": [
    "B = BinarySearchTree()\n",
    "B.rinsert(B.root,50)\n",
    "B.rinsert(B.root,30)\n",
    "B.rinsert(B.root,80)\n",
    "B.rinsert(B.root,10)\n",
    "B.rinsert(B.root,40)\n",
    "B.rinsert(B.root,60)\n",
    "B.rinsert(B.root,90)\n",
    "B.inorder(B.root)"
   ]
  },
  {
   "cell_type": "markdown",
   "id": "33392df4-478e-43aa-b7cc-77ef67b58adf",
   "metadata": {},
   "source": [
    "# inserting\n",
    "<img src=\"../images/Screenshot 2025-02-23 at 8.42.47 PM.png\"/>"
   ]
  },
  {
   "cell_type": "code",
   "execution_count": null,
   "id": "3c208fbd-aaac-48d5-9f4d-92f186276655",
   "metadata": {},
   "outputs": [],
   "source": []
  }
 ],
 "metadata": {
  "kernelspec": {
   "display_name": "Python 3 (ipykernel)",
   "language": "python",
   "name": "python3"
  },
  "language_info": {
   "codemirror_mode": {
    "name": "ipython",
    "version": 3
   },
   "file_extension": ".py",
   "mimetype": "text/x-python",
   "name": "python",
   "nbconvert_exporter": "python",
   "pygments_lexer": "ipython3",
   "version": "3.13.1"
  }
 },
 "nbformat": 4,
 "nbformat_minor": 5
}
