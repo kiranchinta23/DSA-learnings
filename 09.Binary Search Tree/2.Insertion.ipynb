{
 "cells": [
  {
   "cell_type": "markdown",
   "id": "15feb92b-2191-4d40-ad74-9310f23907cf",
   "metadata": {},
   "source": [
    "# BST Insertion"
   ]
  },
  {
   "attachments": {},
   "cell_type": "markdown",
   "id": "dfafd9f1-1e6d-42f5-a813-d380815a0d5f",
   "metadata": {},
   "source": [
    "<img src=\"../images/Screenshot 2025-02-24 at 8.39.38 PM.png\"/>"
   ]
  },
  {
   "cell_type": "markdown",
   "id": "5635e6a0-5db4-4c4c-b397-064613340113",
   "metadata": {},
   "source": [
    "# Iterative Insert"
   ]
  },
  {
   "cell_type": "code",
   "execution_count": 28,
   "id": "81f25c81-1559-4bbe-a153-ff85478e318f",
   "metadata": {},
   "outputs": [],
   "source": [
    "class Node:\n",
    "    def __init__(self,element):\n",
    "        self.element =element\n",
    "        self.left =None\n",
    "        self.right =None\n",
    "\n",
    "class BinarySearchTree:\n",
    "    def __init__(self):\n",
    "        self.root = None\n",
    "\n",
    "    def insert(self,troot,e):\n",
    "        newest = Node(e)\n",
    "        if self.root is None:\n",
    "            self.root = newest\n",
    "        else:\n",
    "            parent = None\n",
    "            while troot:\n",
    "                parent = troot\n",
    "                if troot.element == e :\n",
    "                    return\n",
    "                elif e<troot.element:\n",
    "                    troot = troot.left\n",
    "                elif e > troot.element:\n",
    "                    troot = troot.right\n",
    "            if e > parent.element:\n",
    "                parent.right = newest\n",
    "            else:\n",
    "                parent.left = newest\n",
    "                \n",
    "    def inorder(self,troot):\n",
    "        if troot:\n",
    "            self.inorder(troot.left)\n",
    "            print(troot.element,end=' ')\n",
    "            self.inorder(troot.right)"
   ]
  },
  {
   "cell_type": "code",
   "execution_count": 29,
   "id": "567de453-9c1a-4ce0-b1f4-47077ba4535e",
   "metadata": {},
   "outputs": [
    {
     "name": "stdout",
     "output_type": "stream",
     "text": [
      "10 30 40 50 60 80 90 "
     ]
    }
   ],
   "source": [
    "B = BinarySearchTree()\n",
    "B.insert(B.root,50)\n",
    "B.insert(B.root,30)\n",
    "B.insert(B.root,80)\n",
    "B.insert(B.root,10)\n",
    "B.insert(B.root,40)\n",
    "B.insert(B.root,60)\n",
    "B.insert(B.root,90)\n",
    "B.inorder(B.root)"
   ]
  },
  {
   "cell_type": "code",
   "execution_count": 30,
   "id": "0cc0df1f-79eb-4aac-9c00-a34a8af3ad4c",
   "metadata": {},
   "outputs": [
    {
     "data": {
      "text/plain": [
       "50"
      ]
     },
     "execution_count": 30,
     "metadata": {},
     "output_type": "execute_result"
    }
   ],
   "source": [
    "B.root.element"
   ]
  },
  {
   "cell_type": "code",
   "execution_count": 38,
   "id": "2286ccf5-1956-4b74-a837-466ac02796e9",
   "metadata": {},
   "outputs": [
    {
     "data": {
      "text/plain": [
       "90"
      ]
     },
     "execution_count": 38,
     "metadata": {},
     "output_type": "execute_result"
    }
   ],
   "source": [
    "B.root.right.right.element"
   ]
  },
  {
   "cell_type": "markdown",
   "id": "d7a0fba0-d4c9-42e7-afe8-898617111b44",
   "metadata": {},
   "source": [
    "# Recursive Insert"
   ]
  },
  {
   "cell_type": "code",
   "execution_count": 39,
   "id": "0844ebef-060f-4181-8689-59b552d0c530",
   "metadata": {},
   "outputs": [],
   "source": [
    "class Node:\n",
    "    def __init__(self,element):\n",
    "        self.element =element\n",
    "        self.left =None\n",
    "        self.right =None\n",
    "\n",
    "class BinarySearchTree:\n",
    "    def __init__(self):\n",
    "        self.root = None\n",
    "\n",
    "    def rinsert(self,troot,e):\n",
    "        if troot is None:\n",
    "            newest = Node(e)\n",
    "            troot = newest\n",
    "        else:\n",
    "            if e < troot.element:\n",
    "                troot.left = self.rinsert(troot.left,e)\n",
    "            elif e > troot.element:\n",
    "                troot.right = self.rinsert(troot.right,e)\n",
    "        return troot\n",
    "\n",
    "    def inorder(self,troot):\n",
    "        if troot:\n",
    "            self.inorder(troot.left)\n",
    "            print(troot.element,end=' ')\n",
    "            self.inorder(troot.right)"
   ]
  },
  {
   "cell_type": "code",
   "execution_count": 40,
   "id": "e2185e3e-deed-4acf-8427-b2d1d2802b8f",
   "metadata": {},
   "outputs": [
    {
     "name": "stdout",
     "output_type": "stream",
     "text": [
      "10 30 40 50 60 80 90 "
     ]
    }
   ],
   "source": [
    "B = BinarySearchTree()\n",
    "B.root = B.rinsert(B.root,50)\n",
    "B.rinsert(B.root,30)\n",
    "B.rinsert(B.root,80)\n",
    "B.rinsert(B.root,10)\n",
    "B.rinsert(B.root,40)\n",
    "B.rinsert(B.root,60)\n",
    "B.rinsert(B.root,90)\n",
    "B.inorder(B.root)"
   ]
  },
  {
   "cell_type": "code",
   "execution_count": 41,
   "id": "0d766966-35ff-454e-aacf-12c8c3317036",
   "metadata": {},
   "outputs": [
    {
     "data": {
      "text/plain": [
       "50"
      ]
     },
     "execution_count": 41,
     "metadata": {},
     "output_type": "execute_result"
    }
   ],
   "source": [
    "B.root.element"
   ]
  },
  {
   "cell_type": "code",
   "execution_count": 48,
   "id": "9a05635d-0013-4adb-9cd3-6f027b1e37c1",
   "metadata": {},
   "outputs": [
    {
     "data": {
      "text/plain": [
       "10"
      ]
     },
     "execution_count": 48,
     "metadata": {},
     "output_type": "execute_result"
    }
   ],
   "source": [
    "B.root.left.left.element"
   ]
  },
  {
   "cell_type": "markdown",
   "id": "33392df4-478e-43aa-b7cc-77ef67b58adf",
   "metadata": {},
   "source": [
    "# inserting\n",
    "<img src=\"../images/Screenshot 2025-02-23 at 8.42.47 PM.png\"/>"
   ]
  },
  {
   "cell_type": "markdown",
   "id": "b7a2124b-1d9c-4f63-bc23-1248c70c211d",
   "metadata": {},
   "source": [
    "# example walk through"
   ]
  },
  {
   "attachments": {},
   "cell_type": "markdown",
   "id": "25d9456d-4027-426b-8d34-3701d0355eec",
   "metadata": {},
   "source": [
    "<img src=\"../images/WhatsApp Image 2025-03-03 at 9.16.48 PM.jpeg\"/>\n",
    "<img src=\"../images/WhatsApp Image 2025-03-03 at 9.16.49 PM.jpeg\"/>\n",
    "<img src=\"../images/WhatsApp Image 2025-03-03 at 9.16.49 PM (1).jpeg\"/>"
   ]
  },
  {
   "cell_type": "code",
   "execution_count": null,
   "id": "523821db-b2cd-4b4d-99f8-06fb83eff28f",
   "metadata": {},
   "outputs": [],
   "source": []
  }
 ],
 "metadata": {
  "kernelspec": {
   "display_name": "Python 3 (ipykernel)",
   "language": "python",
   "name": "python3"
  },
  "language_info": {
   "codemirror_mode": {
    "name": "ipython",
    "version": 3
   },
   "file_extension": ".py",
   "mimetype": "text/x-python",
   "name": "python",
   "nbconvert_exporter": "python",
   "pygments_lexer": "ipython3",
   "version": "3.13.1"
  }
 },
 "nbformat": 4,
 "nbformat_minor": 5
}
