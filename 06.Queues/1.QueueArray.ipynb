{
 "cells": [
  {
   "attachments": {},
   "cell_type": "markdown",
   "id": "8d951e56-8b2f-4be7-b5df-9f9b58df1c49",
   "metadata": {},
   "source": [
    "# Queue Array\n",
    "<img src=\"../images/Screenshot 2025-02-05 at 9.00.08 PM.png\"/>"
   ]
  },
  {
   "cell_type": "code",
   "execution_count": 16,
   "id": "9aee6c7b-b5bc-4cbf-8142-9beaaeda9f4b",
   "metadata": {},
   "outputs": [],
   "source": [
    "class QueueArray:\n",
    "    def __init__(self):\n",
    "        self.data = []\n",
    "\n",
    "    def __len__(self):\n",
    "        return len(self.data)\n",
    "\n",
    "    def enqueue(self,element):\n",
    "        self.data.append(element)\n",
    "\n",
    "    def dequeue(self):\n",
    "        if len(self.data)==0:\n",
    "            return \n",
    "        else:\n",
    "            return self.data.pop(0)\n",
    "\n",
    "    def first(self):\n",
    "        if len(self.data)==0:\n",
    "            return \n",
    "        else:\n",
    "            return self.data[0]\n",
    "\n",
    "    def display(self):\n",
    "        # for x in self.data:\n",
    "        #     print(x,end='<-')\n",
    "        # print()\n",
    "        print(self.data)"
   ]
  },
  {
   "cell_type": "code",
   "execution_count": 20,
   "id": "44543e31-31df-4ea3-9d96-e46a4e184db5",
   "metadata": {},
   "outputs": [
    {
     "name": "stdout",
     "output_type": "stream",
     "text": [
      "[5, 3]\n",
      "2\n"
     ]
    }
   ],
   "source": [
    "q =QueueArray()\n",
    "q.enqueue(5)\n",
    "q.enqueue(3)\n",
    "q.display()\n",
    "print(len(q))"
   ]
  },
  {
   "cell_type": "code",
   "execution_count": 21,
   "id": "8f8ed7cb-58d4-4694-9e8f-cfe769ffa15f",
   "metadata": {},
   "outputs": [
    {
     "name": "stdout",
     "output_type": "stream",
     "text": [
      "5\n"
     ]
    }
   ],
   "source": [
    "print(q.dequeue())"
   ]
  },
  {
   "cell_type": "code",
   "execution_count": 22,
   "id": "d474a84a-cfff-4d21-a71d-807e9ae5e2f6",
   "metadata": {},
   "outputs": [
    {
     "name": "stdout",
     "output_type": "stream",
     "text": [
      "3\n",
      "[]\n"
     ]
    }
   ],
   "source": [
    "print(q.dequeue())\n",
    "q.display()"
   ]
  },
  {
   "cell_type": "code",
   "execution_count": 23,
   "id": "2a77689f-4b4d-479f-8b1f-6d79263d7a28",
   "metadata": {},
   "outputs": [
    {
     "name": "stdout",
     "output_type": "stream",
     "text": [
      "7\n",
      "[7, 9]\n"
     ]
    }
   ],
   "source": [
    "q.enqueue(7)\n",
    "q.enqueue(9)\n",
    "print(q.first())\n",
    "q.display()"
   ]
  },
  {
   "cell_type": "code",
   "execution_count": null,
   "id": "e510fc72-6aef-49bf-ad96-c9d1ec49e75e",
   "metadata": {},
   "outputs": [],
   "source": []
  }
 ],
 "metadata": {
  "kernelspec": {
   "display_name": "Python 3 (ipykernel)",
   "language": "python",
   "name": "python3"
  },
  "language_info": {
   "codemirror_mode": {
    "name": "ipython",
    "version": 3
   },
   "file_extension": ".py",
   "mimetype": "text/x-python",
   "name": "python",
   "nbconvert_exporter": "python",
   "pygments_lexer": "ipython3",
   "version": "3.13.1"
  }
 },
 "nbformat": 4,
 "nbformat_minor": 5
}
