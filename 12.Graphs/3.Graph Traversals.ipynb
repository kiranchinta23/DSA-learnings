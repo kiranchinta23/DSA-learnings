{
 "cells": [
  {
   "cell_type": "markdown",
   "id": "52d1147a-d9b4-4d99-b4e2-386f04d1a246",
   "metadata": {},
   "source": [
    "# Breadth First Search "
   ]
  },
  {
   "attachments": {},
   "cell_type": "markdown",
   "id": "a8511066-3dff-4d18-a775-4d2e52d3eca6",
   "metadata": {},
   "source": [
    "<img src=\"../images/Screenshot 2025-03-19 at 8.48.54 PM.png\"/>"
   ]
  },
  {
   "cell_type": "markdown",
   "id": "1d70a382-64f1-47f7-af51-193c420c9ea6",
   "metadata": {},
   "source": [
    "### Adjacency list"
   ]
  },
  {
   "cell_type": "code",
   "execution_count": 30,
   "id": "0eb9338d-01fa-477f-88c4-69162d33cd4c",
   "metadata": {},
   "outputs": [],
   "source": [
    "\n",
    "from queue import deque\n",
    "\n",
    "def bfs_list(graph, start_node):\n",
    "    visited = []\n",
    "    queue = deque()\n",
    "    queue.append(start_node)\n",
    "    visited.append(start_node)\n",
    "\n",
    "    while queue:\n",
    "        node = queue.popleft()\n",
    "        #print(node,end=\" \")\n",
    "        \n",
    "        for neighbor in graph[node]:\n",
    "            if neighbor not in visited:\n",
    "                visited.append(neighbor)\n",
    "                queue.append(neighbor)\n",
    "\n",
    "    return visited"
   ]
  },
  {
   "cell_type": "code",
   "execution_count": 29,
   "id": "cf198fcd-7f82-4fd5-aa9e-297955d9f90d",
   "metadata": {},
   "outputs": [
    {
     "name": "stdout",
     "output_type": "stream",
     "text": [
      "2 1 3 4 5 6 7 BFS traversal starting from node 2: [2, 1, 3, 4, 5, 6, 7]\n"
     ]
    }
   ],
   "source": [
    "start_node = 2\n",
    "graph = {\n",
    "    1: [2, 3, 4],\n",
    "    2: [1, 3],\n",
    "    3: [1, 2, 4, 5],\n",
    "    4: [1, 3, 5],\n",
    "    5: [3, 4,6,7],\n",
    "    6: [5],\n",
    "    7: [5]\n",
    "}\n",
    "bfs_result = bfs_list(graph, start_node)\n",
    "\n",
    "print(f\"BFS traversal starting from node {start_node}: {bfs_result}\")"
   ]
  },
  {
   "cell_type": "markdown",
   "id": "69dc532d-2504-430b-83ee-7ecc78f0c022",
   "metadata": {},
   "source": [
    "### Adjacency Matrix"
   ]
  },
  {
   "cell_type": "code",
   "execution_count": 21,
   "id": "4f38090d-b133-47d5-a232-84efed1dbc1e",
   "metadata": {},
   "outputs": [],
   "source": [
    "from queue import deque\n",
    "\n",
    "def bfs_mat(graph, start_node):\n",
    "    num_nodes = len(graph)\n",
    "    visited = []\n",
    "    queue = deque()\n",
    "    queue.append(start_node)\n",
    "    visited.append(start_node)\n",
    "\n",
    "    while queue:\n",
    "        node = queue.popleft()\n",
    "        print(node, end=\" \")  # Process the node\n",
    "        for neighbor in range(num_nodes):\n",
    "            if graph[node][neighbor] != 0 and neighbor not in visited:\n",
    "                visited.append(neighbor)\n",
    "                queue.append(neighbor)\n",
    "\n",
    "    return visited"
   ]
  },
  {
   "cell_type": "code",
   "execution_count": 31,
   "id": "25a6d94a-bf2b-44c4-8026-2a7af265564b",
   "metadata": {},
   "outputs": [
    {
     "name": "stdout",
     "output_type": "stream",
     "text": [
      "BFS Traversal: 1 2 3 4 5 6 7 "
     ]
    },
    {
     "data": {
      "text/plain": [
       "[1, 2, 3, 4, 5, 6, 7]"
      ]
     },
     "execution_count": 31,
     "metadata": {},
     "output_type": "execute_result"
    }
   ],
   "source": [
    "graph = [\n",
    "    [0, 0, 0, 0, 0, 0,0,0],\n",
    "    [0, 0, 1, 1, 1, 0,0,0],\n",
    "    [0, 1, 0, 1, 0, 0,0,0],\n",
    "    [0, 1, 1, 0, 1, 1,0,0],\n",
    "    [0, 1, 0, 1, 0, 1,0,0],\n",
    "    [0, 0, 0, 1, 1, 0,1,1],\n",
    "    [0, 0, 0, 0, 0, 1,0,0],\n",
    "    [0, 0, 0, 0, 0, 1,0,0]\n",
    "]\n",
    "\n",
    "start_node = 1\n",
    "print(\"BFS Traversal: \", end=\"\")\n",
    "bfs_mat(graph, start_node)"
   ]
  },
  {
   "cell_type": "code",
   "execution_count": 32,
   "id": "2f2ac681-c914-43f8-95e4-c36afc4ec21e",
   "metadata": {},
   "outputs": [
    {
     "name": "stdout",
     "output_type": "stream",
     "text": [
      "BFS Traversal: 2 1 3 4 5 6 7 "
     ]
    },
    {
     "data": {
      "text/plain": [
       "[2, 1, 3, 4, 5, 6, 7]"
      ]
     },
     "execution_count": 32,
     "metadata": {},
     "output_type": "execute_result"
    }
   ],
   "source": [
    "start_node = 2\n",
    "print(\"BFS Traversal: \", end=\"\")\n",
    "bfs_mat(graph, start_node)"
   ]
  },
  {
   "cell_type": "markdown",
   "id": "e957e4a1-56e6-41d5-887d-e02e429d4097",
   "metadata": {},
   "source": [
    "# Depth first Search"
   ]
  },
  {
   "attachments": {},
   "cell_type": "markdown",
   "id": "b301c151-782c-4432-8237-a314fb65df8e",
   "metadata": {},
   "source": [
    "<img src=\"../images/Screenshot 2025-03-19 at 9.27.54 PM.png\"/>"
   ]
  },
  {
   "cell_type": "markdown",
   "id": "3319d58c-fd8b-48fc-86a7-2417280ac7ea",
   "metadata": {},
   "source": [
    "### Using an Adjacency Matrix"
   ]
  },
  {
   "cell_type": "code",
   "execution_count": 46,
   "id": "24026125-3546-4139-bff0-c914c3b5529f",
   "metadata": {},
   "outputs": [],
   "source": [
    "def dfs_mat(graph, node, visited):\n",
    "    if node not in visited:\n",
    "        visited.append(node)\n",
    "        print(node, end=\" \")  # Process the node\n",
    "        \n",
    "        for neighbor in range(len(graph)):\n",
    "            if graph[node][neighbor] != 0 and neighbor not in visited:\n",
    "                dfs_mat(graph, neighbor, visited)"
   ]
  },
  {
   "cell_type": "code",
   "execution_count": 47,
   "id": "dd6662e9-9708-4943-bb6d-53d34e399ee3",
   "metadata": {},
   "outputs": [
    {
     "name": "stdout",
     "output_type": "stream",
     "text": [
      "BFS Traversal: 2 1 3 4 5 6 7 "
     ]
    }
   ],
   "source": [
    "graph = [\n",
    "    [0, 0, 0, 0, 0, 0,0,0],\n",
    "    [0, 0, 1, 1, 1, 0,0,0],\n",
    "    [0, 1, 0, 1, 0, 0,0,0],\n",
    "    [0, 1, 1, 0, 1, 1,0,0],\n",
    "    [0, 1, 0, 1, 0, 1,0,0],\n",
    "    [0, 0, 0, 1, 1, 0,1,1],\n",
    "    [0, 0, 0, 0, 0, 1,0,0],\n",
    "    [0, 0, 0, 0, 0, 1,0,0]\n",
    "]\n",
    "\n",
    "start_node = 2\n",
    "visited = []\n",
    "print(\"BFS Traversal: \", end=\"\")\n",
    "dfs_mat(graph, start_node,visited)"
   ]
  },
  {
   "cell_type": "markdown",
   "id": "f187a1fc-0817-49b9-bcef-2a247349e1ca",
   "metadata": {},
   "source": [
    "# using Adjacency List"
   ]
  },
  {
   "cell_type": "code",
   "execution_count": 44,
   "id": "5a9e113c-d098-4857-8403-8bc783209064",
   "metadata": {},
   "outputs": [],
   "source": [
    "def dfs_list(graph, node, visited):\n",
    "    if node not in visited:\n",
    "        visited.append(node)\n",
    "        print(node, end=\" \")  # Process the node\n",
    "\n",
    "        for neighbor in graph[node]:  # Visit all adjacent nodes\n",
    "            dfs_list(graph, neighbor, visited)"
   ]
  },
  {
   "cell_type": "code",
   "execution_count": 45,
   "id": "cfcea3cc-6bb1-4860-91eb-8c397d6e648f",
   "metadata": {},
   "outputs": [
    {
     "name": "stdout",
     "output_type": "stream",
     "text": [
      "DFS Traversal: 2 1 3 4 5 6 7 "
     ]
    }
   ],
   "source": [
    "\n",
    "graph = {\n",
    "    1: [2, 3, 4],\n",
    "    2: [1, 3],\n",
    "    3: [1, 2, 4, 5],\n",
    "    4: [1, 3, 5],\n",
    "    5: [3, 4,6,7],\n",
    "    6: [5],\n",
    "    7: [5]\n",
    "}\n",
    "\n",
    "start_node = 2\n",
    "visited = []\n",
    "print(\"DFS Traversal: \", end=\"\")\n",
    "dfs_list(graph, start_node, visited)"
   ]
  },
  {
   "cell_type": "code",
   "execution_count": null,
   "id": "a90a4a5a-717e-4e2d-96c7-2cdcded93e7b",
   "metadata": {},
   "outputs": [],
   "source": []
  }
 ],
 "metadata": {
  "kernelspec": {
   "display_name": "Python 3 (ipykernel)",
   "language": "python",
   "name": "python3"
  },
  "language_info": {
   "codemirror_mode": {
    "name": "ipython",
    "version": 3
   },
   "file_extension": ".py",
   "mimetype": "text/x-python",
   "name": "python",
   "nbconvert_exporter": "python",
   "pygments_lexer": "ipython3",
   "version": "3.13.1"
  }
 },
 "nbformat": 4,
 "nbformat_minor": 5
}
