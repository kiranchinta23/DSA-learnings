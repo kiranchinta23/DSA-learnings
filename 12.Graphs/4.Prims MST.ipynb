{
 "cells": [
  {
   "attachments": {},
   "cell_type": "markdown",
   "id": "907e61a8-bcd7-47ab-aec4-31afc46803eb",
   "metadata": {},
   "source": [
    "# Prims MST"
   ]
  },
  {
   "cell_type": "markdown",
   "id": "1bd73fad-fd5f-458e-8018-39ffaa65855b",
   "metadata": {},
   "source": [
    "<img src=\"../images/Screenshot 2025-03-21 at 11.01.39 AM.png\"/>"
   ]
  },
  {
   "cell_type": "code",
   "execution_count": 14,
   "id": "e8fe504f-b33a-4b47-bec6-08cdf36642e2",
   "metadata": {},
   "outputs": [
    {
     "name": "stdout",
     "output_type": "stream",
     "text": [
      "Total Weight of MST: (16, [(1, 0), (2, 1), (4, 1), (3, 0)])\n"
     ]
    }
   ],
   "source": [
    "import heapq\n",
    "\n",
    "def spanning_tree(V, adj):\n",
    "    vis = [0] * V  # Visited nodes\n",
    "    mst = []  # Stores MST edges\n",
    "    pq = []  # Min heap priority queue\n",
    "\n",
    "    # find the edge min weight from the tree\n",
    "    # Initial: Find min cost edge\n",
    "    min_weight = 1000\n",
    "    for i in range(V):\n",
    "        for neighbor, weight in adj[i]:\n",
    "            if weight < min_weight:\n",
    "                min_weight = weight\n",
    "                u, v = i, neighbor\n",
    "\n",
    "    \n",
    "    heapq.heappush(pq, (0, u, -1))  # (weight, node, parent)\n",
    "    \n",
    "    total_weight = 0\n",
    "    \n",
    "    while pq:\n",
    "        weight, node, parent = heapq.heappop(pq)\n",
    "        \n",
    "        if vis[node]:\n",
    "            continue\n",
    "        \n",
    "        if parent != -1:\n",
    "            mst.append((node, parent))\n",
    "        \n",
    "        vis[node] = 1\n",
    "        total_weight += weight\n",
    "        \n",
    "        for adj_node, edge_w in adj[node]:\n",
    "            if not vis[adj_node]:\n",
    "                heapq.heappush(pq, (edge_w, adj_node, node))\n",
    "    \n",
    "    # Printing MST\n",
    "    # for node, parent in mst:\n",
    "    #     print(node, parent)\n",
    "    \n",
    "    return total_weight,mst\n",
    "\n",
    "# Example usage:\n",
    "adj_list = {\n",
    "    0: [(1, 2), (3, 6)],\n",
    "    1: [(0, 2), (2, 3), (3, 8), (4, 5)],\n",
    "    2: [(1, 3), (4, 7)],\n",
    "    3: [(0, 6), (1, 8), (4, 9)],\n",
    "    4: [(1, 5), (2, 7), (3, 9)]\n",
    "}\n",
    "\n",
    "V = 5\n",
    "print(\"Total Weight of MST:\", spanning_tree(V, adj_list))\n"
   ]
  },
  {
   "cell_type": "code",
   "execution_count": 15,
   "id": "f0b366d0-d75c-4f8c-8273-9ee76b183354",
   "metadata": {},
   "outputs": [
    {
     "name": "stdout",
     "output_type": "stream",
     "text": [
      "Total Weight of MST: 16\n",
      "Edges in MST: [(1, 0), (2, 1), (4, 1), (3, 0)]\n"
     ]
    }
   ],
   "source": [
    "import heapq\n",
    "\n",
    "def spanning_tree(V, adj):\n",
    "    vis = [0] * V  # Visited nodes\n",
    "    mst = []  # Stores MST edges\n",
    "    pq = []  # Min heap priority queue\n",
    "\n",
    "    # Initial: Find min cost edge from the tree\n",
    "    min_weight = float('inf')\n",
    "    u, v = -1, -1\n",
    "    for i in range(V):\n",
    "        for j in range(i + 1, V):  # Avoid revisiting edges (undirected graph)\n",
    "            weight = adj[i][j]\n",
    "            if weight > 0 and weight < min_weight:  # Exclude no edges (weight > 0 means there's an edge)\n",
    "                min_weight = weight\n",
    "                u, v = i, j\n",
    "\n",
    "    heapq.heappush(pq, (0, u, -1))  # (weight, node, parent)\n",
    "    \n",
    "    total_weight = 0\n",
    "    \n",
    "    while pq:\n",
    "        weight, node, parent = heapq.heappop(pq)\n",
    "        \n",
    "        if vis[node]:\n",
    "            continue\n",
    "        \n",
    "        if parent != -1:\n",
    "            mst.append((node, parent))\n",
    "        \n",
    "        vis[node] = 1\n",
    "        total_weight += weight\n",
    "        \n",
    "        # Check all possible adjacent nodes in the adjacency matrix\n",
    "        for adj_node in range(V):\n",
    "            edge_w = adj[node][adj_node]\n",
    "            if not vis[adj_node] and edge_w > 0:  # Edge exists and node not visited\n",
    "                heapq.heappush(pq, (edge_w, adj_node, node))\n",
    "    \n",
    "    return total_weight, mst\n",
    "\n",
    "# Example usage with adjacency matrix:\n",
    "adj_matrix = [\n",
    "    [0, 2, 0, 6, 0],\n",
    "    [2, 0, 3, 8, 5],\n",
    "    [0, 3, 0, 0, 7],\n",
    "    [6, 8, 0, 0, 9],\n",
    "    [0, 5, 7, 9, 0]\n",
    "]\n",
    "\n",
    "V = 5\n",
    "total_weight, mst = spanning_tree(V, adj_matrix)\n",
    "print(\"Total Weight of MST:\", total_weight)\n",
    "print(\"Edges in MST:\", mst)"
   ]
  },
  {
   "cell_type": "code",
   "execution_count": null,
   "id": "f96f12eb-4a61-4ba0-a611-daf55e568717",
   "metadata": {},
   "outputs": [],
   "source": []
  }
 ],
 "metadata": {
  "kernelspec": {
   "display_name": "Python 3 (ipykernel)",
   "language": "python",
   "name": "python3"
  },
  "language_info": {
   "codemirror_mode": {
    "name": "ipython",
    "version": 3
   },
   "file_extension": ".py",
   "mimetype": "text/x-python",
   "name": "python",
   "nbconvert_exporter": "python",
   "pygments_lexer": "ipython3",
   "version": "3.13.1"
  }
 },
 "nbformat": 4,
 "nbformat_minor": 5
}
