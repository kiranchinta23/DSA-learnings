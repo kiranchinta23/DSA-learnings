{
 "cells": [
  {
   "cell_type": "markdown",
   "id": "82b1be9b-b8c7-4c3f-a65b-e8116007c4af",
   "metadata": {},
   "source": [
    "# Graphs Terminology"
   ]
  },
  {
   "attachments": {},
   "cell_type": "markdown",
   "id": "c75646a8-48f8-4ea8-9739-6b7bc85bdfe1",
   "metadata": {},
   "source": [
    "### 1. Graph"
   ]
  },
  {
   "cell_type": "markdown",
   "id": "1f51bdf6-c026-44d7-84b2-6faae69e5921",
   "metadata": {},
   "source": [
    "<img src=\"../images/Screenshot 2025-03-17 at 7.52.37 PM.png\"/>"
   ]
  },
  {
   "attachments": {},
   "cell_type": "markdown",
   "id": "b2e96472-cb1b-4410-99fa-bc7ab1237add",
   "metadata": {},
   "source": [
    "### 2. Directed vs Undirected Graph\n"
   ]
  },
  {
   "cell_type": "markdown",
   "id": "e0ad26b0-7e46-46e9-a805-a852986876fe",
   "metadata": {},
   "source": [
    "<img src=\"../images/Screenshot 2025-03-17 at 7.53.51 PM.png\"/>"
   ]
  },
  {
   "attachments": {},
   "cell_type": "markdown",
   "id": "799af2c2-debf-436c-8e57-e188e0292f92",
   "metadata": {},
   "source": [
    "### 3. weighted Graph"
   ]
  },
  {
   "cell_type": "markdown",
   "id": "5e18a461-7036-4d3e-b648-0416e3abe06d",
   "metadata": {},
   "source": [
    "<img src=\"../images/Screenshot 2025-03-17 at 7.54.57 PM.png\"/>"
   ]
  },
  {
   "attachments": {},
   "cell_type": "markdown",
   "id": "42260d61-8d42-404a-bc2e-0d6448cd2dc9",
   "metadata": {},
   "source": [
    "### 4. Degree of Vertex"
   ]
  },
  {
   "cell_type": "markdown",
   "id": "857ab055-9c56-4d90-9dba-fa7cc171cce8",
   "metadata": {},
   "source": [
    "<img src=\"../images/Screenshot 2025-03-17 at 7.55.57 PM.png\"/>"
   ]
  },
  {
   "cell_type": "markdown",
   "id": "c94d0e05-f982-4188-89e7-b69c59efdc17",
   "metadata": {},
   "source": [
    "### 5. Path"
   ]
  },
  {
   "attachments": {},
   "cell_type": "markdown",
   "id": "bfded557-329f-4ca0-bcbe-520c0ca58c51",
   "metadata": {},
   "source": [
    "<img src=\"../images/Screenshot 2025-03-17 at 7.58.29 PM.png\"/>"
   ]
  },
  {
   "cell_type": "markdown",
   "id": "2077915f-3196-4d03-9baa-55ccfc338a1f",
   "metadata": {},
   "source": [
    "### 6.Cycle"
   ]
  },
  {
   "attachments": {},
   "cell_type": "markdown",
   "id": "c6b93f7f-92e6-427e-8922-1c9fb2dbadcf",
   "metadata": {},
   "source": [
    "<img src=\"../images/Screenshot 2025-03-17 at 7.59.47 PM.png\"/>"
   ]
  },
  {
   "cell_type": "markdown",
   "id": "4375598f-59b0-4d9b-b72b-ce267d5e6f57",
   "metadata": {},
   "source": [
    "### 7.DAG"
   ]
  },
  {
   "attachments": {},
   "cell_type": "markdown",
   "id": "d98ae6f8-49a6-4b78-a496-ffe1ba6a0b15",
   "metadata": {},
   "source": [
    "<img src=\"../images/Screenshot 2025-03-17 at 8.00.42 PM.png\"/>"
   ]
  },
  {
   "cell_type": "markdown",
   "id": "66e63921-fb37-4c84-8dd1-029eac239a98",
   "metadata": {},
   "source": [
    "### 8.SubGraph"
   ]
  },
  {
   "attachments": {},
   "cell_type": "markdown",
   "id": "c37c1191-8973-474b-8424-5d481fe001a8",
   "metadata": {},
   "source": [
    "<img src=\"../images/Screenshot 2025-03-17 at 8.01.35 PM.png\"/>"
   ]
  },
  {
   "cell_type": "markdown",
   "id": "35ec21ec-4a71-4d51-be6b-ef0f7ec9c1dd",
   "metadata": {},
   "source": [
    "### 9.Connected Components"
   ]
  },
  {
   "attachments": {},
   "cell_type": "markdown",
   "id": "b50e89d6-671b-4b2f-8b7c-9b837edfb363",
   "metadata": {},
   "source": [
    "<img src=\"../images/Screenshot 2025-03-17 at 8.02.50 PM.png\"/>"
   ]
  },
  {
   "cell_type": "code",
   "execution_count": null,
   "id": "82797709-f168-4852-bea3-8fd4100ebd69",
   "metadata": {},
   "outputs": [],
   "source": []
  }
 ],
 "metadata": {
  "kernelspec": {
   "display_name": "Python 3 (ipykernel)",
   "language": "python",
   "name": "python3"
  },
  "language_info": {
   "codemirror_mode": {
    "name": "ipython",
    "version": 3
   },
   "file_extension": ".py",
   "mimetype": "text/x-python",
   "name": "python",
   "nbconvert_exporter": "python",
   "pygments_lexer": "ipython3",
   "version": "3.13.1"
  }
 },
 "nbformat": 4,
 "nbformat_minor": 5
}
