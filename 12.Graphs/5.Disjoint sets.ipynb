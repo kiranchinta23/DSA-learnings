{
 "cells": [
  {
   "cell_type": "markdown",
   "id": "0f0451f7-3d60-4f34-8494-619105759d4b",
   "metadata": {},
   "source": [
    "# Representation of a a set"
   ]
  },
  {
   "attachments": {},
   "cell_type": "markdown",
   "id": "c8397756-0727-41a1-8a57-5bb38d702c67",
   "metadata": {},
   "source": [
    "<img src=\"../images/Screenshot 2025-03-24 at 1.59.46 PM.png\"/>"
   ]
  },
  {
   "cell_type": "markdown",
   "id": "97d4f8a8-0123-46f8-857a-7291bb4ec8eb",
   "metadata": {},
   "source": [
    "# Union"
   ]
  },
  {
   "attachments": {},
   "cell_type": "markdown",
   "id": "ab74d9ef-2fa6-4ef8-a4de-fd12b2c5339d",
   "metadata": {},
   "source": [
    "<img src=\"../images/Screenshot 2025-03-24 at 2.08.34 PM.png\"/>"
   ]
  },
  {
   "cell_type": "markdown",
   "id": "8fb26133-4de8-405f-9a13-323f2b28ea53",
   "metadata": {},
   "source": [
    "## Steps for unions\n",
    "- input two parent nodes\n",
    "  - find the bigger node value\n",
    "  - add the smaller to the bigger\n",
    "  - bigger becomes the parent to the smaller"
   ]
  },
  {
   "cell_type": "code",
   "execution_count": 1,
   "id": "7400f069-5e0a-485a-9b13-9b309514005d",
   "metadata": {},
   "outputs": [],
   "source": [
    "def Union(u,v):\n",
    "    if A[u]<A[v]:\n",
    "        A[u] = A[u]+A[v]\n",
    "        A[v] = u\n",
    "    else:\n",
    "        A[v] = A[v]+A[u]\n",
    "        A[u] = v"
   ]
  },
  {
   "cell_type": "markdown",
   "id": "c7641670-9643-41ed-bfe2-08026cbcec8f",
   "metadata": {},
   "source": [
    "# find ultimate parent"
   ]
  },
  {
   "cell_type": "markdown",
   "id": "e50eb67a-2090-4771-ac28-a9a49314ada8",
   "metadata": {},
   "source": [
    "- 7's parent is 4\n",
    "- 5's parent is 3, 3's parent is 4 (4 is the ultimate parent for 5)"
   ]
  },
  {
   "cell_type": "markdown",
   "id": "a4cfce91-25ef-4068-9a15-c6f013407ff6",
   "metadata": {},
   "source": [
    "# steps to find the ultimate parent\n",
    "- input a node:\n",
    "  - if node value >0:\n",
    "     - its the parent of that node\n",
    "   \n",
    "        "
   ]
  },
  {
   "cell_type": "code",
   "execution_count": 2,
   "id": "9794c4fd-4ccd-4515-9752-14599251c0f4",
   "metadata": {},
   "outputs": [],
   "source": [
    "def find_parent(u):\n",
    "    if A[u] <0:\n",
    "        return u\n",
    "    else:\n",
    "        A[u] = find_parent(A[u])\n",
    "        return A[u]"
   ]
  },
  {
   "cell_type": "code",
   "execution_count": 3,
   "id": "a05b9383-1e77-44cf-9d9e-9e4c944b8d67",
   "metadata": {},
   "outputs": [],
   "source": [
    "A= [-1,-1,-1,4,-7,3,-1,4,4,3,4]"
   ]
  },
  {
   "cell_type": "code",
   "execution_count": 4,
   "id": "b0d7c843-a4c5-4e62-aefa-caabe985dc3d",
   "metadata": {},
   "outputs": [
    {
     "data": {
      "text/plain": [
       "4"
      ]
     },
     "execution_count": 4,
     "metadata": {},
     "output_type": "execute_result"
    }
   ],
   "source": [
    "find_parent(9)"
   ]
  },
  {
   "cell_type": "code",
   "execution_count": 6,
   "id": "bf534825-ef2c-4710-9ea4-eefec6c03033",
   "metadata": {},
   "outputs": [
    {
     "data": {
      "text/plain": [
       "[-1, -1, -1, 4, -7, 3, -1, 4, 4, 4, 4]"
      ]
     },
     "execution_count": 6,
     "metadata": {},
     "output_type": "execute_result"
    }
   ],
   "source": [
    "A"
   ]
  },
  {
   "cell_type": "code",
   "execution_count": null,
   "id": "eae04df2-5b84-4962-8f70-6de92caf7b6e",
   "metadata": {},
   "outputs": [],
   "source": []
  }
 ],
 "metadata": {
  "kernelspec": {
   "display_name": "Python 3 (ipykernel)",
   "language": "python",
   "name": "python3"
  },
  "language_info": {
   "codemirror_mode": {
    "name": "ipython",
    "version": 3
   },
   "file_extension": ".py",
   "mimetype": "text/x-python",
   "name": "python",
   "nbconvert_exporter": "python",
   "pygments_lexer": "ipython3",
   "version": "3.13.1"
  }
 },
 "nbformat": 4,
 "nbformat_minor": 5
}
