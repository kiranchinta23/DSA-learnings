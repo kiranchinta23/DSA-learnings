{
 "cells": [
  {
   "cell_type": "markdown",
   "id": "fdcd413b-2aa0-484f-912f-01822fb0729a",
   "metadata": {},
   "source": [
    "# 1. Recursion"
   ]
  },
  {
   "cell_type": "markdown",
   "id": "9cf84ef3-d438-40f5-a0c0-11b809ac33c5",
   "metadata": {},
   "source": [
    "- a function calling itself is called recursion"
   ]
  },
  {
   "cell_type": "markdown",
   "id": "d0d8d0dd-d505-44a3-bb6e-c450da3a7aaa",
   "metadata": {},
   "source": [
    "# 2. How Recursion Work?"
   ]
  },
  {
   "attachments": {},
   "cell_type": "markdown",
   "id": "d211a73b-16a2-49ea-bc6f-9494245baa3c",
   "metadata": {},
   "source": [
    "<img src=\"../images/Screenshot 2025-01-17 at 2.55.12 PM.png\"/>"
   ]
  },
  {
   "cell_type": "markdown",
   "id": "885a4566-eec0-4e87-95d4-ee16f2ae0244",
   "metadata": {},
   "source": [
    "# 3.Time complexity & Recurrence Relation "
   ]
  },
  {
   "attachments": {},
   "cell_type": "markdown",
   "id": "d5fa9c66-9aee-4cde-b633-4b2f20cc4b37",
   "metadata": {},
   "source": [
    "<img src=\"../images/Screenshot 2025-01-17 at 3.00.22 PM.png\"/>"
   ]
  },
  {
   "attachments": {},
   "cell_type": "markdown",
   "id": "71fdf188-1501-417c-99d2-a1e0b40b8ca0",
   "metadata": {},
   "source": [
    "<img src=\"../images/Screenshot 2025-01-17 at 3.01.27 PM.png\"/>"
   ]
  },
  {
   "cell_type": "markdown",
   "id": "2ffddcbf-0b0c-4065-a486-052922148faa",
   "metadata": {},
   "source": [
    "# 4. Recurrence Relation another example"
   ]
  },
  {
   "attachments": {},
   "cell_type": "markdown",
   "id": "270c34e6-8f2b-49d0-827a-472217123710",
   "metadata": {},
   "source": [
    "<img src=\"../images/Screenshot 2025-01-17 at 3.02.47 PM.png\"/>\n"
   ]
  },
  {
   "cell_type": "code",
   "execution_count": null,
   "id": "62ff7a2d-5037-4197-a441-2364bf41c57b",
   "metadata": {},
   "outputs": [],
   "source": []
  }
 ],
 "metadata": {
  "kernelspec": {
   "display_name": "Python 3 (ipykernel)",
   "language": "python",
   "name": "python3"
  },
  "language_info": {
   "codemirror_mode": {
    "name": "ipython",
    "version": 3
   },
   "file_extension": ".py",
   "mimetype": "text/x-python",
   "name": "python",
   "nbconvert_exporter": "python",
   "pygments_lexer": "ipython3",
   "version": "3.13.1"
  }
 },
 "nbformat": 4,
 "nbformat_minor": 5
}
