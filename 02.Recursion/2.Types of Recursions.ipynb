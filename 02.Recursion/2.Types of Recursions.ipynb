{
 "cells": [
  {
   "cell_type": "markdown",
   "id": "d0af35c4-22fd-47c3-a213-7f2104a5f0d5",
   "metadata": {},
   "source": [
    "# Types of Recursion "
   ]
  },
  {
   "cell_type": "markdown",
   "id": "dbdb52ee-6a62-42b4-9fbb-fc0821f0afef",
   "metadata": {},
   "source": [
    "- Tail Recursion -> after the fucntion call , there shouldn't be any code\n",
    "- Head Recursion\n",
    "- Tree Recursion\n",
    "- Indirect Recursion"
   ]
  },
  {
   "cell_type": "markdown",
   "id": "606df407-58f0-430b-bf7e-86d9e5c16591",
   "metadata": {},
   "source": [
    "# 1. Tail Recursion"
   ]
  },
  {
   "attachments": {},
   "cell_type": "markdown",
   "id": "d4b0e667-c501-4eb9-8c72-c922ffd0396c",
   "metadata": {},
   "source": [
    "<img src=\"../images/Screenshot 2025-01-17 at 3.19.26 PM.png\"/>"
   ]
  },
  {
   "cell_type": "markdown",
   "id": "2505bfa4-97b2-4134-b71f-0507c7120bd4",
   "metadata": {},
   "source": [
    "# 2. Head Recursion"
   ]
  },
  {
   "attachments": {},
   "cell_type": "markdown",
   "id": "66678a28-1eeb-484f-9abd-426b00a77c3f",
   "metadata": {},
   "source": [
    "<img src=\"../images/Screenshot 2025-01-17 at 3.19.01 PM.png\"/>"
   ]
  },
  {
   "cell_type": "markdown",
   "id": "330935d7-4a2f-4500-8c4b-bbac916cb724",
   "metadata": {},
   "source": [
    "# 3. Tree Recursion "
   ]
  },
  {
   "cell_type": "code",
   "execution_count": 5,
   "id": "5fb1d063-471f-4cc6-855c-9eb97ab8711e",
   "metadata": {},
   "outputs": [
    {
     "name": "stdout",
     "output_type": "stream",
     "text": [
      "1\n",
      "4\n",
      "1\n",
      "9\n",
      "1\n",
      "4\n",
      "1\n"
     ]
    }
   ],
   "source": [
    "def calculate(n):\n",
    "    if n>0:\n",
    "        calculate(n-1)\n",
    "        print(n**2, sep=\",\")\n",
    "        calculate(n-1)\n",
    "\n",
    "calculate(3)"
   ]
  },
  {
   "cell_type": "markdown",
   "id": "34f65121-08a0-42f1-9df6-cf87c64ad0c2",
   "metadata": {},
   "source": [
    "#### 3.2 Tree Recursion time complexity"
   ]
  },
  {
   "attachments": {},
   "cell_type": "markdown",
   "id": "ea766700-ba51-44cb-bf26-e8e2ebd73bc9",
   "metadata": {},
   "source": [
    "<img src=\"../images/Screenshot 2025-01-17 at 3.29.33 PM.png\"/>"
   ]
  },
  {
   "cell_type": "markdown",
   "id": "fedb6ff4-9632-4ece-8868-0d6a59fb015d",
   "metadata": {},
   "source": [
    "# 4. Indirect Recursion"
   ]
  },
  {
   "attachments": {},
   "cell_type": "markdown",
   "id": "3df77e0b-fef8-4aed-8b47-4b5b45bbe12a",
   "metadata": {},
   "source": [
    "<img src=\"../images/Screenshot 2025-01-17 at 3.31.48 PM.png\"/>"
   ]
  },
  {
   "cell_type": "code",
   "execution_count": null,
   "id": "db764f20-9e5e-47cc-a7a2-fe7f68d43aaf",
   "metadata": {},
   "outputs": [],
   "source": []
  }
 ],
 "metadata": {
  "kernelspec": {
   "display_name": "Python 3 (ipykernel)",
   "language": "python",
   "name": "python3"
  },
  "language_info": {
   "codemirror_mode": {
    "name": "ipython",
    "version": 3
   },
   "file_extension": ".py",
   "mimetype": "text/x-python",
   "name": "python",
   "nbconvert_exporter": "python",
   "pygments_lexer": "ipython3",
   "version": "3.13.1"
  }
 },
 "nbformat": 4,
 "nbformat_minor": 5
}
