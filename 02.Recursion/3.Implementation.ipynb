{
 "cells": [
  {
   "cell_type": "markdown",
   "id": "e6b62f3c-d355-4175-a90c-cae7e2c47e52",
   "metadata": {},
   "source": [
    "# 1. Sum of numbers"
   ]
  },
  {
   "attachments": {},
   "cell_type": "markdown",
   "id": "1abb4567-4a5c-4ac4-9187-e8163d5c4494",
   "metadata": {},
   "source": [
    "<img src=\"../images/Screenshot 2025-01-17 at 3.39.21 PM.png\"/>"
   ]
  },
  {
   "cell_type": "code",
   "execution_count": 9,
   "id": "d3c80359-5bdb-4c8a-8731-d1d93f67de31",
   "metadata": {},
   "outputs": [],
   "source": [
    "def sum_rec(n):\n",
    "    if n==1:\n",
    "        return 1\n",
    "    return sum_rec(n-1)+n"
   ]
  },
  {
   "cell_type": "code",
   "execution_count": 10,
   "id": "d780a028-acd6-45ca-914f-12f5c5d56ea0",
   "metadata": {},
   "outputs": [
    {
     "name": "stdout",
     "output_type": "stream",
     "text": [
      "15\n"
     ]
    }
   ],
   "source": [
    "print(sum_rec(5))"
   ]
  },
  {
   "cell_type": "markdown",
   "id": "2aac0e3e-d4f9-4dfb-9d02-d3a69525d698",
   "metadata": {},
   "source": [
    "# 2. Factorial"
   ]
  },
  {
   "attachments": {},
   "cell_type": "markdown",
   "id": "15ff4f1f-636d-4162-999f-77bccfa3d7b1",
   "metadata": {},
   "source": [
    "<img src=\"../images/Screenshot 2025-01-17 at 3.41.29 PM.png\"/>"
   ]
  },
  {
   "cell_type": "code",
   "execution_count": 11,
   "id": "49e99bba-0a9b-4ed9-a52f-663f54c51005",
   "metadata": {},
   "outputs": [],
   "source": [
    "def fact_rec(n):\n",
    "    if n==0:\n",
    "        return 1\n",
    "    return fact_rec(n-1)*n"
   ]
  },
  {
   "cell_type": "code",
   "execution_count": 12,
   "id": "556f157d-d75e-4b2a-8b53-d8714b3026c2",
   "metadata": {},
   "outputs": [
    {
     "data": {
      "text/plain": [
       "24"
      ]
     },
     "execution_count": 12,
     "metadata": {},
     "output_type": "execute_result"
    }
   ],
   "source": [
    "fact_rec(4)"
   ]
  },
  {
   "cell_type": "code",
   "execution_count": null,
   "id": "5704bf81-26e2-4601-9597-329ec159fe07",
   "metadata": {},
   "outputs": [],
   "source": []
  }
 ],
 "metadata": {
  "kernelspec": {
   "display_name": "Python 3 (ipykernel)",
   "language": "python",
   "name": "python3"
  },
  "language_info": {
   "codemirror_mode": {
    "name": "ipython",
    "version": 3
   },
   "file_extension": ".py",
   "mimetype": "text/x-python",
   "name": "python",
   "nbconvert_exporter": "python",
   "pygments_lexer": "ipython3",
   "version": "3.13.1"
  }
 },
 "nbformat": 4,
 "nbformat_minor": 5
}
