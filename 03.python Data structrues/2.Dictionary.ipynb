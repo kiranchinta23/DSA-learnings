{
 "cells": [
  {
   "cell_type": "code",
   "execution_count": 16,
   "id": "ce46b112-f599-4ea5-b864-37e4559f89c2",
   "metadata": {},
   "outputs": [],
   "source": [
    "D = {'name':\"kiran\",\"age\":30,\"sal\":\"180\"}"
   ]
  },
  {
   "cell_type": "markdown",
   "id": "59be8913-3ab8-4ea3-86b8-5ef4eaaed4e8",
   "metadata": {},
   "source": [
    "# insert"
   ]
  },
  {
   "cell_type": "code",
   "execution_count": 17,
   "id": "7dd48766-ed5b-449d-9f29-f618294cef8c",
   "metadata": {},
   "outputs": [],
   "source": [
    "D['company'] = 'apple'"
   ]
  },
  {
   "cell_type": "code",
   "execution_count": 18,
   "id": "a169c2af-6e02-4d84-a78e-79b03038c917",
   "metadata": {},
   "outputs": [
    {
     "data": {
      "text/plain": [
       "{'name': 'kiran', 'age': 30, 'sal': '180', 'company': 'apple'}"
      ]
     },
     "execution_count": 18,
     "metadata": {},
     "output_type": "execute_result"
    }
   ],
   "source": [
    "D"
   ]
  },
  {
   "cell_type": "markdown",
   "id": "49d746d3-699b-44a8-8c5f-41445f112a3f",
   "metadata": {},
   "source": [
    "# Search"
   ]
  },
  {
   "cell_type": "code",
   "execution_count": 4,
   "id": "bee8ab7f-d85b-4046-ad8e-786a14c8ae89",
   "metadata": {},
   "outputs": [
    {
     "data": {
      "text/plain": [
       "30"
      ]
     },
     "execution_count": 4,
     "metadata": {},
     "output_type": "execute_result"
    }
   ],
   "source": [
    "D.get('age')"
   ]
  },
  {
   "cell_type": "code",
   "execution_count": 12,
   "id": "6efc09ba-0c88-4509-8f0d-4c579180f854",
   "metadata": {},
   "outputs": [
    {
     "name": "stdout",
     "output_type": "stream",
     "text": [
      "None\n"
     ]
    }
   ],
   "source": [
    "print(D.get('term'))"
   ]
  },
  {
   "cell_type": "code",
   "execution_count": 11,
   "id": "ae7f8ef5-d66c-4a1a-bd18-33dad41b2322",
   "metadata": {},
   "outputs": [
    {
     "name": "stdout",
     "output_type": "stream",
     "text": [
      "30\n"
     ]
    }
   ],
   "source": [
    "ele = 'age'\n",
    "if ele in D:\n",
    "    print(D.get('age'))\n",
    "else:\n",
    "    print('False')"
   ]
  },
  {
   "cell_type": "code",
   "execution_count": 13,
   "id": "87843083-9a03-4ace-a5c7-a02b5b8092d3",
   "metadata": {},
   "outputs": [
    {
     "name": "stdout",
     "output_type": "stream",
     "text": [
      "False\n"
     ]
    }
   ],
   "source": [
    "ele = 'term'\n",
    "if ele in D:\n",
    "    print(D.get('age'))\n",
    "else:\n",
    "    print('False')"
   ]
  },
  {
   "cell_type": "markdown",
   "id": "6c4f05b4-b89a-4111-8338-491ba0a06b86",
   "metadata": {},
   "source": [
    "# Delete"
   ]
  },
  {
   "cell_type": "code",
   "execution_count": 8,
   "id": "7b167366-0e09-4f48-a547-b930a57bf01c",
   "metadata": {},
   "outputs": [
    {
     "data": {
      "text/plain": [
       "('company', 'apple')"
      ]
     },
     "execution_count": 8,
     "metadata": {},
     "output_type": "execute_result"
    }
   ],
   "source": [
    "# removes last inserted key-value pair\n",
    "D.popitem()"
   ]
  },
  {
   "cell_type": "code",
   "execution_count": 9,
   "id": "15c916b0-6320-4cbe-a6ce-877eb88b971e",
   "metadata": {},
   "outputs": [
    {
     "data": {
      "text/plain": [
       "'kiran'"
      ]
     },
     "execution_count": 9,
     "metadata": {},
     "output_type": "execute_result"
    }
   ],
   "source": [
    "# pop any key-value pair\n",
    "D.pop(\"name\")"
   ]
  },
  {
   "cell_type": "markdown",
   "id": "ee694667-a2af-4759-a031-44251eced90d",
   "metadata": {},
   "source": [
    "# Display"
   ]
  },
  {
   "cell_type": "code",
   "execution_count": 20,
   "id": "bc4ef8ca-bcba-4dda-b550-705061f8e9eb",
   "metadata": {},
   "outputs": [
    {
     "name": "stdout",
     "output_type": "stream",
     "text": [
      "name\n",
      "age\n",
      "sal\n",
      "company\n"
     ]
    }
   ],
   "source": [
    "for key in D: # for key in D.keys()\n",
    "    print(key)"
   ]
  },
  {
   "cell_type": "code",
   "execution_count": 21,
   "id": "9f398e27-9162-4906-882d-dcac28b500c1",
   "metadata": {},
   "outputs": [
    {
     "name": "stdout",
     "output_type": "stream",
     "text": [
      "kiran\n",
      "30\n",
      "180\n",
      "apple\n"
     ]
    }
   ],
   "source": [
    "for value in D.values():\n",
    "    print(value)"
   ]
  },
  {
   "cell_type": "code",
   "execution_count": null,
   "id": "b8363db4-809c-4c78-890f-b1f996821748",
   "metadata": {},
   "outputs": [],
   "source": [
    "for key,value in D.items():\n",
    "    print(key,valu)"
   ]
  }
 ],
 "metadata": {
  "kernelspec": {
   "display_name": "Python 3 (ipykernel)",
   "language": "python",
   "name": "python3"
  },
  "language_info": {
   "codemirror_mode": {
    "name": "ipython",
    "version": 3
   },
   "file_extension": ".py",
   "mimetype": "text/x-python",
   "name": "python",
   "nbconvert_exporter": "python",
   "pygments_lexer": "ipython3",
   "version": "3.13.1"
  }
 },
 "nbformat": 4,
 "nbformat_minor": 5
}
