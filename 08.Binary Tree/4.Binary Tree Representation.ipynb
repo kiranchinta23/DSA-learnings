{
 "cells": [
  {
   "cell_type": "markdown",
   "id": "6000f10a-5ec8-43e5-9375-e1711eba09f6",
   "metadata": {},
   "source": [
    "# 1.Binary Tree Representation using array"
   ]
  },
  {
   "attachments": {},
   "cell_type": "markdown",
   "id": "9572c976-ae1d-49b4-ad22-2980b0680985",
   "metadata": {},
   "source": [
    "<img src=\"../images/Screenshot 2025-02-21 at 2.55.16 PM.png\"/>"
   ]
  },
  {
   "cell_type": "markdown",
   "id": "7194f325-9038-471e-b559-a3ee526388e1",
   "metadata": {},
   "source": [
    "# 2. Binary Tree Representation using Linked based"
   ]
  },
  {
   "attachments": {},
   "cell_type": "markdown",
   "id": "199e5aab-d814-45ac-a002-501b88a0740f",
   "metadata": {},
   "source": [
    "<img src=\"../images/Screenshot 2025-02-21 at 3.00.21 PM.png\"/>"
   ]
  },
  {
   "cell_type": "code",
   "execution_count": null,
   "id": "4d58eab6-37bd-4ec5-b63d-7a148f70b2f5",
   "metadata": {},
   "outputs": [],
   "source": []
  }
 ],
 "metadata": {
  "kernelspec": {
   "display_name": "Python 3 (ipykernel)",
   "language": "python",
   "name": "python3"
  },
  "language_info": {
   "codemirror_mode": {
    "name": "ipython",
    "version": 3
   },
   "file_extension": ".py",
   "mimetype": "text/x-python",
   "name": "python",
   "nbconvert_exporter": "python",
   "pygments_lexer": "ipython3",
   "version": "3.13.1"
  }
 },
 "nbformat": 4,
 "nbformat_minor": 5
}
