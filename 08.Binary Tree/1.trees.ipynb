{
 "cells": [
  {
   "cell_type": "markdown",
   "id": "39803632-419d-4f7a-8e0f-522592879bf6",
   "metadata": {},
   "source": [
    "# 1. Trees"
   ]
  },
  {
   "attachments": {},
   "cell_type": "markdown",
   "id": "9538ddad-f066-4fe6-8e4c-04bc4e440053",
   "metadata": {},
   "source": [
    "<img src=\"../images/Screenshot 2025-02-21 at 10.47.35 AM.png\"/>"
   ]
  },
  {
   "cell_type": "markdown",
   "id": "1131d6f0-71fc-4ca5-aeff-f9fceeba2c16",
   "metadata": {},
   "source": [
    "# 2. Tree Terminology"
   ]
  },
  {
   "cell_type": "markdown",
   "id": "fa28ec04-4fab-4e94-b380-76bce4b08ace",
   "metadata": {},
   "source": [
    "### 2.1 Node"
   ]
  },
  {
   "cell_type": "markdown",
   "id": "755a11e2-77ed-4600-a128-deb69b3ffb13",
   "metadata": {},
   "source": [
    "### 2.2 Edges : connection between Nodes\n",
    "<img src=\"../images/Screenshot 2025-02-21 at 12.47.33 PM.png\"/>"
   ]
  },
  {
   "cell_type": "markdown",
   "id": "c3ec6aee-08a0-4a53-bffc-00028a6b42f1",
   "metadata": {},
   "source": [
    "### 2.3 Relation b/w nodes and edges\n",
    "- n nodes, n-1 edges"
   ]
  },
  {
   "cell_type": "markdown",
   "id": "06167139-6c7b-4998-81cd-4c7552c2bbf4",
   "metadata": {},
   "source": [
    "### 2.4 root \n",
    "- no parent node (company)\n",
    "<img src=\"../images/Screenshot 2025-02-21 at 12.43.35 PM.png\"/>"
   ]
  },
  {
   "cell_type": "markdown",
   "id": "cce847e0-4e1c-49ef-bdd9-01d308933764",
   "metadata": {},
   "source": [
    "### 2.5 siblings \n",
    "- childern of same parent node (marketing, sales, purchase,manufacturing), (domestic,international), (phones,tv),(india,america,uk), (north america, south america)\n",
    "<img src=\"../images/Screenshot 2025-02-21 at 12.44.46 PM.png\"/>"
   ]
  },
  {
   "cell_type": "markdown",
   "id": "554c5c46-7381-4c54-8a73-6dbb518bba98",
   "metadata": {},
   "source": [
    "### 2.6 external / leaf node: \n",
    "- node which has no children nodes\n",
    "<img src=\"../images/Screenshot 2025-02-21 at 12.45.42 PM.png\"/>"
   ]
  },
  {
   "cell_type": "markdown",
   "id": "0778d643-9498-46df-b71d-7ab140704515",
   "metadata": {},
   "source": [
    "### 2.7 internal / non-leaf node : \n",
    "- node which have children nodes\n",
    "<img src=\"../images/Screenshot 2025-02-21 at 12.46.55 PM.png\"/>"
   ]
  },
  {
   "cell_type": "markdown",
   "id": "c5bf69e8-4b7d-4891-b3a4-9830b949524c",
   "metadata": {},
   "source": [
    "### 2.8 path : \n",
    "- sequences of node (company -> sales -> international -> america -> south america)\n",
    "<img src=\"../images/Screenshot 2025-02-21 at 12.48.21 PM.png\"/>"
   ]
  },
  {
   "cell_type": "markdown",
   "id": "e8590a33-4cca-46b8-adae-437cb554cea9",
   "metadata": {},
   "source": [
    "### 2.9 Height & Levels\n",
    "- height : number of edges from the selected node to the root\n",
    "- level : number of nodes from the selected node to the root\n",
    "<img src=\"../images/Screenshot 2025-02-21 at 12.49.59 PM.png\"/>"
   ]
  },
  {
   "attachments": {},
   "cell_type": "markdown",
   "id": "af251515-42c3-4e95-a559-1412e685aab0",
   "metadata": {},
   "source": [
    "### 2.10 Degree of nodes: \n",
    "- number of childern a node have\n",
    "<img src=\"../images/Screenshot 2025-02-21 at 12.59.00 PM.png\"/>"
   ]
  },
  {
   "cell_type": "markdown",
   "id": "fe711353-b448-4e53-b330-b29c730f8b3b",
   "metadata": {},
   "source": [
    "### 2.11 Degree of Tree : max(number of childern of each node)\n",
    "<img src=\"../images/Screenshot 2025-02-21 at 12.52.42 PM.png\"/>"
   ]
  },
  {
   "attachments": {},
   "cell_type": "markdown",
   "id": "34808185-8c88-4713-833f-a875c07a3bc2",
   "metadata": {},
   "source": [
    "- like linkedlist, tree can be empty"
   ]
  },
  {
   "cell_type": "code",
   "execution_count": null,
   "id": "df420ee5-7465-4659-8472-a14579b4b655",
   "metadata": {},
   "outputs": [],
   "source": []
  },
  {
   "cell_type": "code",
   "execution_count": null,
   "id": "d9b949d8-c7c0-4d72-8faf-ea870d61a7ab",
   "metadata": {},
   "outputs": [],
   "source": []
  }
 ],
 "metadata": {
  "kernelspec": {
   "display_name": "Python 3 (ipykernel)",
   "language": "python",
   "name": "python3"
  },
  "language_info": {
   "codemirror_mode": {
    "name": "ipython",
    "version": 3
   },
   "file_extension": ".py",
   "mimetype": "text/x-python",
   "name": "python",
   "nbconvert_exporter": "python",
   "pygments_lexer": "ipython3",
   "version": "3.13.1"
  }
 },
 "nbformat": 4,
 "nbformat_minor": 5
}
