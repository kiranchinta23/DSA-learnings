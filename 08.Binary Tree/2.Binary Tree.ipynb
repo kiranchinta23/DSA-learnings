{
 "cells": [
  {
   "attachments": {},
   "cell_type": "markdown",
   "id": "c755595a-3ae5-499a-91e4-9da343402dfb",
   "metadata": {},
   "source": [
    "# 1. Binary Tree:\n",
    "-  a tree is called binary tree only if all the nodes of the tree should have either 0/1/2 children\n",
    "-  examples\n",
    "<img src=\"../images/Screenshot 2025-02-21 at 1.09.10 PM.png\"/>"
   ]
  },
  {
   "cell_type": "markdown",
   "id": "19dc21e1-62ea-44cf-9f3d-9720f6cc884f",
   "metadata": {},
   "source": [
    "# 2. Max nodes in binary tree"
   ]
  },
  {
   "cell_type": "code",
   "execution_count": null,
   "id": "da306850-37ae-4208-aad9-3ffe8f07497f",
   "metadata": {},
   "outputs": [],
   "source": []
  }
 ],
 "metadata": {
  "kernelspec": {
   "display_name": "Python 3 (ipykernel)",
   "language": "python",
   "name": "python3"
  },
  "language_info": {
   "codemirror_mode": {
    "name": "ipython",
    "version": 3
   },
   "file_extension": ".py",
   "mimetype": "text/x-python",
   "name": "python",
   "nbconvert_exporter": "python",
   "pygments_lexer": "ipython3",
   "version": "3.13.1"
  }
 },
 "nbformat": 4,
 "nbformat_minor": 5
}
