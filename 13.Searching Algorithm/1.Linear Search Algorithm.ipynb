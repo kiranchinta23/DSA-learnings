{
 "cells": [
  {
   "cell_type": "markdown",
   "id": "c0fe8714-5fc6-4b0c-9a16-fd4b690ae480",
   "metadata": {},
   "source": [
    "# 1. Linear Search Algorithm Explanation"
   ]
  },
  {
   "cell_type": "markdown",
   "id": "5cc677c9-19bd-43dd-b856-ba8f505422e5",
   "metadata": {},
   "source": [
    "In Linear Search, we iterate over all the elements of the array and check if it the current element is equal to the target element. If we find any element to be equal to the target element, then return the index of the current element. Otherwise, if no element is equal to the target element, then return -1 as the element is not found. Linear search is also known as sequential search."
   ]
  },
  {
   "cell_type": "markdown",
   "id": "254b0a20-6536-4d60-86b3-521a81627fc9",
   "metadata": {},
   "source": [
    "# 1.1 explanation for avg case"
   ]
  },
  {
   "attachments": {},
   "cell_type": "markdown",
   "id": "2169eb84-617e-4195-9a8b-23eda9f25f95",
   "metadata": {},
   "source": [
    "<img src=\"../images/Screenshot 2025-01-18 at 9.06.04 PM.png\"/>"
   ]
  },
  {
   "cell_type": "markdown",
   "id": "381bdc7d-17f8-4b70-a8bf-14953d734659",
   "metadata": {},
   "source": [
    "## 1.2 Explanation for worst case"
   ]
  },
  {
   "attachments": {},
   "cell_type": "markdown",
   "id": "6b3a6f6c-2d82-4505-b212-26f1fdb91059",
   "metadata": {},
   "source": [
    "<img src=\"../images/Screenshot 2025-01-18 at 9.07.24 PM.png\"/>"
   ]
  },
  {
   "cell_type": "markdown",
   "id": "50343373-dd98-4909-83ca-6b4e3a5b63b7",
   "metadata": {},
   "source": [
    "# 2.Linear Search Algorithm Analysis"
   ]
  },
  {
   "attachments": {},
   "cell_type": "markdown",
   "id": "3fdfce9d-6d5f-44da-aeb6-3772014e2749",
   "metadata": {},
   "source": [
    "<img src=\"../images/Screenshot 2025-01-18 at 9.11.02 PM.png\"/>"
   ]
  },
  {
   "cell_type": "markdown",
   "id": "8b91fb67-138c-4110-a861-594f46ebd1c1",
   "metadata": {},
   "source": [
    "# 3. Linear Search Algorithm Implementation  "
   ]
  },
  {
   "cell_type": "code",
   "execution_count": 7,
   "id": "1893dfe7-f72a-43e8-a763-b94528c18c53",
   "metadata": {},
   "outputs": [],
   "source": [
    "def linear_search_algo(A,key):\n",
    "    index = 0\n",
    "    while index < len(A):\n",
    "        if key == A[index]:\n",
    "            return index\n",
    "        index= index+1\n",
    "    return -1"
   ]
  },
  {
   "cell_type": "code",
   "execution_count": 8,
   "id": "fc900911-3389-4b06-a5f6-23bca7468901",
   "metadata": {},
   "outputs": [],
   "source": [
    "A = [84,21,47,96,15]"
   ]
  },
  {
   "cell_type": "code",
   "execution_count": 9,
   "id": "363847af-9a08-4921-8511-fc283d4edb21",
   "metadata": {},
   "outputs": [
    {
     "data": {
      "text/plain": [
       "1"
      ]
     },
     "execution_count": 9,
     "metadata": {},
     "output_type": "execute_result"
    }
   ],
   "source": [
    "linear_search_algo(A,21)"
   ]
  },
  {
   "cell_type": "code",
   "execution_count": 10,
   "id": "060f5ea2-a408-4a74-8be1-00a74aed9be7",
   "metadata": {},
   "outputs": [
    {
     "data": {
      "text/plain": [
       "-1"
      ]
     },
     "execution_count": 10,
     "metadata": {},
     "output_type": "execute_result"
    }
   ],
   "source": [
    "linear_search_algo(A,100)"
   ]
  },
  {
   "cell_type": "code",
   "execution_count": null,
   "id": "6dea1552-81b6-4129-91f6-0eda3edb9710",
   "metadata": {},
   "outputs": [],
   "source": []
  }
 ],
 "metadata": {
  "kernelspec": {
   "display_name": "Python 3 (ipykernel)",
   "language": "python",
   "name": "python3"
  },
  "language_info": {
   "codemirror_mode": {
    "name": "ipython",
    "version": 3
   },
   "file_extension": ".py",
   "mimetype": "text/x-python",
   "name": "python",
   "nbconvert_exporter": "python",
   "pygments_lexer": "ipython3",
   "version": "3.13.1"
  }
 },
 "nbformat": 4,
 "nbformat_minor": 5
}
