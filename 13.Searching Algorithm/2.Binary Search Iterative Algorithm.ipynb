{
 "cells": [
  {
   "cell_type": "markdown",
   "id": "80d4345a-3fc1-42a9-b1d2-2e67be894947",
   "metadata": {},
   "source": [
    "# 2. Binary Search Algorithm"
   ]
  },
  {
   "cell_type": "markdown",
   "id": "0ff2472c-06e9-4910-9e46-7d66528bb507",
   "metadata": {},
   "source": [
    "Binary search is a search algorithm used to find the position of a target value within a sorted array. It works by repeatedly dividing the search interval in half until the target value is found or the interval is empty. The search interval is halved by comparing the target element with the middle value of the search space."
   ]
  },
  {
   "cell_type": "markdown",
   "id": "17b3a629-1660-4988-b1a0-a7e6b10d4cd2",
   "metadata": {},
   "source": [
    "#### Steps for Binary Search Algorithm"
   ]
  },
  {
   "attachments": {},
   "cell_type": "markdown",
   "id": "9c2ff389-59ab-4c1c-b446-e59c3aafe044",
   "metadata": {},
   "source": [
    "<img src=\"../images/Screenshot 2025-01-18 at 9.20.39 PM.png\"/>"
   ]
  },
  {
   "cell_type": "markdown",
   "id": "bea57706-1de6-4d8e-9b78-d5f6550e75f1",
   "metadata": {},
   "source": [
    "# 2.1 Binary Search Algorithm Explanation"
   ]
  },
  {
   "cell_type": "markdown",
   "id": "3d0560be-c759-4eb7-a092-f8f77fcfb668",
   "metadata": {},
   "source": [
    "#### a. Binary Search Avg case "
   ]
  },
  {
   "attachments": {},
   "cell_type": "markdown",
   "id": "16f7600f-79c3-441a-8da9-db9092db94b1",
   "metadata": {},
   "source": [
    "<img src=\"../images/Screenshot 2025-01-18 at 9.41.43 PM.png\"/>"
   ]
  },
  {
   "cell_type": "markdown",
   "id": "99fda6ed-b2a7-4852-b3a7-fa5b9384420d",
   "metadata": {},
   "source": [
    "#### b. Binary Search Worst Case Scenario"
   ]
  },
  {
   "attachments": {},
   "cell_type": "markdown",
   "id": "9a6e72d0-acb3-4047-bea1-263d5c87bfb2",
   "metadata": {},
   "source": [
    "<img src=\"../images/Screenshot 2025-01-18 at 9.47.53 PM.png\"/>"
   ]
  },
  {
   "cell_type": "markdown",
   "id": "ea041545-9125-49ef-b343-96df409c8c26",
   "metadata": {},
   "source": [
    "## 2.2 Binary Search Algorithm analysis"
   ]
  },
  {
   "attachments": {},
   "cell_type": "markdown",
   "id": "722f0240-3132-4c7e-ae24-524ccd2b7636",
   "metadata": {},
   "source": [
    "<img src=\"../images/Screenshot 2025-01-18 at 9.51.53 PM.png\"/>"
   ]
  },
  {
   "cell_type": "markdown",
   "id": "3415ce24-298e-4cfa-a403-6a49b467a097",
   "metadata": {},
   "source": [
    "## 2.3 Binary Search Algorithm Implementation"
   ]
  },
  {
   "cell_type": "code",
   "execution_count": 8,
   "id": "e3839cd7-7c30-47f0-87de-bcbd43d4ecbe",
   "metadata": {},
   "outputs": [],
   "source": [
    "def binary_search_algo(A,key):\n",
    "    l=0\n",
    "    r= len(A)-1\n",
    "    while l<=r:\n",
    "        m = (l+r)//2\n",
    "        if key == A[m]:\n",
    "            return m\n",
    "        elif key<A[m]:\n",
    "            r= m-1\n",
    "        elif key>A[m]:\n",
    "            l = m+1\n",
    "    return -1"
   ]
  },
  {
   "cell_type": "code",
   "execution_count": 9,
   "id": "102b28fa-9485-4302-9707-d044db7bcdf3",
   "metadata": {},
   "outputs": [],
   "source": [
    "A = [4,11,18,30,54]"
   ]
  },
  {
   "cell_type": "code",
   "execution_count": 10,
   "id": "19569a6e-1924-4a1b-a82f-02569c5e2a46",
   "metadata": {},
   "outputs": [
    {
     "data": {
      "text/plain": [
       "3"
      ]
     },
     "execution_count": 10,
     "metadata": {},
     "output_type": "execute_result"
    }
   ],
   "source": [
    "binary_search_algo(A,30)"
   ]
  },
  {
   "cell_type": "code",
   "execution_count": 11,
   "id": "d86ddb4d-ba5f-4099-9b6b-5ca926c8b415",
   "metadata": {},
   "outputs": [
    {
     "data": {
      "text/plain": [
       "-1"
      ]
     },
     "execution_count": 11,
     "metadata": {},
     "output_type": "execute_result"
    }
   ],
   "source": [
    "binary_search_algo(A,2)"
   ]
  },
  {
   "cell_type": "code",
   "execution_count": null,
   "id": "96d89a8f-2c72-4a95-88df-dd1019d26640",
   "metadata": {},
   "outputs": [],
   "source": []
  }
 ],
 "metadata": {
  "kernelspec": {
   "display_name": "Python 3 (ipykernel)",
   "language": "python",
   "name": "python3"
  },
  "language_info": {
   "codemirror_mode": {
    "name": "ipython",
    "version": 3
   },
   "file_extension": ".py",
   "mimetype": "text/x-python",
   "name": "python",
   "nbconvert_exporter": "python",
   "pygments_lexer": "ipython3",
   "version": "3.13.1"
  }
 },
 "nbformat": 4,
 "nbformat_minor": 5
}
