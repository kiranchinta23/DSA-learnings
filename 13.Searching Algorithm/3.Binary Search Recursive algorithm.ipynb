{
 "cells": [
  {
   "cell_type": "markdown",
   "id": "f69b5ad1-b928-4804-917e-60bdee3f7eb8",
   "metadata": {},
   "source": [
    "# 1. Binary Search Algorithm Explanation"
   ]
  },
  {
   "cell_type": "markdown",
   "id": "ad8fd585-4a6a-49cb-ad3b-a3539bfabb40",
   "metadata": {},
   "source": [
    "## 1.1 avg case scenario"
   ]
  },
  {
   "attachments": {},
   "cell_type": "markdown",
   "id": "8efe88d2-2a56-4f01-825d-46be760920fc",
   "metadata": {},
   "source": [
    "<img src=\"../images/Screenshot 2025-01-18 at 10.07.52 PM.png\"/>"
   ]
  },
  {
   "cell_type": "markdown",
   "id": "ebcd8b9d-1b27-4a53-9f1e-2c5d5462a358",
   "metadata": {},
   "source": [
    "# 2 Binary Search Algorithm Analysis"
   ]
  },
  {
   "attachments": {},
   "cell_type": "markdown",
   "id": "232e7316-2580-4653-80d1-0f0f12f7e18e",
   "metadata": {},
   "source": [
    "<img src=\"../images/Screenshot 2025-01-18 at 10.08.40 PM.png\"/>"
   ]
  },
  {
   "cell_type": "markdown",
   "id": "2276d559-8357-4d31-b808-797ed55f01c9",
   "metadata": {},
   "source": [
    "# 3. Implementation "
   ]
  },
  {
   "cell_type": "code",
   "execution_count": 15,
   "id": "9c0978f5-3162-453f-b930-f7e1c4699601",
   "metadata": {},
   "outputs": [],
   "source": [
    "def binary_search_algo(A,key,l,r):\n",
    "    if l <= r:\n",
    "        m = (l+r)//2\n",
    "        if key == A[m]:\n",
    "            return m\n",
    "        elif key < A[m]:\n",
    "            return binary_search_algo(A,key,l,m-1)\n",
    "        elif key > A[m]:\n",
    "            return binary_search_algo(A,key,m+1,r)\n",
    "    else:\n",
    "        return -1"
   ]
  },
  {
   "cell_type": "code",
   "execution_count": 16,
   "id": "21278bb2-432b-4402-be51-66bdcfbc5865",
   "metadata": {},
   "outputs": [],
   "source": [
    "A = [4,11,18,30,54]"
   ]
  },
  {
   "cell_type": "code",
   "execution_count": 19,
   "id": "f578a7a7-ac20-4bec-8ca7-a0d1f8143c6c",
   "metadata": {},
   "outputs": [
    {
     "data": {
      "text/plain": [
       "1"
      ]
     },
     "execution_count": 19,
     "metadata": {},
     "output_type": "execute_result"
    }
   ],
   "source": [
    "binary_search_algo(A,11,0,len(A)-1)"
   ]
  },
  {
   "cell_type": "code",
   "execution_count": 20,
   "id": "e50187fd-1d1f-4adb-a7b0-4d297f3e0bd1",
   "metadata": {},
   "outputs": [
    {
     "data": {
      "text/plain": [
       "-1"
      ]
     },
     "execution_count": 20,
     "metadata": {},
     "output_type": "execute_result"
    }
   ],
   "source": [
    "binary_search_algo(A,111,0,len(A)-1)"
   ]
  },
  {
   "cell_type": "code",
   "execution_count": null,
   "id": "5dea5c7c-5dc0-46a9-bf5c-4ea425ec00b6",
   "metadata": {},
   "outputs": [],
   "source": []
  }
 ],
 "metadata": {
  "kernelspec": {
   "display_name": "Python 3 (ipykernel)",
   "language": "python",
   "name": "python3"
  },
  "language_info": {
   "codemirror_mode": {
    "name": "ipython",
    "version": 3
   },
   "file_extension": ".py",
   "mimetype": "text/x-python",
   "name": "python",
   "nbconvert_exporter": "python",
   "pygments_lexer": "ipython3",
   "version": "3.13.1"
  }
 },
 "nbformat": 4,
 "nbformat_minor": 5
}
