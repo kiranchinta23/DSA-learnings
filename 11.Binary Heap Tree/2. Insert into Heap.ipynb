{
 "cells": [
  {
   "cell_type": "markdown",
   "id": "685a2b6f-a8d0-4d51-b45c-38c1d6f774a8",
   "metadata": {},
   "source": [
    "# Insert into heap"
   ]
  },
  {
   "attachments": {},
   "cell_type": "markdown",
   "id": "9b59f669-5e0a-40f1-acfd-2c772fa74e5b",
   "metadata": {},
   "source": [
    "<img src=\"../images/Screenshot 2025-03-10 at 8.34.35 PM.png\"/>"
   ]
  },
  {
   "cell_type": "code",
   "execution_count": 180,
   "id": "8d80dced-54d8-4a63-84d0-1c54d6ad3c60",
   "metadata": {},
   "outputs": [],
   "source": [
    "class BinaryHeapTree:\n",
    "    def __init__(self,arr):\n",
    "        self.arr = arr\n",
    "\n",
    "    def insert(self,e):\n",
    "        self.arr.append(e)\n",
    "        i = len(self.arr)-1\n",
    "        while (i>0 and e>self.arr[i//2]):\n",
    "            self.arr[i]=self.arr[i//2]\n",
    "            i = i//2\n",
    "        self.arr[i] = e"
   ]
  },
  {
   "cell_type": "code",
   "execution_count": null,
   "id": "ebe66b0d-0ba6-41db-98fe-57f9f37d0b41",
   "metadata": {},
   "outputs": [],
   "source": []
  },
  {
   "cell_type": "code",
   "execution_count": 182,
   "id": "88907b5a-53d8-4d7b-82e4-655d52d129f5",
   "metadata": {},
   "outputs": [
    {
     "name": "stdout",
     "output_type": "stream",
     "text": [
      "[10]\n"
     ]
    }
   ],
   "source": [
    "A = []\n",
    "bh = BinaryHeapTree(A)\n",
    "bh.insert(10)\n",
    "print(bh.arr)"
   ]
  },
  {
   "cell_type": "code",
   "execution_count": 183,
   "id": "c9ff76bb-88cf-469b-9063-189874fb0df7",
   "metadata": {},
   "outputs": [
    {
     "name": "stdout",
     "output_type": "stream",
     "text": [
      "[20, 10]\n"
     ]
    }
   ],
   "source": [
    "bh.insert(20)\n",
    "print(bh.arr)"
   ]
  },
  {
   "cell_type": "code",
   "execution_count": 184,
   "id": "0c67a9fa-39a5-47a7-a59b-2124325dbaf2",
   "metadata": {},
   "outputs": [
    {
     "name": "stdout",
     "output_type": "stream",
     "text": [
      "[30, 20, 10]\n"
     ]
    }
   ],
   "source": [
    "bh.insert(30)\n",
    "print(bh.arr)"
   ]
  },
  {
   "cell_type": "code",
   "execution_count": 185,
   "id": "3c8ac20a-c3cc-4d3b-b7bf-828f0febd3ae",
   "metadata": {},
   "outputs": [
    {
     "name": "stdout",
     "output_type": "stream",
     "text": [
      "[30, 25, 10, 20]\n"
     ]
    }
   ],
   "source": [
    "bh.insert(25)\n",
    "print(bh.arr)"
   ]
  },
  {
   "cell_type": "code",
   "execution_count": 186,
   "id": "ab508f39-1ee4-455d-8953-ad48ee751d43",
   "metadata": {},
   "outputs": [
    {
     "name": "stdout",
     "output_type": "stream",
     "text": [
      "[30, 25, 15, 20, 10]\n"
     ]
    }
   ],
   "source": [
    "bh.insert(15)\n",
    "print(bh.arr)"
   ]
  },
  {
   "cell_type": "code",
   "execution_count": 187,
   "id": "c5400a18-b6c4-4965-b8f8-e0a4d168b56a",
   "metadata": {},
   "outputs": [
    {
     "name": "stdout",
     "output_type": "stream",
     "text": [
      "[30, 25, 17, 20, 10, 15]\n"
     ]
    }
   ],
   "source": [
    "bh.insert(17)\n",
    "print(bh.arr)"
   ]
  },
  {
   "cell_type": "code",
   "execution_count": 188,
   "id": "1429b1c6-be38-426c-b1af-280c83074b5c",
   "metadata": {},
   "outputs": [
    {
     "name": "stdout",
     "output_type": "stream",
     "text": [
      "[30, 25, 17, 20, 10, 15, 12]\n"
     ]
    }
   ],
   "source": [
    "bh.insert(12)\n",
    "print(bh.arr)"
   ]
  },
  {
   "cell_type": "markdown",
   "id": "e5930c18-92a2-4ae7-9a83-f96bd792301e",
   "metadata": {},
   "source": [
    "### Best-Case Scenario\n",
    "\t•Scenario: The array is already a heap (i.e., elements are inserted in an order that satisfies the heap property).\n",
    "\t•What happens? The while loop rarely runs because no elements need to be swapped.\n",
    "\t•Complexity: Since each insertion runs in O(1), the total time complexity is O(n).\n",
    "\n",
    "👉 Example of Best Case for Max Heap\n",
    "Given arr = [100, 50, 40, 30, 20, 10, 5], every new element already satisfies the heap property, so no swaps are needed.\n",
    "\n",
    "### Worst-Case Scenario\n",
    "\t•Scenario: The array is in strictly decreasing order for a max heap (or strictly increasing for a min heap).\n",
    "\t•What happens? Each new element bubbles up to the root, requiring O(log i) swaps per insertion.\n",
    "\t•Complexity: Since each insertion takes O(log i) swaps, the total time complexity is O(n log n).\n",
    "\n",
    "👉 Example of Worst Case for Max Heap\n",
    "Given arr = [5, 10, 20, 30, 40, 50, 100], every new element needs to bubble up to the top."
   ]
  },
  {
   "cell_type": "code",
   "execution_count": null,
   "id": "7dc8605f-c472-4eef-a096-c084e1ff3154",
   "metadata": {},
   "outputs": [],
   "source": []
  },
  {
   "cell_type": "code",
   "execution_count": null,
   "id": "1004e1a0-d4c1-4242-ad80-f6b00ef64c54",
   "metadata": {},
   "outputs": [],
   "source": []
  },
  {
   "cell_type": "code",
   "execution_count": null,
   "id": "23065a0f-164a-41f3-8198-21aad63e0ee0",
   "metadata": {},
   "outputs": [],
   "source": [
    "    def create_max_heap(self):\n",
    "        for i in range(1, len(self.arr)):\n",
    "            temp = self.arr[i]\n",
    "            while (i>0 and temp>self.arr[i//2]):\n",
    "                self.arr[i] = self.arr[i//2]\n",
    "                i = i//2\n",
    "            self.arr[i] = temp\n",
    "\n",
    "    def create_min_heap(self):\n",
    "        for i in range(1, len(self.arr)):\n",
    "            temp = self.arr[i]\n",
    "            while (i>0 and temp<self.arr[i//2]):\n",
    "                self.arr[i] = self.arr[i//2]\n",
    "                i = i//2\n",
    "            self.arr[i] = temp"
   ]
  }
 ],
 "metadata": {
  "kernelspec": {
   "display_name": "Python 3 (ipykernel)",
   "language": "python",
   "name": "python3"
  },
  "language_info": {
   "codemirror_mode": {
    "name": "ipython",
    "version": 3
   },
   "file_extension": ".py",
   "mimetype": "text/x-python",
   "name": "python",
   "nbconvert_exporter": "python",
   "pygments_lexer": "ipython3",
   "version": "3.13.1"
  }
 },
 "nbformat": 4,
 "nbformat_minor": 5
}
