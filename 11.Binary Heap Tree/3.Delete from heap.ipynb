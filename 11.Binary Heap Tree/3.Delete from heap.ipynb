{
 "cells": [
  {
   "cell_type": "markdown",
   "id": "deadc57a-8a35-4f4c-bc87-f933d67422e0",
   "metadata": {},
   "source": [
    "# Delete from Heap"
   ]
  },
  {
   "attachments": {},
   "cell_type": "markdown",
   "id": "478870e0-3e8c-4969-9e34-79fe99f32850",
   "metadata": {},
   "source": [
    "<img src=\"../images/WhatsApp Image 2025-03-10 at 9.02.12 PM.jpeg\"/>"
   ]
  },
  {
   "cell_type": "code",
   "execution_count": 20,
   "id": "fe1cab96-1b50-4e4b-b008-11d15fd11638",
   "metadata": {},
   "outputs": [],
   "source": [
    "class BinaryHeapTree:\n",
    "    def __init__(self,arr):\n",
    "        self.arr = arr\n",
    "\n",
    "    def insert(self,e):\n",
    "        self.arr.append(e)\n",
    "        i = len(self.arr)-1\n",
    "        while (i>0 and e>self.arr[i//2]):\n",
    "            self.arr[i]=self.arr[i//2]\n",
    "            i = i//2\n",
    "        self.arr[i] = e\n",
    "\n",
    "    def delete(self):\n",
    "        \"\"\"Deletes the max element (root) from the max heap.\"\"\"\n",
    "        if len(self.arr) == 0:\n",
    "            return None\n",
    "    \n",
    "        max_val = self.arr[0]  # Max element (root)\n",
    "        self.arr[0] = self.arr[-1]  # Move last element to root\n",
    "        self.arr.pop()  # Remove last element\n",
    "    \n",
    "        # Heapify down\n",
    "        i = 0\n",
    "        j = 2 * i + 1  # Left child index\n",
    "        while j < len(self.arr):\n",
    "            # Compare left and right children\n",
    "            if j + 1 < len(self.arr) and self.arr[j] < self.arr[j + 1]:\n",
    "                j += 1  # Choose the larger child\n",
    "    \n",
    "            # Compare parent and largest child\n",
    "            if self.arr[i] < self.arr[j]:\n",
    "                self.arr[i],self.arr[j] = self.arr[j],self.arr[i]\n",
    "                i = j\n",
    "                j = 2 * i + 1\n",
    "            else:\n",
    "                break\n",
    "    \n",
    "        return max_val"
   ]
  },
  {
   "cell_type": "code",
   "execution_count": 21,
   "id": "0d3225c3-9a20-462d-906a-131102b0e260",
   "metadata": {},
   "outputs": [
    {
     "name": "stdout",
     "output_type": "stream",
     "text": [
      "[30, 25, 17, 20, 10, 15, 12]\n"
     ]
    }
   ],
   "source": [
    "A = []\n",
    "bh = BinaryHeapTree(A)\n",
    "bh.insert(10)\n",
    "bh.insert(20)\n",
    "bh.insert(30)\n",
    "bh.insert(25)\n",
    "bh.insert(15)\n",
    "bh.insert(17)\n",
    "bh.insert(12)\n",
    "print(bh.arr)\n"
   ]
  },
  {
   "cell_type": "code",
   "execution_count": 22,
   "id": "b0ec60e5-8c83-4fcb-9c15-4762660267df",
   "metadata": {},
   "outputs": [
    {
     "name": "stdout",
     "output_type": "stream",
     "text": [
      "30\n",
      "[25, 20, 17, 12, 10, 15]\n"
     ]
    }
   ],
   "source": [
    "print(bh.delete())\n",
    "print(bh.arr)"
   ]
  },
  {
   "cell_type": "code",
   "execution_count": 23,
   "id": "dafc5699-b9e2-4973-938b-352ed4bbb25f",
   "metadata": {},
   "outputs": [
    {
     "name": "stdout",
     "output_type": "stream",
     "text": [
      "25\n",
      "[20, 15, 17, 12, 10]\n"
     ]
    }
   ],
   "source": [
    "print(bh.delete())\n",
    "print(bh.arr)"
   ]
  },
  {
   "cell_type": "code",
   "execution_count": 24,
   "id": "4f63ff2f-c4f8-4ab7-b611-2e7cbfda56ac",
   "metadata": {},
   "outputs": [
    {
     "name": "stdout",
     "output_type": "stream",
     "text": [
      "20\n",
      "[17, 15, 10, 12]\n"
     ]
    }
   ],
   "source": [
    "print(bh.delete())\n",
    "print(bh.arr)"
   ]
  },
  {
   "cell_type": "code",
   "execution_count": 25,
   "id": "7c98b5c4-3fb2-4250-844e-5e8938a34426",
   "metadata": {},
   "outputs": [
    {
     "name": "stdout",
     "output_type": "stream",
     "text": [
      "17\n",
      "[15, 12, 10]\n"
     ]
    }
   ],
   "source": [
    "print(bh.delete())\n",
    "print(bh.arr)"
   ]
  },
  {
   "cell_type": "code",
   "execution_count": 26,
   "id": "9d90a4ef-4cee-457d-859b-803ad4ccdbab",
   "metadata": {},
   "outputs": [
    {
     "name": "stdout",
     "output_type": "stream",
     "text": [
      "15\n",
      "[12, 10]\n"
     ]
    }
   ],
   "source": [
    "print(bh.delete())\n",
    "print(bh.arr)"
   ]
  },
  {
   "cell_type": "code",
   "execution_count": 27,
   "id": "f23f7df3-c68f-4c54-a203-d352cb3804e0",
   "metadata": {},
   "outputs": [
    {
     "name": "stdout",
     "output_type": "stream",
     "text": [
      "12\n",
      "[10]\n"
     ]
    }
   ],
   "source": [
    "print(bh.delete())\n",
    "print(bh.arr)"
   ]
  },
  {
   "cell_type": "code",
   "execution_count": 28,
   "id": "6fd471aa-4b1d-4acc-8557-fb119f58d562",
   "metadata": {},
   "outputs": [
    {
     "name": "stdout",
     "output_type": "stream",
     "text": [
      "10\n",
      "[]\n"
     ]
    }
   ],
   "source": [
    "print(bh.delete())\n",
    "print(bh.arr)"
   ]
  },
  {
   "cell_type": "code",
   "execution_count": 29,
   "id": "6c0991d9-b0d9-4511-ad3b-3705300e0da0",
   "metadata": {},
   "outputs": [
    {
     "name": "stdout",
     "output_type": "stream",
     "text": [
      "None\n",
      "[]\n"
     ]
    }
   ],
   "source": [
    "print(bh.delete())\n",
    "print(bh.arr)"
   ]
  },
  {
   "attachments": {},
   "cell_type": "markdown",
   "id": "3977d209-f9df-4185-8644-5dce4f7368e9",
   "metadata": {},
   "source": [
    "<img src=\"../images/Screenshot 2025-03-10 at 9.23.08 PM.png\"/>\n",
    "<img src=\"../images/Screenshot 2025-03-10 at 9.23.43 PM.png\"/>\n",
    "<img src=\"../images/Screenshot 2025-03-10 at 9.24.18 PM.png\"/>"
   ]
  },
  {
   "cell_type": "code",
   "execution_count": null,
   "id": "4b881e8a-06a6-47f3-bda2-bbcf9f9f1695",
   "metadata": {},
   "outputs": [],
   "source": []
  }
 ],
 "metadata": {
  "kernelspec": {
   "display_name": "Python 3 (ipykernel)",
   "language": "python",
   "name": "python3"
  },
  "language_info": {
   "codemirror_mode": {
    "name": "ipython",
    "version": 3
   },
   "file_extension": ".py",
   "mimetype": "text/x-python",
   "name": "python",
   "nbconvert_exporter": "python",
   "pygments_lexer": "ipython3",
   "version": "3.13.1"
  }
 },
 "nbformat": 4,
 "nbformat_minor": 5
}
