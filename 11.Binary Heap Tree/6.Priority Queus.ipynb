{
 "cells": [
  {
   "cell_type": "markdown",
   "id": "245b4439-8715-4f69-bf87-da66437e6db1",
   "metadata": {},
   "source": [
    "# Queue : \n",
    "- its first in first out\n",
    "\n",
    "# Priority Queue\n",
    "- its like airport queue, its doesn't matter who comes first,\n",
    "    - physically handicapped (high priority)\n",
    "    - first/business class  (second priority)\n",
    "    - economy (last priority)"
   ]
  },
  {
   "cell_type": "markdown",
   "id": "4918dc37-8954-4f34-adb6-184b7543e774",
   "metadata": {},
   "source": [
    "## using heaps insertion and deletion we can design priority Queue "
   ]
  },
  {
   "cell_type": "code",
   "execution_count": null,
   "id": "dec171a5-d2ef-424f-a78b-e6ff744424d3",
   "metadata": {},
   "outputs": [],
   "source": []
  }
 ],
 "metadata": {
  "kernelspec": {
   "display_name": "Python 3 (ipykernel)",
   "language": "python",
   "name": "python3"
  },
  "language_info": {
   "codemirror_mode": {
    "name": "ipython",
    "version": 3
   },
   "file_extension": ".py",
   "mimetype": "text/x-python",
   "name": "python",
   "nbconvert_exporter": "python",
   "pygments_lexer": "ipython3",
   "version": "3.13.1"
  }
 },
 "nbformat": 4,
 "nbformat_minor": 5
}
