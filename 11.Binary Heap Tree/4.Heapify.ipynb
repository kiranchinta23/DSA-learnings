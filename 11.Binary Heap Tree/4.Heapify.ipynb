{
 "cells": [
  {
   "cell_type": "markdown",
   "id": "5affe950-9a7d-441a-bff5-746a4d014881",
   "metadata": {},
   "source": [
    "# Heapify"
   ]
  },
  {
   "attachments": {},
   "cell_type": "markdown",
   "id": "cee220d5-7f19-41a9-bab7-ffd2c458eddf",
   "metadata": {},
   "source": [
    "<img src=\"../images/Screenshot 2025-03-10 at 9.29.01 PM.png\"/>"
   ]
  },
  {
   "cell_type": "code",
   "execution_count": 4,
   "id": "49efcda9-5a36-4c20-831a-1de97bca1b91",
   "metadata": {},
   "outputs": [],
   "source": [
    "class BinaryHeapTree:\n",
    "    def __init__(self,arr):\n",
    "        self.arr = arr\n",
    "\n",
    "    def insert(self,e):\n",
    "        self.arr.append(e)\n",
    "        i = len(self.arr)-1\n",
    "        while (i>0 and e>self.arr[i//2]):\n",
    "            self.arr[i]=self.arr[i//2]\n",
    "            i = i//2\n",
    "        self.arr[i] = e\n",
    "\n",
    "    def delete(self):\n",
    "        \"\"\"Deletes the max element (root) from the max heap.\"\"\"\n",
    "        if len(self.arr) == 0:\n",
    "            return None\n",
    "    \n",
    "        max_val = self.arr[0]  # Max element (root)\n",
    "        self.arr[0] = self.arr[-1]  # Move last element to root\n",
    "        self.arr.pop()  # Remove last element\n",
    "    \n",
    "        # Heapify down\n",
    "        i = 0\n",
    "        j = 2 * i + 1  # Left child index\n",
    "        while j < len(self.arr):\n",
    "            # Compare left and right children\n",
    "            if j + 1 < len(self.arr) and self.arr[j] < self.arr[j + 1]:\n",
    "                j += 1  # Choose the larger child\n",
    "    \n",
    "            # Compare parent and largest child\n",
    "            if self.arr[i] < self.arr[j]:\n",
    "                self.arr[i],self.arr[j] = self.arr[j],self.arr[i]\n",
    "                i = j\n",
    "                j = 2 * i + 1\n",
    "            else:\n",
    "                break\n",
    "    \n",
    "        return max_val\n",
    "\n",
    "\n",
    "    def heapify(self):\n",
    "        \"\"\"Converts an array into a max heap.\"\"\"\n",
    "        n = len(self.arr)\n",
    "        for i in range((n // 2) - 1, -1, -1):  # Start from last non-leaf node\n",
    "            j = 2 * i + 1  # Left child index\n",
    "            while j < n:\n",
    "                if j + 1 < n and self.arr[j] < self.arr[j + 1]:  \n",
    "                    j += 1  # Select the larger child\n",
    "    \n",
    "                if self.arr[i] < self.arr[j]:  \n",
    "                    self.arr[i], self.arr[j] = self.arr[j],self.arr[i]\n",
    "                    i = j\n",
    "                    j = 2 * i + 1\n",
    "                else:\n",
    "                    break"
   ]
  },
  {
   "cell_type": "code",
   "execution_count": 5,
   "id": "f57df5dc-d64a-4a59-9669-7246899f7b65",
   "metadata": {},
   "outputs": [
    {
     "name": "stdout",
     "output_type": "stream",
     "text": [
      "[30, 25, 17, 20, 15, 10, 12]\n"
     ]
    }
   ],
   "source": [
    "A = [10,20,30,25,15,17,12]\n",
    "bh = BinaryHeapTree(A)\n",
    "bh.heapify()\n",
    "print(bh.arr)"
   ]
  },
  {
   "cell_type": "code",
   "execution_count": 6,
   "id": "3e11fbca-f8ab-4a0b-8ccd-dc48559b2b28",
   "metadata": {},
   "outputs": [
    {
     "name": "stdout",
     "output_type": "stream",
     "text": [
      "[30, 25, 17, 20, 10, 15, 12]\n"
     ]
    }
   ],
   "source": []
  },
  {
   "cell_type": "code",
   "execution_count": null,
   "id": "72291e81-15b4-4301-897a-3b72bafbb8ba",
   "metadata": {},
   "outputs": [],
   "source": []
  }
 ],
 "metadata": {
  "kernelspec": {
   "display_name": "Python 3 (ipykernel)",
   "language": "python",
   "name": "python3"
  },
  "language_info": {
   "codemirror_mode": {
    "name": "ipython",
    "version": 3
   },
   "file_extension": ".py",
   "mimetype": "text/x-python",
   "name": "python",
   "nbconvert_exporter": "python",
   "pygments_lexer": "ipython3",
   "version": "3.13.1"
  }
 },
 "nbformat": 4,
 "nbformat_minor": 5
}
