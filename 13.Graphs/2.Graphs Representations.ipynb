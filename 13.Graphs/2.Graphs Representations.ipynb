{
 "cells": [
  {
   "cell_type": "markdown",
   "id": "a0e49d87-cfc2-4b40-b3dc-85216b612110",
   "metadata": {},
   "source": [
    "# Graphs Representations"
   ]
  },
  {
   "attachments": {},
   "cell_type": "markdown",
   "id": "1b471ed2-4389-403f-a4b3-eed4e85b15ff",
   "metadata": {},
   "source": [
    "<img src=\"../images/Screenshot 2025-03-17 at 8.41.40 PM.png\"/>"
   ]
  },
  {
   "cell_type": "code",
   "execution_count": 19,
   "id": "c0fe7aef-8950-45cb-ad78-5c4b8bb2fd34",
   "metadata": {},
   "outputs": [],
   "source": [
    "class GraphUndirectedAdjMatrix:\n",
    "    def __init__(self,vertices):\n",
    "        self.vertices = vertices\n",
    "        self.v = len(self.vertices)+1\n",
    "        self.mat = [[0] * self.v for _ in range(self.v)] \n",
    "\n",
    "    def add_edge(self,i,j,w=1):\n",
    "        if (i <= 0) or (j <= 0) or (i >= self.v) or (j >= self.v):\n",
    "            raise IndexError()\n",
    "        self.mat[i][j] = w\n",
    "        self.mat[j][i] = w\n",
    "\n",
    "    def remove_edge(self,i,j):\n",
    "        if (i <= 0) or (j <= 0) or (i >= self.v) or (j >= self.v):\n",
    "            raise IndexError()\n",
    "        self.mat[i][j] = 0\n",
    "        self.mat[j][i] = 0\n",
    "\n",
    "    def add_vertex(self,val):\n",
    "        self.vertices.append(val)\n",
    "        self.v = len(self.vertices)\n",
    "        # Add a row to the adjacency matrix\n",
    "        new_row = [0] * self.v\n",
    "        self.mat.append(new_row)\n",
    "        # Add a column to the adjacency matrix\n",
    "        for row in self.mat:\n",
    "            row.append(0)\n",
    "\n",
    "    def remove_vertex(self,val):\n",
    "        ind = self.vertices.index(val)\n",
    "\n",
    "        if ind >= self.v or ind < 0:\n",
    "            raise IndexError()\n",
    "\n",
    "        # Remove vertex at `index` from the vertex list\n",
    "        self.vertices.pop(ind)\n",
    "\n",
    "        # Remove the row at `index` from the adjacency matrix\n",
    "        self.mat.pop(ind)\n",
    "\n",
    "        # Remove the column at `index` from the adjacency matrix\n",
    "        for row in self.mat:\n",
    "            row.pop(ind)\n",
    "\n",
    "    def print_matrix(self):\n",
    "        \"\"\"Print adjacency matrix\"\"\"\n",
    "        print(\"Vertex list =\", self.vertices)\n",
    "        for row in self.mat:\n",
    "            print(row)\n",
    "        "
   ]
  },
  {
   "cell_type": "markdown",
   "id": "9efe2d25-c0f7-48c1-b311-e4008741ce57",
   "metadata": {},
   "source": [
    "# Undirected graph\n",
    "<img src=\"../images/Screenshot 2025-03-17 at 9.19.43 PM.png\"/>"
   ]
  },
  {
   "cell_type": "code",
   "execution_count": 26,
   "id": "39ac600e-6dc7-4bc8-9ff6-aa42a13916ba",
   "metadata": {},
   "outputs": [
    {
     "name": "stdout",
     "output_type": "stream",
     "text": [
      "Vertex list = [1, 2, 3, 4, 5]\n",
      "[0, 0, 0, 0, 0, 0]\n",
      "[0, 0, 1, 1, 1, 0]\n",
      "[0, 1, 0, 1, 0, 0]\n",
      "[0, 1, 1, 0, 1, 1]\n",
      "[0, 1, 0, 1, 0, 1]\n",
      "[0, 0, 0, 1, 1, 0]\n"
     ]
    }
   ],
   "source": [
    "v = [1,2,3,4,5]\n",
    "g = GraphUndirectedAdjMatrix(v)\n",
    "\n",
    "g.add_edge(1,2)\n",
    "g.add_edge(1,3)\n",
    "g.add_edge(1,4)\n",
    "g.add_edge(2,3)\n",
    "g.add_edge(3,4)\n",
    "g.add_edge(3,5)\n",
    "g.add_edge(4,5)\n",
    "\n",
    "g.print_matrix()"
   ]
  },
  {
   "cell_type": "code",
   "execution_count": 27,
   "id": "46584b30-d74a-4e68-bfa4-cccf9f53b596",
   "metadata": {},
   "outputs": [
    {
     "name": "stdout",
     "output_type": "stream",
     "text": [
      "Vertex list = [1, 2, 3, 4, 5, 6]\n",
      "[0, 0, 0, 0, 0, 0, 0]\n",
      "[0, 0, 1, 1, 1, 0, 0]\n",
      "[0, 1, 0, 1, 0, 0, 0]\n",
      "[0, 1, 1, 0, 1, 1, 0]\n",
      "[0, 1, 0, 1, 0, 1, 0]\n",
      "[0, 0, 0, 1, 1, 0, 1]\n",
      "[0, 0, 0, 0, 0, 1, 0]\n"
     ]
    }
   ],
   "source": [
    "g.add_vertex(6)\n",
    "g.add_edge(5,6)\n",
    "g.print_matrix()"
   ]
  },
  {
   "cell_type": "code",
   "execution_count": 28,
   "id": "14a5092b-9af7-40cb-9c7a-960eb669b9bd",
   "metadata": {},
   "outputs": [
    {
     "name": "stdout",
     "output_type": "stream",
     "text": [
      "Vertex list = [1, 2, 3, 4, 5]\n",
      "[0, 0, 0, 0, 0, 0]\n",
      "[0, 0, 1, 1, 1, 0]\n",
      "[0, 1, 0, 1, 0, 0]\n",
      "[0, 1, 1, 0, 1, 0]\n",
      "[0, 1, 0, 1, 0, 0]\n",
      "[0, 0, 0, 0, 0, 0]\n"
     ]
    }
   ],
   "source": [
    "g.remove_vertex(6)\n",
    "g.print_matrix()"
   ]
  },
  {
   "attachments": {},
   "cell_type": "markdown",
   "id": "ef15a45b-18ea-43aa-b879-f8f676f59542",
   "metadata": {},
   "source": [
    "# weighted Graph\n",
    "<img src=\"../images/Screenshot 2025-03-17 at 9.25.17 PM.png\"/>"
   ]
  },
  {
   "cell_type": "code",
   "execution_count": 25,
   "id": "9c1576dc-d040-4375-95a7-b0862bd4c28f",
   "metadata": {},
   "outputs": [
    {
     "name": "stdout",
     "output_type": "stream",
     "text": [
      "Vertex list = [1, 2, 3, 4, 5]\n",
      "[0, 0, 0, 0, 0, 0]\n",
      "[0, 0, 9, 4, 6, 0]\n",
      "[0, 9, 0, 5, 0, 0]\n",
      "[0, 4, 5, 0, 8, 7]\n",
      "[0, 6, 0, 8, 0, 2]\n",
      "[0, 0, 0, 7, 2, 0]\n"
     ]
    }
   ],
   "source": [
    "v = [1,2,3,4,5]\n",
    "g = GraphUndirectedAdjMatrix(v)\n",
    "\n",
    "g.add_edge(1,2,9)\n",
    "g.add_edge(1,3,4)\n",
    "g.add_edge(1,4,6)\n",
    "g.add_edge(2,3,5)\n",
    "g.add_edge(3,4,8)\n",
    "g.add_edge(3,5,7)\n",
    "g.add_edge(4,5,2)\n",
    "\n",
    "g.print_matrix()"
   ]
  },
  {
   "cell_type": "code",
   "execution_count": null,
   "id": "b0244e49-e6d4-46fe-90b7-9e74e8145839",
   "metadata": {},
   "outputs": [],
   "source": [
    "class GraphAdjList:\n",
    "    def __init__(self):\n",
    "        self.adj_list = {}\n",
    "        se\n",
    "\n",
    "    def "
   ]
  },
  {
   "cell_type": "code",
   "execution_count": 30,
   "id": "867730b5-e432-4fa3-921e-34aa1b9d99a2",
   "metadata": {},
   "outputs": [
    {
     "ename": "TypeError",
     "evalue": "object of type 'types.GenericAlias' has no len()",
     "output_type": "error",
     "traceback": [
      "\u001b[0;31m---------------------------------------------------------------------------\u001b[0m",
      "\u001b[0;31mTypeError\u001b[0m                                 Traceback (most recent call last)",
      "Cell \u001b[0;32mIn[30], line 2\u001b[0m\n\u001b[1;32m      1\u001b[0m k \u001b[38;5;241m=\u001b[39m \u001b[38;5;28mdict\u001b[39m[\u001b[38;5;241m3\u001b[39m,[\u001b[38;5;241m10\u001b[39m,\u001b[38;5;241m2\u001b[39m]]\n\u001b[0;32m----> 2\u001b[0m \u001b[38;5;28;43mlen\u001b[39;49m\u001b[43m(\u001b[49m\u001b[43mk\u001b[49m\u001b[43m)\u001b[49m\n",
      "\u001b[0;31mTypeError\u001b[0m: object of type 'types.GenericAlias' has no len()"
     ]
    }
   ],
   "source": [
    "k = dict[3,[10,2]]\n",
    "len(k)\n"
   ]
  },
  {
   "cell_type": "code",
   "execution_count": null,
   "id": "7dd84392-d9dd-43b0-ae23-aa7d3478b0e6",
   "metadata": {},
   "outputs": [],
   "source": [
    "class GraphAdjList:\n",
    "    \"\"\"Undirected graph class based on adjacency list\"\"\"\n",
    "\n",
    "    def __init__(self, edges: list[list[Vertex]]):\n",
    "        \"\"\"Constructor\"\"\"\n",
    "        # Adjacency list, key: vertex, value: all adjacent vertices of that vertex\n",
    "        self.adj_list = dict[Vertex, list[Vertex]]()\n",
    "        # Add all vertices and edges\n",
    "        for edge in edges:\n",
    "            self.add_vertex(edge[0])\n",
    "            self.add_vertex(edge[1])\n",
    "            self.add_edge(edge[0], edge[1])\n",
    "\n",
    "    def size(self) -> int:\n",
    "        \"\"\"Get the number of vertices\"\"\"\n",
    "        return len(self.adj_list)\n",
    "\n",
    "    def add_edge(self, vet1: Vertex, vet2: Vertex):\n",
    "        \"\"\"Add edge\"\"\"\n",
    "        if vet1 not in self.adj_list or vet2 not in self.adj_list or vet1 == vet2:\n",
    "            raise ValueError()\n",
    "        # Add edge vet1 - vet2\n",
    "        self.adj_list[vet1].append(vet2)\n",
    "        self.adj_list[vet2].append(vet1)\n",
    "\n",
    "    def remove_edge(self, vet1: Vertex, vet2: Vertex):\n",
    "        \"\"\"Remove edge\"\"\"\n",
    "        if vet1 not in self.adj_list or vet2 not in self.adj_list or vet1 == vet2:\n",
    "            raise ValueError()\n",
    "        # Remove edge vet1 - vet2\n",
    "        self.adj_list[vet1].remove(vet2)\n",
    "        self.adj_list[vet2].remove(vet1)\n",
    "\n",
    "    def add_vertex(self, vet: Vertex):\n",
    "        \"\"\"Add vertex\"\"\"\n",
    "        if vet in self.adj_list:\n",
    "            return\n",
    "        # Add a new linked list to the adjacency list\n",
    "        self.adj_list[vet] = []\n",
    "\n",
    "    def remove_vertex(self, vet: Vertex):\n",
    "        \"\"\"Remove vertex\"\"\"\n",
    "        if vet not in self.adj_list:\n",
    "            raise ValueError()\n",
    "        # Remove the vertex vet's corresponding linked list from the adjacency list\n",
    "        self.adj_list.pop(vet)\n",
    "        # Traverse other vertices' linked lists, removing all edges containing vet\n",
    "        for vertex in self.adj_list:\n",
    "            if vet in self.adj_list[vertex]:\n",
    "                self.adj_list[vertex].remove(vet)\n",
    "\n",
    "    def print(self):\n",
    "        \"\"\"Print the adjacency list\"\"\"\n",
    "        print(\"Adjacency list =\")\n",
    "        for vertex in self.adj_list:\n",
    "            tmp = [v.val for v in self.adj_list[vertex]]\n",
    "            print(f\"{vertex.val}: {tmp},\")"
   ]
  }
 ],
 "metadata": {
  "kernelspec": {
   "display_name": "Python 3 (ipykernel)",
   "language": "python",
   "name": "python3"
  },
  "language_info": {
   "codemirror_mode": {
    "name": "ipython",
    "version": 3
   },
   "file_extension": ".py",
   "mimetype": "text/x-python",
   "name": "python",
   "nbconvert_exporter": "python",
   "pygments_lexer": "ipython3",
   "version": "3.13.1"
  }
 },
 "nbformat": 4,
 "nbformat_minor": 5
}
