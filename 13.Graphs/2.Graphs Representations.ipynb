{
 "cells": [
  {
   "cell_type": "markdown",
   "id": "a0e49d87-cfc2-4b40-b3dc-85216b612110",
   "metadata": {},
   "source": [
    "# Graphs Representations"
   ]
  },
  {
   "attachments": {},
   "cell_type": "markdown",
   "id": "1b471ed2-4389-403f-a4b3-eed4e85b15ff",
   "metadata": {},
   "source": [
    "<img src=\"../images/Screenshot 2025-03-17 at 8.41.40 PM.png\"/>"
   ]
  },
  {
   "cell_type": "code",
   "execution_count": 42,
   "id": "c0fe7aef-8950-45cb-ad78-5c4b8bb2fd34",
   "metadata": {},
   "outputs": [],
   "source": [
    "class GraphAdjMatrix:\n",
    "    def __init__(self,vertices):\n",
    "        self.vertices = vertices\n",
    "        self.v = len(self.vertices)+1\n",
    "        self.adj_mat = [[0] * self.v for _ in range(self.v)] \n",
    "\n",
    "    def add_edge(self,i,j,w=1):\n",
    "        if (i <= 0) or (j <= 0) or (i > self.v) or (j > self.v):\n",
    "            raise IndexError()\n",
    "        self.adj_mat[i][j] = w\n",
    "        self.adj_mat[j][i] = w\n",
    "\n",
    "    def remove_edge(self,i,j):\n",
    "        if (i <= 0) or (j <= 0) or (i > self.v) or (j > self.v):\n",
    "            raise IndexError()\n",
    "        self.adj_mat[i][j] = 0\n",
    "        self.adj_mat[j][i] = 0\n",
    "\n",
    "    def add_vertex(self,val):\n",
    "        self.vertices.append(val)\n",
    "        self.v = len(self.vertices)\n",
    "        \n",
    "        # Add a column to the adjacency matrix\n",
    "        for row in self.adj_mat:\n",
    "            row.append(0)\n",
    "            \n",
    "        # Add a row to the adjacency matrix\n",
    "        new_row = [0] * (self.v+1)\n",
    "        self.adj_mat.append(new_row)\n",
    "\n",
    "    def remove_vertex(self,val):\n",
    "        ind = self.vertices.index(val)\n",
    "\n",
    "        if ind >= self.v or ind < 0:\n",
    "            raise IndexError()\n",
    "\n",
    "        # Remove vertex at `index` from the vertex list\n",
    "        self.vertices.pop(ind)\n",
    "\n",
    "        # Remove the row at `index` from the adjacency matrix\n",
    "        self.adj_mat.pop(ind)\n",
    "\n",
    "        # Remove the column at `index` from the adjacency matrix\n",
    "        for row in self.adj_mat:\n",
    "            row.pop(ind)\n",
    "\n",
    "    def print_matrix(self):\n",
    "        \"\"\"Print adjacency matrix\"\"\"\n",
    "        print(\"Vertex list =\", self.vertices)\n",
    "        for row in self.adj_mat:\n",
    "            print(row)\n",
    "        "
   ]
  },
  {
   "cell_type": "markdown",
   "id": "9efe2d25-c0f7-48c1-b311-e4008741ce57",
   "metadata": {},
   "source": [
    "# Undirected graph\n",
    "<img src=\"../images/Screenshot 2025-03-17 at 9.19.43 PM.png\"/>"
   ]
  },
  {
   "cell_type": "code",
   "execution_count": 43,
   "id": "39ac600e-6dc7-4bc8-9ff6-aa42a13916ba",
   "metadata": {},
   "outputs": [
    {
     "name": "stdout",
     "output_type": "stream",
     "text": [
      "Vertex list = [1, 2, 3, 4, 5]\n",
      "[0, 0, 0, 0, 0, 0]\n",
      "[0, 0, 1, 1, 1, 0]\n",
      "[0, 1, 0, 1, 0, 0]\n",
      "[0, 1, 1, 0, 1, 1]\n",
      "[0, 1, 0, 1, 0, 1]\n",
      "[0, 0, 0, 1, 1, 0]\n"
     ]
    }
   ],
   "source": [
    "v = [1,2,3,4,5]\n",
    "g = GraphAdjMatrix(v)\n",
    "\n",
    "g.add_edge(1,2)\n",
    "g.add_edge(1,3)\n",
    "g.add_edge(1,4)\n",
    "g.add_edge(2,3)\n",
    "g.add_edge(3,4)\n",
    "g.add_edge(3,5)\n",
    "g.add_edge(4,5)\n",
    "\n",
    "g.print_matrix()"
   ]
  },
  {
   "cell_type": "code",
   "execution_count": 44,
   "id": "46584b30-d74a-4e68-bfa4-cccf9f53b596",
   "metadata": {},
   "outputs": [
    {
     "name": "stdout",
     "output_type": "stream",
     "text": [
      "Vertex list = [1, 2, 3, 4, 5, 6]\n",
      "[0, 0, 0, 0, 0, 0, 0]\n",
      "[0, 0, 1, 1, 1, 0, 0]\n",
      "[0, 1, 0, 1, 0, 0, 0]\n",
      "[0, 1, 1, 0, 1, 1, 0]\n",
      "[0, 1, 0, 1, 0, 1, 0]\n",
      "[0, 0, 0, 1, 1, 0, 1]\n",
      "[0, 0, 0, 0, 0, 1, 0]\n"
     ]
    }
   ],
   "source": [
    "g.add_vertex(6)\n",
    "g.add_edge(5,6)\n",
    "g.print_matrix()"
   ]
  },
  {
   "cell_type": "code",
   "execution_count": 45,
   "id": "14a5092b-9af7-40cb-9c7a-960eb669b9bd",
   "metadata": {},
   "outputs": [
    {
     "name": "stdout",
     "output_type": "stream",
     "text": [
      "Vertex list = [1, 2, 3, 4, 5]\n",
      "[0, 0, 0, 0, 0, 0]\n",
      "[0, 0, 1, 1, 1, 0]\n",
      "[0, 1, 0, 1, 0, 0]\n",
      "[0, 1, 1, 0, 1, 0]\n",
      "[0, 1, 0, 1, 0, 0]\n",
      "[0, 0, 0, 0, 0, 0]\n"
     ]
    }
   ],
   "source": [
    "g.remove_vertex(6)\n",
    "g.print_matrix()"
   ]
  },
  {
   "attachments": {},
   "cell_type": "markdown",
   "id": "ef15a45b-18ea-43aa-b879-f8f676f59542",
   "metadata": {},
   "source": [
    "# weighted Graph\n",
    "<img src=\"../images/Screenshot 2025-03-17 at 9.25.17 PM.png\"/>"
   ]
  },
  {
   "cell_type": "code",
   "execution_count": 46,
   "id": "9c1576dc-d040-4375-95a7-b0862bd4c28f",
   "metadata": {},
   "outputs": [
    {
     "name": "stdout",
     "output_type": "stream",
     "text": [
      "Vertex list = [1, 2, 3, 4, 5]\n",
      "[0, 0, 0, 0, 0, 0]\n",
      "[0, 0, 9, 4, 6, 0]\n",
      "[0, 9, 0, 5, 0, 0]\n",
      "[0, 4, 5, 0, 8, 7]\n",
      "[0, 6, 0, 8, 0, 2]\n",
      "[0, 0, 0, 7, 2, 0]\n"
     ]
    }
   ],
   "source": [
    "v = [1,2,3,4,5]\n",
    "g = GraphUndirectedAdjMatrix(v)\n",
    "\n",
    "g.add_edge(1,2,9)\n",
    "g.add_edge(1,3,4)\n",
    "g.add_edge(1,4,6)\n",
    "g.add_edge(2,3,5)\n",
    "g.add_edge(3,4,8)\n",
    "g.add_edge(3,5,7)\n",
    "g.add_edge(4,5,2)\n",
    "\n",
    "g.print_matrix()"
   ]
  },
  {
   "cell_type": "markdown",
   "id": "3df27d69-bb03-4faf-9f9a-2c5bb59e2abd",
   "metadata": {},
   "source": [
    "# Graph Adjancecy List"
   ]
  },
  {
   "cell_type": "code",
   "execution_count": 76,
   "id": "b05e402c-7d4e-4197-9e2f-f86dabe10442",
   "metadata": {},
   "outputs": [],
   "source": [
    "class GraphAdjList:\n",
    "\n",
    "    def __init__(self):\n",
    "        self.adj_list = {}\n",
    "\n",
    "    def add_edge(self,vertex1,vertex2,weight=1):\n",
    "        if vertex1 not in self.adj_list or vertex2 not in self.adj_list:\n",
    "            raise ValueError()\n",
    "        self.adj_list[vertex1].append(vertex2)\n",
    "        self.adj_list[vertex2].append(vertex1)\n",
    "\n",
    "    def remove_edge(self,vertex1,vertex2):\n",
    "        if vertex1 not in self.adj_list or vertex2 not in self.adj_list:\n",
    "            raise ValueError()\n",
    "        self.adj_list[vertex1].remove(vertex2)\n",
    "        self.adj_list[vertex2].remove(vertex1)\n",
    "\n",
    "\n",
    "    def add_vertex(self,val):\n",
    "        if val in self.adj_list:\n",
    "            return\n",
    "        self.adj_list[val] = []\n",
    "\n",
    "    def remove_vertex(self,val):\n",
    "        if val not in self.adj_list:\n",
    "            raise ValueError()\n",
    "        # Remove the vertex vet's corresponding linked list from the adjacency list\n",
    "        self.adj_list.pop(val)\n",
    "        # Traverse other vertices' linked lists, removing all edges containing vet\n",
    "        for vertex in self.adj_list:\n",
    "            if val in self.adj_list[vertex]:\n",
    "                self.adj_list[vertex].remove(val)\n",
    "        \n",
    "    def display(self):\n",
    "        \"\"\"Print the adjacency list\"\"\"\n",
    "        print(\"Adjacency list =\")\n",
    "        for vertex in self.adj_list:\n",
    "            tmp = [v for v in self.adj_list[vertex]]\n",
    "            print(f\"{vertex}: {tmp}\")"
   ]
  },
  {
   "cell_type": "code",
   "execution_count": 77,
   "id": "f288d325-347c-4b92-8e49-1e97ccbed35e",
   "metadata": {},
   "outputs": [
    {
     "name": "stdout",
     "output_type": "stream",
     "text": [
      "Adjacency list =\n",
      "1: [2, 3, 4]\n",
      "2: [1, 3]\n",
      "3: [1, 2, 4, 5]\n",
      "4: [1, 3, 5]\n",
      "5: [3, 4]\n"
     ]
    }
   ],
   "source": [
    "g = GraphAdjList()\n",
    "vertices = [1,2,3,4,5]\n",
    "for v in vertices:\n",
    "    g.add_vertex(v)\n",
    "\n",
    "g.add_edge(1,2)\n",
    "g.add_edge(1,3)\n",
    "g.add_edge(1,4)\n",
    "g.add_edge(2,3)\n",
    "g.add_edge(3,4)\n",
    "g.add_edge(3,5)\n",
    "g.add_edge(4,5)\n",
    "g.display()"
   ]
  },
  {
   "cell_type": "code",
   "execution_count": 78,
   "id": "3ce534f4-03c4-4afd-b4a2-58e7c3651528",
   "metadata": {},
   "outputs": [
    {
     "name": "stdout",
     "output_type": "stream",
     "text": [
      "Adjacency list =\n",
      "1: [2, 3, 4]\n",
      "2: [1, 3]\n",
      "3: [1, 2, 4, 5]\n",
      "4: [1, 3, 5]\n",
      "5: [3, 4, 6]\n",
      "6: [5]\n"
     ]
    }
   ],
   "source": [
    "g.add_vertex(6)\n",
    "g.add_edge(5,6)\n",
    "g.display()"
   ]
  },
  {
   "cell_type": "code",
   "execution_count": 79,
   "id": "307c7657-a815-44cb-8456-36a619081f8a",
   "metadata": {},
   "outputs": [
    {
     "name": "stdout",
     "output_type": "stream",
     "text": [
      "Adjacency list =\n",
      "1: [2, 3, 4]\n",
      "2: [1, 3]\n",
      "3: [1, 2, 4, 5]\n",
      "4: [1, 3, 5]\n",
      "5: [3, 4]\n"
     ]
    }
   ],
   "source": [
    "g.remove_vertex(6)\n",
    "g.display()"
   ]
  },
  {
   "cell_type": "markdown",
   "id": "98461059-2016-4ba6-88eb-92e66714e50a",
   "metadata": {},
   "source": [
    "# weighted Graph"
   ]
  },
  {
   "cell_type": "code",
   "execution_count": 80,
   "id": "016f62a9-6452-49b5-8c77-57a9aa370195",
   "metadata": {},
   "outputs": [],
   "source": [
    "class GraphAdjList:\n",
    "\n",
    "    def __init__(self):\n",
    "        self.adj_list = {}\n",
    "\n",
    "    def add_edge(self, vertex1, vertex2, weight=1):\n",
    "        if vertex1 not in self.adj_list or vertex2 not in self.adj_list:\n",
    "            raise ValueError()\n",
    "        self.adj_list[vertex1].append((vertex2, weight))\n",
    "        self.adj_list[vertex2].append((vertex1, weight))\n",
    "\n",
    "    def remove_edge(self, vertex1, vertex2):\n",
    "        if vertex1 not in self.adj_list or vertex2 not in self.adj_list:\n",
    "            raise ValueError()\n",
    "        self.adj_list[vertex1] = [(v, w) for v, w in self.adj_list[vertex1] if v != vertex2]\n",
    "        self.adj_list[vertex2] = [(v, w) for v, w in self.adj_list[vertex2] if v != vertex1]\n",
    "\n",
    "    def add_vertex(self, val):\n",
    "        if val in self.adj_list:\n",
    "            return\n",
    "        self.adj_list[val] = []\n",
    "\n",
    "    def remove_vertex(self, val):\n",
    "        if val not in self.adj_list:\n",
    "            raise ValueError()\n",
    "        # Remove the vertex val's corresponding linked list from the adjacency list\n",
    "        self.adj_list.pop(val)\n",
    "        # Traverse other vertices' linked lists, removing all edges containing val\n",
    "        for vertex in self.adj_list:\n",
    "            self.adj_list[vertex] = [(v, w) for v, w in self.adj_list[vertex] if v != val]\n",
    "    \n",
    "    def display(self):\n",
    "        \"\"\"Print the adjacency list\"\"\"\n",
    "        print(\"Adjacency list =\")\n",
    "        for vertex in self.adj_list:\n",
    "            print(f\"{vertex}: {self.adj_list[vertex]}\")\n"
   ]
  },
  {
   "cell_type": "code",
   "execution_count": 82,
   "id": "f9f2efc6-df9c-4646-97b9-e383b13cf6d0",
   "metadata": {},
   "outputs": [
    {
     "name": "stdout",
     "output_type": "stream",
     "text": [
      "Adjacency list =\n",
      "1: [(2, 9), (3, 4), (4, 6)]\n",
      "2: [(1, 9), (3, 5)]\n",
      "3: [(1, 4), (2, 5), (4, 8), (5, 7)]\n",
      "4: [(1, 6), (3, 8), (5, 2)]\n",
      "5: [(3, 7), (4, 2)]\n"
     ]
    }
   ],
   "source": [
    "g = GraphAdjList()\n",
    "vertices = [1,2,3,4,5]\n",
    "for v in vertices:\n",
    "    g.add_vertex(v)\n",
    "\n",
    "g.add_edge(1,2,9)\n",
    "g.add_edge(1,3,4)\n",
    "g.add_edge(1,4,6)\n",
    "g.add_edge(2,3,5)\n",
    "g.add_edge(3,4,8)\n",
    "g.add_edge(3,5,7)\n",
    "g.add_edge(4,5,2)\n",
    "g.display()"
   ]
  },
  {
   "cell_type": "code",
   "execution_count": null,
   "id": "579eefe1-75aa-4b58-ab8a-c1ff396c1ae4",
   "metadata": {},
   "outputs": [],
   "source": []
  }
 ],
 "metadata": {
  "kernelspec": {
   "display_name": "Python 3 (ipykernel)",
   "language": "python",
   "name": "python3"
  },
  "language_info": {
   "codemirror_mode": {
    "name": "ipython",
    "version": 3
   },
   "file_extension": ".py",
   "mimetype": "text/x-python",
   "name": "python",
   "nbconvert_exporter": "python",
   "pygments_lexer": "ipython3",
   "version": "3.13.1"
  }
 },
 "nbformat": 4,
 "nbformat_minor": 5
}
